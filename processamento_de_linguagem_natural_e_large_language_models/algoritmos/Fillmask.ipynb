{
  "nbformat": 4,
  "nbformat_minor": 0,
  "metadata": {
    "colab": {
      "provenance": []
    },
    "kernelspec": {
      "name": "python3",
      "display_name": "Python 3"
    },
    "language_info": {
      "name": "python"
    }
  },
  "cells": [
    {
      "cell_type": "code",
      "execution_count": null,
      "metadata": {
        "id": "Wsx7W859erqU"
      },
      "outputs": [],
      "source": [
        "!pip install transformers"
      ]
    },
    {
      "cell_type": "code",
      "source": [
        "import transformers\n",
        "from transformers import pipeline"
      ],
      "metadata": {
        "id": "IBbeDI1leyMe"
      },
      "execution_count": 2,
      "outputs": []
    },
    {
      "cell_type": "code",
      "source": [
        "mascarar = pipeline(\"fill-mask\", model = \"neuralmind/bert-base-portuguese-cased\")\n",
        "texto = mascarar(\"Existe uma chance do corpo cair no [MASK]\")\n",
        "\n",
        "for x in range (len(texto)):\n",
        "  print(texto[x])"
      ],
      "metadata": {
        "colab": {
          "base_uri": "https://localhost:8080/"
        },
        "id": "j6kJcj4me8Q1",
        "outputId": "729450b7-3768-4970-eb18-a76b7dabb63e"
      },
      "execution_count": 5,
      "outputs": [
        {
          "output_type": "stream",
          "name": "stderr",
          "text": [
            "Some weights of the model checkpoint at neuralmind/bert-base-portuguese-cased were not used when initializing BertForMaskedLM: ['bert.pooler.dense.weight', 'cls.seq_relationship.weight', 'cls.seq_relationship.bias', 'bert.pooler.dense.bias']\n",
            "- This IS expected if you are initializing BertForMaskedLM from the checkpoint of a model trained on another task or with another architecture (e.g. initializing a BertForSequenceClassification model from a BertForPreTraining model).\n",
            "- This IS NOT expected if you are initializing BertForMaskedLM from the checkpoint of a model that you expect to be exactly identical (initializing a BertForSequenceClassification model from a BertForSequenceClassification model).\n"
          ]
        },
        {
          "output_type": "stream",
          "name": "stdout",
          "text": [
            "{'score': 0.37377503514289856, 'token': 8105, 'token_str': 'chão', 'sequence': 'Existe uma chance do corpo cair no chão'}\n",
            "{'score': 0.14707399904727936, 'token': 528, 'token_str': 'mar', 'sequence': 'Existe uma chance do corpo cair no mar'}\n",
            "{'score': 0.04820087552070618, 'token': 2187, 'token_str': 'rio', 'sequence': 'Existe uma chance do corpo cair no rio'}\n",
            "{'score': 0.0342278778553009, 'token': 8096, 'token_str': 'gelo', 'sequence': 'Existe uma chance do corpo cair no gelo'}\n",
            "{'score': 0.021673357114195824, 'token': 15213, 'token_str': 'buraco', 'sequence': 'Existe uma chance do corpo cair no buraco'}\n"
          ]
        }
      ]
    },
    {
      "cell_type": "code",
      "source": [
        "texto = mascarar([\"Existe uma chance do corpo cair no [MASK]\", \"Brasília é a capital do [MASK]\"])\n",
        "\n",
        "for x in range (len(texto)):\n",
        "  print(texto[x])"
      ],
      "metadata": {
        "colab": {
          "base_uri": "https://localhost:8080/"
        },
        "id": "2FzzZWMmf7RU",
        "outputId": "67ba67d9-9af1-4e37-9721-4b0c712db65b"
      },
      "execution_count": 6,
      "outputs": [
        {
          "output_type": "stream",
          "name": "stdout",
          "text": [
            "[{'score': 0.37377503514289856, 'token': 8105, 'token_str': 'chão', 'sequence': 'Existe uma chance do corpo cair no chão'}, {'score': 0.14707399904727936, 'token': 528, 'token_str': 'mar', 'sequence': 'Existe uma chance do corpo cair no mar'}, {'score': 0.04820087552070618, 'token': 2187, 'token_str': 'rio', 'sequence': 'Existe uma chance do corpo cair no rio'}, {'score': 0.0342278778553009, 'token': 8096, 'token_str': 'gelo', 'sequence': 'Existe uma chance do corpo cair no gelo'}, {'score': 0.021673357114195824, 'token': 15213, 'token_str': 'buraco', 'sequence': 'Existe uma chance do corpo cair no buraco'}]\n",
            "[{'score': 0.5167422294616699, 'token': 771, 'token_str': 'Brasil', 'sequence': 'Brasília é a capital do Brasil'}, {'score': 0.19815507531166077, 'token': 806, 'token_str': 'país', 'sequence': 'Brasília é a capital do país'}, {'score': 0.037647198885679245, 'token': 4953, 'token_str': 'País', 'sequence': 'Brasília é a capital do País'}, {'score': 0.024318639189004898, 'token': 1147, 'token_str': 'mundo', 'sequence': 'Brasília é a capital do mundo'}, {'score': 0.015301602892577648, 'token': 2200, 'token_str': 'futebol', 'sequence': 'Brasília é a capital do futebol'}]\n"
          ]
        }
      ]
    }
  ]
}