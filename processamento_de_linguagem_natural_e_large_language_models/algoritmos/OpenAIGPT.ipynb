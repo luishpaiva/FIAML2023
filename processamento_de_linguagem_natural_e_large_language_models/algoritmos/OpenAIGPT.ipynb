{
  "nbformat": 4,
  "nbformat_minor": 0,
  "metadata": {
    "colab": {
      "provenance": []
    },
    "kernelspec": {
      "name": "python3",
      "display_name": "Python 3"
    },
    "language_info": {
      "name": "python"
    }
  },
  "cells": [
    {
      "cell_type": "code",
      "execution_count": null,
      "metadata": {
        "id": "kkKb5VESkktL"
      },
      "outputs": [],
      "source": [
        "!pip install openai"
      ]
    },
    {
      "cell_type": "code",
      "source": [
        "import openai\n",
        "openai.api_key = \"chave_da_openai\""
      ],
      "metadata": {
        "id": "zpzRXfjpkqkk"
      },
      "execution_count": null,
      "outputs": []
    },
    {
      "cell_type": "code",
      "source": [
        "response = openai.ChatCompletion.create(\n",
        "    model = \"gpt-3.5-turbo\",\n",
        "    temperature = 0,\n",
        "    messages = [\n",
        "        {\"role\":\"system\", \"content\":\"Você está respondendo perguntas\"},\n",
        "        {\"role\":\"user\", \"content\":\"Quem foi Carl Sagan\"},\n",
        "        {\"role\":\"assistant\", \"content\":\"Carl Sagan foi um cientista\"},\n",
        "        {\"role\":\"user\", \"content\":\"Quais livros ele publicou?\"},\n",
        "    ]\n",
        ")\n",
        "\n",
        "print(response['choices'][0]['message']['content'])"
      ],
      "metadata": {
        "id": "8bZJqs-UlGTI"
      },
      "execution_count": null,
      "outputs": []
    },
    {
      "cell_type": "code",
      "source": [],
      "metadata": {
        "id": "x-_OLcUbmpsM"
      },
      "execution_count": null,
      "outputs": []
    }
  ]
}