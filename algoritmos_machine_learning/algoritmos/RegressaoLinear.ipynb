{
  "nbformat": 4,
  "nbformat_minor": 0,
  "metadata": {
    "colab": {
      "provenance": []
    },
    "kernelspec": {
      "name": "python3",
      "display_name": "Python 3"
    },
    "language_info": {
      "name": "python"
    }
  },
  "cells": [
    {
      "cell_type": "code",
      "execution_count": 4,
      "metadata": {
        "id": "crp85fYGIT25"
      },
      "outputs": [],
      "source": [
        "from numpy import *\n",
        "\n",
        "class LinearRegression:\n",
        "  def __init__(self, x, y):\n",
        "    self.x = x\n",
        "    self.y = y\n",
        "    self.__correlation_coeficient = self.__correlacao()\n",
        "    self.__inclination = self.__inclinacao()\n",
        "    self.__intercept = self.__interceptacao()\n",
        "\n",
        "  def __correlacao(self):\n",
        "    covariacao = cov(self.x, self.y, bias = True)[0][1]\n",
        "    variancia_x = var(self.x)\n",
        "    variancia_y = var(self.y)\n",
        "    return covariacao / sqrt(variancia_x * variancia_y)\n",
        "\n",
        "  def __inclinacao(self):\n",
        "    stdx = std(self.x)\n",
        "    stdy = std(self.y)\n",
        "    return self.__correlation_coeficient * (stdy / stdx)\n",
        "\n",
        "  def __interceptacao(self):\n",
        "    media_x = mean(self.x)\n",
        "    media_y = mean(self.y)\n",
        "    return media_y - media_x * self.__inclination\n",
        "\n",
        "  def previsao(self, valor):\n",
        "    return self.__intercept + (self.__inclination * valor)"
      ]
    },
    {
      "cell_type": "code",
      "source": [
        "x = array([1, 2, 3, 4, 5])\n",
        "y = array([2, 4, 6, 8, 10])\n",
        "\n",
        "lr = LinearRegression(x, y)\n",
        "\n",
        "previsao = lr.previsao(6)\n",
        "\n",
        "print(previsao)"
      ],
      "metadata": {
        "colab": {
          "base_uri": "https://localhost:8080/"
        },
        "id": "ouSQrkS3MOJP",
        "outputId": "960d5392-4835-4135-bca2-e61e4ab0819a"
      },
      "execution_count": 5,
      "outputs": [
        {
          "output_type": "stream",
          "name": "stdout",
          "text": [
            "12.0\n"
          ]
        }
      ]
    }
  ]
}