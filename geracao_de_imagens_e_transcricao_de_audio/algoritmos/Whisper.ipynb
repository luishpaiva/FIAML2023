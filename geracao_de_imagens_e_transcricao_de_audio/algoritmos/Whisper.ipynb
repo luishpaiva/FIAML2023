{
  "nbformat": 4,
  "nbformat_minor": 0,
  "metadata": {
    "colab": {
      "provenance": [],
      "gpuType": "T4"
    },
    "kernelspec": {
      "name": "python3",
      "display_name": "Python 3"
    },
    "language_info": {
      "name": "python"
    },
    "accelerator": "GPU"
  },
  "cells": [
    {
      "cell_type": "code",
      "execution_count": null,
      "metadata": {
        "id": "3SfyrpUfUqxm"
      },
      "outputs": [],
      "source": [
        "!pip install openai-whisper"
      ]
    },
    {
      "cell_type": "code",
      "source": [
        "import whisper\n",
        "import os"
      ],
      "metadata": {
        "id": "CVJ_khhXVBLn"
      },
      "execution_count": 2,
      "outputs": []
    },
    {
      "cell_type": "code",
      "source": [
        "modelo = whisper.load_model(\"base\")\n",
        "resultado = modelo.transcribe(\"teste.mp3\")\n",
        "\n",
        "texto = resultado['text']\n",
        "idioma = resultado['language']\n",
        "\n",
        "print(f'Transcrição: {texto} \\nIdioma: {idioma}')"
      ],
      "metadata": {
        "colab": {
          "base_uri": "https://localhost:8080/"
        },
        "id": "YGEawbi0VInU",
        "outputId": "60c22511-641e-4193-960e-9a20533b6884"
      },
      "execution_count": 4,
      "outputs": [
        {
          "output_type": "stream",
          "name": "stdout",
          "text": [
            "Transcrição:  Este é um pequeno arquivo de teste para inteligência artificial. \n",
            "Idioma: pt\n"
          ]
        }
      ]
    },
    {
      "cell_type": "code",
      "source": [
        "with open('arquivo.txt','w') as f:\n",
        "  f.write(f'{texto}')"
      ],
      "metadata": {
        "id": "MeTLOREdVoet"
      },
      "execution_count": 5,
      "outputs": []
    }
  ]
}