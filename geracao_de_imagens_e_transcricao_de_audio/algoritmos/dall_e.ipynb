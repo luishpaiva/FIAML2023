{
  "nbformat": 4,
  "nbformat_minor": 0,
  "metadata": {
    "colab": {
      "provenance": []
    },
    "kernelspec": {
      "name": "python3",
      "display_name": "Python 3"
    },
    "language_info": {
      "name": "python"
    }
  },
  "cells": [
    {
      "cell_type": "code",
      "execution_count": null,
      "metadata": {
        "id": "6dk2vp_TQ-S5"
      },
      "outputs": [],
      "source": [
        "!pip install openai"
      ]
    },
    {
      "cell_type": "code",
      "source": [
        "import openai"
      ],
      "metadata": {
        "id": "VUkuwEhFRC93"
      },
      "execution_count": 2,
      "outputs": []
    },
    {
      "cell_type": "code",
      "source": [
        "openai.api_key = 'sua_chave'"
      ],
      "metadata": {
        "id": "02ULliQRRFlQ"
      },
      "execution_count": 3,
      "outputs": []
    },
    {
      "cell_type": "code",
      "source": [
        "response = openai.Image.create(\n",
        "    prompt = \"Crie uma imagem de um computador antigo\",\n",
        "    size = \"256x256\",\n",
        "    n = 1,\n",
        "    response_format = \"url\"\n",
        ")\n",
        "\n",
        "print(response[\"data\"][0][\"url\"])"
      ],
      "metadata": {
        "id": "mZDPiaKURLUw"
      },
      "execution_count": null,
      "outputs": []
    },
    {
      "cell_type": "code",
      "source": [
        "response = openai.Image.create(\n",
        "    prompt = \"Crie uma imagem de um computador antigo\",\n",
        "    size = \"512x512\",\n",
        "    n = 1,\n",
        "    response_format = \"url\"\n",
        ")\n",
        "\n",
        "print(response[\"data\"][0][\"url\"])"
      ],
      "metadata": {
        "id": "aSBCyN2_R6xL"
      },
      "execution_count": null,
      "outputs": []
    },
    {
      "cell_type": "code",
      "source": [
        "response = openai.Image.create(\n",
        "    prompt = \"Crie uma imagem de um computador antigo\",\n",
        "    size = \"512x512\",\n",
        "    n = 2,\n",
        "    response_format = \"url\"\n",
        ")\n",
        "\n",
        "print(response[\"data\"][0][\"url\"])\n",
        "print(response[\"data\"][1][\"url\"])"
      ],
      "metadata": {
        "id": "VQcX8AlcSDcR"
      },
      "execution_count": null,
      "outputs": []
    },
    {
      "cell_type": "code",
      "source": [
        "from io import BytesIO\n",
        "import requests\n",
        "from PIL import Image\n",
        "\n",
        "response = openai.Image.create(\n",
        "    prompt = \"Crie uma imagem de um computador antigo\",\n",
        "    size = \"512x512\",\n",
        "    n = 1,\n",
        "    response_format = \"url\"\n",
        ")\n",
        "\n",
        "response = requests.get(response[\"data\"][0][\"url\"])\n",
        "Image.open(BytesIO(response.content))"
      ],
      "metadata": {
        "id": "g758e4zbSSzw"
      },
      "execution_count": null,
      "outputs": []
    },
    {
      "cell_type": "code",
      "source": [
        "import base64\n",
        "from IPython.display import display\n",
        "\n",
        "response = openai.Image.create(\n",
        "    prompt = \"Crie uma imagem de um computador antigo\",\n",
        "    size = \"512x512\",\n",
        "    n = 1,\n",
        "    response_format = \"b64_json\"\n",
        ")\n",
        "\n",
        "imagem = response[\"data\"][0][\"b64_json\"]\n",
        "imagem = base64.b64decode(imagem)\n",
        "\n",
        "with open(\"computador.png\", \"wb\") as f:\n",
        "  f.write(imagem)\n",
        "\n",
        "display(Image.open(\"computador.png\"))"
      ],
      "metadata": {
        "id": "EvBDDKVdS2v1"
      },
      "execution_count": null,
      "outputs": []
    }
  ]
}