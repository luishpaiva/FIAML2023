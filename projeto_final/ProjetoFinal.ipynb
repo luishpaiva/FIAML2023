{
  "nbformat": 4,
  "nbformat_minor": 0,
  "metadata": {
    "colab": {
      "provenance": []
    },
    "kernelspec": {
      "name": "python3",
      "display_name": "Python 3"
    },
    "language_info": {
      "name": "python"
    }
  },
  "cells": [
    {
      "cell_type": "markdown",
      "source": [
        "## 1. Importação das Bibliotecas"
      ],
      "metadata": {
        "id": "y7uiqRHHUXsU"
      }
    },
    {
      "cell_type": "code",
      "execution_count": 116,
      "metadata": {
        "id": "MjXfARKCELvS"
      },
      "outputs": [],
      "source": [
        "import pandas as pd\n",
        "import numpy as np\n",
        "import matplotlib.pyplot as plt\n",
        "import seaborn as sns\n",
        "\n",
        "from sklearn.preprocessing import LabelEncoder, MinMaxScaler\n",
        "from sklearn.model_selection import train_test_split\n",
        "\n",
        "from sklearn.linear_model import LogisticRegression\n",
        "from sklearn.neighbors import KNeighborsClassifier\n",
        "from sklearn.svm import SVC\n",
        "from sklearn.tree import DecisionTreeClassifier\n",
        "from keras.models import Sequential\n",
        "from keras.layers import Dense, Dropout\n",
        "\n",
        "from sklearn.metrics import mean_squared_error\n",
        "from sklearn.metrics import accuracy_score\n",
        "from sklearn.metrics import precision_score\n",
        "from sklearn.metrics import f1_score\n",
        "from sklearn.metrics import recall_score\n",
        "from sklearn.metrics import confusion_matrix"
      ]
    },
    {
      "cell_type": "markdown",
      "source": [
        "## 2. Importação dos arquivos de treino, teste e validação"
      ],
      "metadata": {
        "id": "_B0BsiIxUiiL"
      }
    },
    {
      "cell_type": "code",
      "source": [
        "from google.colab import files\n",
        "files.upload()"
      ],
      "metadata": {
        "id": "uTJScPAzJMgU"
      },
      "execution_count": null,
      "outputs": []
    },
    {
      "cell_type": "markdown",
      "source": [
        "## 3. Pré-Processamento"
      ],
      "metadata": {
        "id": "kwNw4CfG7mul"
      }
    },
    {
      "cell_type": "code",
      "source": [
        "# Carregando os dados dos arquivos em um dataframe\n",
        "train = pd.read_csv(\"train.csv\", sep = \",\")\n",
        "test = pd.read_csv(\"test.csv\", sep = \",\")"
      ],
      "metadata": {
        "id": "7zzEwfsCBbII"
      },
      "execution_count": 3,
      "outputs": []
    },
    {
      "cell_type": "code",
      "source": [
        "train.shape"
      ],
      "metadata": {
        "colab": {
          "base_uri": "https://localhost:8080/"
        },
        "id": "XjvKWj0Nh4yB",
        "outputId": "bdf56c83-5a30-4ce6-c897-7269a0916cfb"
      },
      "execution_count": 49,
      "outputs": [
        {
          "output_type": "execute_result",
          "data": {
            "text/plain": [
              "(34189, 15)"
            ]
          },
          "metadata": {},
          "execution_count": 49
        }
      ]
    },
    {
      "cell_type": "code",
      "source": [
        "test.shape"
      ],
      "metadata": {
        "colab": {
          "base_uri": "https://localhost:8080/"
        },
        "id": "i8C04Ef9h8uG",
        "outputId": "e2c43b62-de26-4532-cd70-391f7209548e"
      },
      "execution_count": 50,
      "outputs": [
        {
          "output_type": "execute_result",
          "data": {
            "text/plain": [
              "(7327, 15)"
            ]
          },
          "metadata": {},
          "execution_count": 50
        }
      ]
    },
    {
      "cell_type": "code",
      "source": [
        "# Concatenando os conjuntos de treino e de teste para poder fazer o\n",
        "# pré-processamento uma única vez\n",
        "df = pd.concat([train, test])"
      ],
      "metadata": {
        "id": "QUoqcLuImlmb"
      },
      "execution_count": 4,
      "outputs": []
    },
    {
      "cell_type": "markdown",
      "source": [
        "### 3.1. Conhecendo o conjunto de dados"
      ],
      "metadata": {
        "id": "Y8ymBA9LBHfL"
      }
    },
    {
      "cell_type": "code",
      "source": [
        "# Visualizando uma parte aletória do conjunto para identificar valores\n",
        "# não adequados\n",
        "df.sample(10)"
      ],
      "metadata": {
        "colab": {
          "base_uri": "https://localhost:8080/",
          "height": 554
        },
        "id": "HjdLYcqrCPAz",
        "outputId": "d8d48077-dcab-4e2e-a244-193702e321f7"
      },
      "execution_count": 5,
      "outputs": [
        {
          "output_type": "execute_result",
          "data": {
            "text/plain": [
              "       age         workclass  fnlwgt     education  educational-num  \\\n",
              "18827   65         Local-gov  205024       HS-grad                9   \n",
              "12436   52           Private  174964       HS-grad                9   \n",
              "34179   38           Private  210610    Assoc-acdm               12   \n",
              "3703    29           Private  203697     Bachelors               13   \n",
              "27816   53           Private  132304       HS-grad                9   \n",
              "8555    57         Local-gov  190748  Some-college               10   \n",
              "2066    43           Private  112763       HS-grad                9   \n",
              "18169   59           Private  169611       HS-grad                9   \n",
              "20451   37           Private  126569       HS-grad                9   \n",
              "10559   57  Self-emp-not-inc  149168  Some-college               10   \n",
              "\n",
              "           marital-status         occupation   relationship   race  gender  \\\n",
              "18827  Married-civ-spouse      Other-service        Husband  White    Male   \n",
              "12436  Married-civ-spouse              Sales        Husband  White    Male   \n",
              "34179  Married-civ-spouse       Tech-support        Husband  White    Male   \n",
              "3703   Married-civ-spouse     Prof-specialty      Own-child  White    Male   \n",
              "27816            Divorced  Machine-op-inspct  Not-in-family  White  Female   \n",
              "8555             Divorced    Exec-managerial      Unmarried  White  Female   \n",
              "2066        Never-married       Adm-clerical      Unmarried  White  Female   \n",
              "18169            Divorced              Sales      Unmarried  White  Female   \n",
              "20451       Never-married       Craft-repair      Own-child  White    Male   \n",
              "10559  Married-civ-spouse    Exec-managerial        Husband  White    Male   \n",
              "\n",
              "       capital-gain  capital-loss  hours-per-week native-country income  \n",
              "18827             0             0               8  United-States  <=50K  \n",
              "12436             0             0              40  United-States   >50K  \n",
              "34179             0             0              40  United-States   >50K  \n",
              "3703              0             0              75  United-States  <=50K  \n",
              "27816             0             0              40       Scotland  <=50K  \n",
              "8555              0             0              35  United-States  <=50K  \n",
              "2066           8614             0              43  United-States   >50K  \n",
              "18169             0             0              40  United-States  <=50K  \n",
              "20451             0             0              40  United-States  <=50K  \n",
              "10559             0             0              55  United-States  <=50K  "
            ],
            "text/html": [
              "\n",
              "  <div id=\"df-f35f0318-f6cf-428c-90a6-c4344c561b4e\" class=\"colab-df-container\">\n",
              "    <div>\n",
              "<style scoped>\n",
              "    .dataframe tbody tr th:only-of-type {\n",
              "        vertical-align: middle;\n",
              "    }\n",
              "\n",
              "    .dataframe tbody tr th {\n",
              "        vertical-align: top;\n",
              "    }\n",
              "\n",
              "    .dataframe thead th {\n",
              "        text-align: right;\n",
              "    }\n",
              "</style>\n",
              "<table border=\"1\" class=\"dataframe\">\n",
              "  <thead>\n",
              "    <tr style=\"text-align: right;\">\n",
              "      <th></th>\n",
              "      <th>age</th>\n",
              "      <th>workclass</th>\n",
              "      <th>fnlwgt</th>\n",
              "      <th>education</th>\n",
              "      <th>educational-num</th>\n",
              "      <th>marital-status</th>\n",
              "      <th>occupation</th>\n",
              "      <th>relationship</th>\n",
              "      <th>race</th>\n",
              "      <th>gender</th>\n",
              "      <th>capital-gain</th>\n",
              "      <th>capital-loss</th>\n",
              "      <th>hours-per-week</th>\n",
              "      <th>native-country</th>\n",
              "      <th>income</th>\n",
              "    </tr>\n",
              "  </thead>\n",
              "  <tbody>\n",
              "    <tr>\n",
              "      <th>18827</th>\n",
              "      <td>65</td>\n",
              "      <td>Local-gov</td>\n",
              "      <td>205024</td>\n",
              "      <td>HS-grad</td>\n",
              "      <td>9</td>\n",
              "      <td>Married-civ-spouse</td>\n",
              "      <td>Other-service</td>\n",
              "      <td>Husband</td>\n",
              "      <td>White</td>\n",
              "      <td>Male</td>\n",
              "      <td>0</td>\n",
              "      <td>0</td>\n",
              "      <td>8</td>\n",
              "      <td>United-States</td>\n",
              "      <td>&lt;=50K</td>\n",
              "    </tr>\n",
              "    <tr>\n",
              "      <th>12436</th>\n",
              "      <td>52</td>\n",
              "      <td>Private</td>\n",
              "      <td>174964</td>\n",
              "      <td>HS-grad</td>\n",
              "      <td>9</td>\n",
              "      <td>Married-civ-spouse</td>\n",
              "      <td>Sales</td>\n",
              "      <td>Husband</td>\n",
              "      <td>White</td>\n",
              "      <td>Male</td>\n",
              "      <td>0</td>\n",
              "      <td>0</td>\n",
              "      <td>40</td>\n",
              "      <td>United-States</td>\n",
              "      <td>&gt;50K</td>\n",
              "    </tr>\n",
              "    <tr>\n",
              "      <th>34179</th>\n",
              "      <td>38</td>\n",
              "      <td>Private</td>\n",
              "      <td>210610</td>\n",
              "      <td>Assoc-acdm</td>\n",
              "      <td>12</td>\n",
              "      <td>Married-civ-spouse</td>\n",
              "      <td>Tech-support</td>\n",
              "      <td>Husband</td>\n",
              "      <td>White</td>\n",
              "      <td>Male</td>\n",
              "      <td>0</td>\n",
              "      <td>0</td>\n",
              "      <td>40</td>\n",
              "      <td>United-States</td>\n",
              "      <td>&gt;50K</td>\n",
              "    </tr>\n",
              "    <tr>\n",
              "      <th>3703</th>\n",
              "      <td>29</td>\n",
              "      <td>Private</td>\n",
              "      <td>203697</td>\n",
              "      <td>Bachelors</td>\n",
              "      <td>13</td>\n",
              "      <td>Married-civ-spouse</td>\n",
              "      <td>Prof-specialty</td>\n",
              "      <td>Own-child</td>\n",
              "      <td>White</td>\n",
              "      <td>Male</td>\n",
              "      <td>0</td>\n",
              "      <td>0</td>\n",
              "      <td>75</td>\n",
              "      <td>United-States</td>\n",
              "      <td>&lt;=50K</td>\n",
              "    </tr>\n",
              "    <tr>\n",
              "      <th>27816</th>\n",
              "      <td>53</td>\n",
              "      <td>Private</td>\n",
              "      <td>132304</td>\n",
              "      <td>HS-grad</td>\n",
              "      <td>9</td>\n",
              "      <td>Divorced</td>\n",
              "      <td>Machine-op-inspct</td>\n",
              "      <td>Not-in-family</td>\n",
              "      <td>White</td>\n",
              "      <td>Female</td>\n",
              "      <td>0</td>\n",
              "      <td>0</td>\n",
              "      <td>40</td>\n",
              "      <td>Scotland</td>\n",
              "      <td>&lt;=50K</td>\n",
              "    </tr>\n",
              "    <tr>\n",
              "      <th>8555</th>\n",
              "      <td>57</td>\n",
              "      <td>Local-gov</td>\n",
              "      <td>190748</td>\n",
              "      <td>Some-college</td>\n",
              "      <td>10</td>\n",
              "      <td>Divorced</td>\n",
              "      <td>Exec-managerial</td>\n",
              "      <td>Unmarried</td>\n",
              "      <td>White</td>\n",
              "      <td>Female</td>\n",
              "      <td>0</td>\n",
              "      <td>0</td>\n",
              "      <td>35</td>\n",
              "      <td>United-States</td>\n",
              "      <td>&lt;=50K</td>\n",
              "    </tr>\n",
              "    <tr>\n",
              "      <th>2066</th>\n",
              "      <td>43</td>\n",
              "      <td>Private</td>\n",
              "      <td>112763</td>\n",
              "      <td>HS-grad</td>\n",
              "      <td>9</td>\n",
              "      <td>Never-married</td>\n",
              "      <td>Adm-clerical</td>\n",
              "      <td>Unmarried</td>\n",
              "      <td>White</td>\n",
              "      <td>Female</td>\n",
              "      <td>8614</td>\n",
              "      <td>0</td>\n",
              "      <td>43</td>\n",
              "      <td>United-States</td>\n",
              "      <td>&gt;50K</td>\n",
              "    </tr>\n",
              "    <tr>\n",
              "      <th>18169</th>\n",
              "      <td>59</td>\n",
              "      <td>Private</td>\n",
              "      <td>169611</td>\n",
              "      <td>HS-grad</td>\n",
              "      <td>9</td>\n",
              "      <td>Divorced</td>\n",
              "      <td>Sales</td>\n",
              "      <td>Unmarried</td>\n",
              "      <td>White</td>\n",
              "      <td>Female</td>\n",
              "      <td>0</td>\n",
              "      <td>0</td>\n",
              "      <td>40</td>\n",
              "      <td>United-States</td>\n",
              "      <td>&lt;=50K</td>\n",
              "    </tr>\n",
              "    <tr>\n",
              "      <th>20451</th>\n",
              "      <td>37</td>\n",
              "      <td>Private</td>\n",
              "      <td>126569</td>\n",
              "      <td>HS-grad</td>\n",
              "      <td>9</td>\n",
              "      <td>Never-married</td>\n",
              "      <td>Craft-repair</td>\n",
              "      <td>Own-child</td>\n",
              "      <td>White</td>\n",
              "      <td>Male</td>\n",
              "      <td>0</td>\n",
              "      <td>0</td>\n",
              "      <td>40</td>\n",
              "      <td>United-States</td>\n",
              "      <td>&lt;=50K</td>\n",
              "    </tr>\n",
              "    <tr>\n",
              "      <th>10559</th>\n",
              "      <td>57</td>\n",
              "      <td>Self-emp-not-inc</td>\n",
              "      <td>149168</td>\n",
              "      <td>Some-college</td>\n",
              "      <td>10</td>\n",
              "      <td>Married-civ-spouse</td>\n",
              "      <td>Exec-managerial</td>\n",
              "      <td>Husband</td>\n",
              "      <td>White</td>\n",
              "      <td>Male</td>\n",
              "      <td>0</td>\n",
              "      <td>0</td>\n",
              "      <td>55</td>\n",
              "      <td>United-States</td>\n",
              "      <td>&lt;=50K</td>\n",
              "    </tr>\n",
              "  </tbody>\n",
              "</table>\n",
              "</div>\n",
              "    <div class=\"colab-df-buttons\">\n",
              "\n",
              "  <div class=\"colab-df-container\">\n",
              "    <button class=\"colab-df-convert\" onclick=\"convertToInteractive('df-f35f0318-f6cf-428c-90a6-c4344c561b4e')\"\n",
              "            title=\"Convert this dataframe to an interactive table.\"\n",
              "            style=\"display:none;\">\n",
              "\n",
              "  <svg xmlns=\"http://www.w3.org/2000/svg\" height=\"24px\" viewBox=\"0 -960 960 960\">\n",
              "    <path d=\"M120-120v-720h720v720H120Zm60-500h600v-160H180v160Zm220 220h160v-160H400v160Zm0 220h160v-160H400v160ZM180-400h160v-160H180v160Zm440 0h160v-160H620v160ZM180-180h160v-160H180v160Zm440 0h160v-160H620v160Z\"/>\n",
              "  </svg>\n",
              "    </button>\n",
              "\n",
              "  <style>\n",
              "    .colab-df-container {\n",
              "      display:flex;\n",
              "      gap: 12px;\n",
              "    }\n",
              "\n",
              "    .colab-df-convert {\n",
              "      background-color: #E8F0FE;\n",
              "      border: none;\n",
              "      border-radius: 50%;\n",
              "      cursor: pointer;\n",
              "      display: none;\n",
              "      fill: #1967D2;\n",
              "      height: 32px;\n",
              "      padding: 0 0 0 0;\n",
              "      width: 32px;\n",
              "    }\n",
              "\n",
              "    .colab-df-convert:hover {\n",
              "      background-color: #E2EBFA;\n",
              "      box-shadow: 0px 1px 2px rgba(60, 64, 67, 0.3), 0px 1px 3px 1px rgba(60, 64, 67, 0.15);\n",
              "      fill: #174EA6;\n",
              "    }\n",
              "\n",
              "    .colab-df-buttons div {\n",
              "      margin-bottom: 4px;\n",
              "    }\n",
              "\n",
              "    [theme=dark] .colab-df-convert {\n",
              "      background-color: #3B4455;\n",
              "      fill: #D2E3FC;\n",
              "    }\n",
              "\n",
              "    [theme=dark] .colab-df-convert:hover {\n",
              "      background-color: #434B5C;\n",
              "      box-shadow: 0px 1px 3px 1px rgba(0, 0, 0, 0.15);\n",
              "      filter: drop-shadow(0px 1px 2px rgba(0, 0, 0, 0.3));\n",
              "      fill: #FFFFFF;\n",
              "    }\n",
              "  </style>\n",
              "\n",
              "    <script>\n",
              "      const buttonEl =\n",
              "        document.querySelector('#df-f35f0318-f6cf-428c-90a6-c4344c561b4e button.colab-df-convert');\n",
              "      buttonEl.style.display =\n",
              "        google.colab.kernel.accessAllowed ? 'block' : 'none';\n",
              "\n",
              "      async function convertToInteractive(key) {\n",
              "        const element = document.querySelector('#df-f35f0318-f6cf-428c-90a6-c4344c561b4e');\n",
              "        const dataTable =\n",
              "          await google.colab.kernel.invokeFunction('convertToInteractive',\n",
              "                                                    [key], {});\n",
              "        if (!dataTable) return;\n",
              "\n",
              "        const docLinkHtml = 'Like what you see? Visit the ' +\n",
              "          '<a target=\"_blank\" href=https://colab.research.google.com/notebooks/data_table.ipynb>data table notebook</a>'\n",
              "          + ' to learn more about interactive tables.';\n",
              "        element.innerHTML = '';\n",
              "        dataTable['output_type'] = 'display_data';\n",
              "        await google.colab.output.renderOutput(dataTable, element);\n",
              "        const docLink = document.createElement('div');\n",
              "        docLink.innerHTML = docLinkHtml;\n",
              "        element.appendChild(docLink);\n",
              "      }\n",
              "    </script>\n",
              "  </div>\n",
              "\n",
              "\n",
              "<div id=\"df-97daccb1-91eb-4da7-b2a2-1fc0a7a649e6\">\n",
              "  <button class=\"colab-df-quickchart\" onclick=\"quickchart('df-97daccb1-91eb-4da7-b2a2-1fc0a7a649e6')\"\n",
              "            title=\"Suggest charts.\"\n",
              "            style=\"display:none;\">\n",
              "\n",
              "<svg xmlns=\"http://www.w3.org/2000/svg\" height=\"24px\"viewBox=\"0 0 24 24\"\n",
              "     width=\"24px\">\n",
              "    <g>\n",
              "        <path d=\"M19 3H5c-1.1 0-2 .9-2 2v14c0 1.1.9 2 2 2h14c1.1 0 2-.9 2-2V5c0-1.1-.9-2-2-2zM9 17H7v-7h2v7zm4 0h-2V7h2v10zm4 0h-2v-4h2v4z\"/>\n",
              "    </g>\n",
              "</svg>\n",
              "  </button>\n",
              "\n",
              "<style>\n",
              "  .colab-df-quickchart {\n",
              "      --bg-color: #E8F0FE;\n",
              "      --fill-color: #1967D2;\n",
              "      --hover-bg-color: #E2EBFA;\n",
              "      --hover-fill-color: #174EA6;\n",
              "      --disabled-fill-color: #AAA;\n",
              "      --disabled-bg-color: #DDD;\n",
              "  }\n",
              "\n",
              "  [theme=dark] .colab-df-quickchart {\n",
              "      --bg-color: #3B4455;\n",
              "      --fill-color: #D2E3FC;\n",
              "      --hover-bg-color: #434B5C;\n",
              "      --hover-fill-color: #FFFFFF;\n",
              "      --disabled-bg-color: #3B4455;\n",
              "      --disabled-fill-color: #666;\n",
              "  }\n",
              "\n",
              "  .colab-df-quickchart {\n",
              "    background-color: var(--bg-color);\n",
              "    border: none;\n",
              "    border-radius: 50%;\n",
              "    cursor: pointer;\n",
              "    display: none;\n",
              "    fill: var(--fill-color);\n",
              "    height: 32px;\n",
              "    padding: 0;\n",
              "    width: 32px;\n",
              "  }\n",
              "\n",
              "  .colab-df-quickchart:hover {\n",
              "    background-color: var(--hover-bg-color);\n",
              "    box-shadow: 0 1px 2px rgba(60, 64, 67, 0.3), 0 1px 3px 1px rgba(60, 64, 67, 0.15);\n",
              "    fill: var(--button-hover-fill-color);\n",
              "  }\n",
              "\n",
              "  .colab-df-quickchart-complete:disabled,\n",
              "  .colab-df-quickchart-complete:disabled:hover {\n",
              "    background-color: var(--disabled-bg-color);\n",
              "    fill: var(--disabled-fill-color);\n",
              "    box-shadow: none;\n",
              "  }\n",
              "\n",
              "  .colab-df-spinner {\n",
              "    border: 2px solid var(--fill-color);\n",
              "    border-color: transparent;\n",
              "    border-bottom-color: var(--fill-color);\n",
              "    animation:\n",
              "      spin 1s steps(1) infinite;\n",
              "  }\n",
              "\n",
              "  @keyframes spin {\n",
              "    0% {\n",
              "      border-color: transparent;\n",
              "      border-bottom-color: var(--fill-color);\n",
              "      border-left-color: var(--fill-color);\n",
              "    }\n",
              "    20% {\n",
              "      border-color: transparent;\n",
              "      border-left-color: var(--fill-color);\n",
              "      border-top-color: var(--fill-color);\n",
              "    }\n",
              "    30% {\n",
              "      border-color: transparent;\n",
              "      border-left-color: var(--fill-color);\n",
              "      border-top-color: var(--fill-color);\n",
              "      border-right-color: var(--fill-color);\n",
              "    }\n",
              "    40% {\n",
              "      border-color: transparent;\n",
              "      border-right-color: var(--fill-color);\n",
              "      border-top-color: var(--fill-color);\n",
              "    }\n",
              "    60% {\n",
              "      border-color: transparent;\n",
              "      border-right-color: var(--fill-color);\n",
              "    }\n",
              "    80% {\n",
              "      border-color: transparent;\n",
              "      border-right-color: var(--fill-color);\n",
              "      border-bottom-color: var(--fill-color);\n",
              "    }\n",
              "    90% {\n",
              "      border-color: transparent;\n",
              "      border-bottom-color: var(--fill-color);\n",
              "    }\n",
              "  }\n",
              "</style>\n",
              "\n",
              "  <script>\n",
              "    async function quickchart(key) {\n",
              "      const quickchartButtonEl =\n",
              "        document.querySelector('#' + key + ' button');\n",
              "      quickchartButtonEl.disabled = true;  // To prevent multiple clicks.\n",
              "      quickchartButtonEl.classList.add('colab-df-spinner');\n",
              "      try {\n",
              "        const charts = await google.colab.kernel.invokeFunction(\n",
              "            'suggestCharts', [key], {});\n",
              "      } catch (error) {\n",
              "        console.error('Error during call to suggestCharts:', error);\n",
              "      }\n",
              "      quickchartButtonEl.classList.remove('colab-df-spinner');\n",
              "      quickchartButtonEl.classList.add('colab-df-quickchart-complete');\n",
              "    }\n",
              "    (() => {\n",
              "      let quickchartButtonEl =\n",
              "        document.querySelector('#df-97daccb1-91eb-4da7-b2a2-1fc0a7a649e6 button');\n",
              "      quickchartButtonEl.style.display =\n",
              "        google.colab.kernel.accessAllowed ? 'block' : 'none';\n",
              "    })();\n",
              "  </script>\n",
              "</div>\n",
              "    </div>\n",
              "  </div>\n"
            ]
          },
          "metadata": {},
          "execution_count": 5
        }
      ]
    },
    {
      "cell_type": "code",
      "source": [
        "df.shape"
      ],
      "metadata": {
        "colab": {
          "base_uri": "https://localhost:8080/"
        },
        "id": "ftUAm9quEUZa",
        "outputId": "7d0fe588-a6c1-4a19-ff7f-f8cf9dd3ce57"
      },
      "execution_count": 6,
      "outputs": [
        {
          "output_type": "execute_result",
          "data": {
            "text/plain": [
              "(41516, 15)"
            ]
          },
          "metadata": {},
          "execution_count": 6
        }
      ]
    },
    {
      "cell_type": "code",
      "source": [
        "df.info()"
      ],
      "metadata": {
        "colab": {
          "base_uri": "https://localhost:8080/"
        },
        "id": "p_QRxepi7o3p",
        "outputId": "af82b015-e957-4267-c4da-a086e6494851"
      },
      "execution_count": 7,
      "outputs": [
        {
          "output_type": "stream",
          "name": "stdout",
          "text": [
            "<class 'pandas.core.frame.DataFrame'>\n",
            "Int64Index: 41516 entries, 0 to 7326\n",
            "Data columns (total 15 columns):\n",
            " #   Column           Non-Null Count  Dtype \n",
            "---  ------           --------------  ----- \n",
            " 0   age              41516 non-null  int64 \n",
            " 1   workclass        41516 non-null  object\n",
            " 2   fnlwgt           41516 non-null  int64 \n",
            " 3   education        41516 non-null  object\n",
            " 4   educational-num  41516 non-null  int64 \n",
            " 5   marital-status   41516 non-null  object\n",
            " 6   occupation       41516 non-null  object\n",
            " 7   relationship     41516 non-null  object\n",
            " 8   race             41516 non-null  object\n",
            " 9   gender           41516 non-null  object\n",
            " 10  capital-gain     41516 non-null  int64 \n",
            " 11  capital-loss     41516 non-null  int64 \n",
            " 12  hours-per-week   41516 non-null  int64 \n",
            " 13  native-country   41516 non-null  object\n",
            " 14  income           41516 non-null  object\n",
            "dtypes: int64(6), object(9)\n",
            "memory usage: 5.1+ MB\n"
          ]
        }
      ]
    },
    {
      "cell_type": "code",
      "source": [
        "# Removendo a variável 'education', pois já se tem os valores em formato\n",
        "# numérico ('educational-num')\n",
        "df.drop(columns = 'education', inplace = True)"
      ],
      "metadata": {
        "id": "PTmXWa3peS5k"
      },
      "execution_count": 8,
      "outputs": []
    },
    {
      "cell_type": "code",
      "source": [
        "df"
      ],
      "metadata": {
        "colab": {
          "base_uri": "https://localhost:8080/",
          "height": 563
        },
        "id": "MxAuTaxIhQoa",
        "outputId": "cf5ca2c1-b370-4321-9cec-f7688d614e6f"
      },
      "execution_count": 9,
      "outputs": [
        {
          "output_type": "execute_result",
          "data": {
            "text/plain": [
              "      age         workclass  fnlwgt  educational-num      marital-status  \\\n",
              "0      25           Private  188767                9       Never-married   \n",
              "1      64           Private  286732                9             Widowed   \n",
              "2      29           Private  253801                9  Married-civ-spouse   \n",
              "3      28           Private  334032               11  Married-civ-spouse   \n",
              "4      22           Private  173004                9       Never-married   \n",
              "...   ...               ...     ...              ...                 ...   \n",
              "7322   42           Private  173704               10  Married-civ-spouse   \n",
              "7323   27           Private  220748                9       Never-married   \n",
              "7324   18           Private  186909               10       Never-married   \n",
              "7325   44  Self-emp-not-inc  127482                9  Married-civ-spouse   \n",
              "7326   39           Private  278632                9  Married-civ-spouse   \n",
              "\n",
              "             occupation    relationship   race  gender  capital-gain  \\\n",
              "0          Craft-repair       Own-child  White    Male             0   \n",
              "1                 Sales   Not-in-family  White  Female             0   \n",
              "2          Craft-repair         Husband  White    Male             0   \n",
              "3          Craft-repair         Husband  White    Male             0   \n",
              "4     Machine-op-inspct  Other-relative  Black    Male             0   \n",
              "...                 ...             ...    ...     ...           ...   \n",
              "7322              Sales         Husband  White    Male             0   \n",
              "7323  Handlers-cleaners  Other-relative  Black    Male             0   \n",
              "7324      Other-service       Own-child  White  Female             0   \n",
              "7325       Craft-repair         Husband  White    Male          7298   \n",
              "7326  Machine-op-inspct         Husband  White    Male             0   \n",
              "\n",
              "      capital-loss  hours-per-week native-country income  \n",
              "0                0              40  United-States  <=50K  \n",
              "1                0              17  United-States  <=50K  \n",
              "2                0              40        Ecuador  <=50K  \n",
              "3                0              50  United-States  <=50K  \n",
              "4                0               1  United-States  <=50K  \n",
              "...            ...             ...            ...    ...  \n",
              "7322          1887              50  United-States   >50K  \n",
              "7323             0              48  United-States  <=50K  \n",
              "7324             0              16  United-States  <=50K  \n",
              "7325             0              50        England   >50K  \n",
              "7326             0              40  United-States  <=50K  \n",
              "\n",
              "[41516 rows x 14 columns]"
            ],
            "text/html": [
              "\n",
              "  <div id=\"df-b472b2a1-f5fa-46b4-a181-50d47d0eaebb\" class=\"colab-df-container\">\n",
              "    <div>\n",
              "<style scoped>\n",
              "    .dataframe tbody tr th:only-of-type {\n",
              "        vertical-align: middle;\n",
              "    }\n",
              "\n",
              "    .dataframe tbody tr th {\n",
              "        vertical-align: top;\n",
              "    }\n",
              "\n",
              "    .dataframe thead th {\n",
              "        text-align: right;\n",
              "    }\n",
              "</style>\n",
              "<table border=\"1\" class=\"dataframe\">\n",
              "  <thead>\n",
              "    <tr style=\"text-align: right;\">\n",
              "      <th></th>\n",
              "      <th>age</th>\n",
              "      <th>workclass</th>\n",
              "      <th>fnlwgt</th>\n",
              "      <th>educational-num</th>\n",
              "      <th>marital-status</th>\n",
              "      <th>occupation</th>\n",
              "      <th>relationship</th>\n",
              "      <th>race</th>\n",
              "      <th>gender</th>\n",
              "      <th>capital-gain</th>\n",
              "      <th>capital-loss</th>\n",
              "      <th>hours-per-week</th>\n",
              "      <th>native-country</th>\n",
              "      <th>income</th>\n",
              "    </tr>\n",
              "  </thead>\n",
              "  <tbody>\n",
              "    <tr>\n",
              "      <th>0</th>\n",
              "      <td>25</td>\n",
              "      <td>Private</td>\n",
              "      <td>188767</td>\n",
              "      <td>9</td>\n",
              "      <td>Never-married</td>\n",
              "      <td>Craft-repair</td>\n",
              "      <td>Own-child</td>\n",
              "      <td>White</td>\n",
              "      <td>Male</td>\n",
              "      <td>0</td>\n",
              "      <td>0</td>\n",
              "      <td>40</td>\n",
              "      <td>United-States</td>\n",
              "      <td>&lt;=50K</td>\n",
              "    </tr>\n",
              "    <tr>\n",
              "      <th>1</th>\n",
              "      <td>64</td>\n",
              "      <td>Private</td>\n",
              "      <td>286732</td>\n",
              "      <td>9</td>\n",
              "      <td>Widowed</td>\n",
              "      <td>Sales</td>\n",
              "      <td>Not-in-family</td>\n",
              "      <td>White</td>\n",
              "      <td>Female</td>\n",
              "      <td>0</td>\n",
              "      <td>0</td>\n",
              "      <td>17</td>\n",
              "      <td>United-States</td>\n",
              "      <td>&lt;=50K</td>\n",
              "    </tr>\n",
              "    <tr>\n",
              "      <th>2</th>\n",
              "      <td>29</td>\n",
              "      <td>Private</td>\n",
              "      <td>253801</td>\n",
              "      <td>9</td>\n",
              "      <td>Married-civ-spouse</td>\n",
              "      <td>Craft-repair</td>\n",
              "      <td>Husband</td>\n",
              "      <td>White</td>\n",
              "      <td>Male</td>\n",
              "      <td>0</td>\n",
              "      <td>0</td>\n",
              "      <td>40</td>\n",
              "      <td>Ecuador</td>\n",
              "      <td>&lt;=50K</td>\n",
              "    </tr>\n",
              "    <tr>\n",
              "      <th>3</th>\n",
              "      <td>28</td>\n",
              "      <td>Private</td>\n",
              "      <td>334032</td>\n",
              "      <td>11</td>\n",
              "      <td>Married-civ-spouse</td>\n",
              "      <td>Craft-repair</td>\n",
              "      <td>Husband</td>\n",
              "      <td>White</td>\n",
              "      <td>Male</td>\n",
              "      <td>0</td>\n",
              "      <td>0</td>\n",
              "      <td>50</td>\n",
              "      <td>United-States</td>\n",
              "      <td>&lt;=50K</td>\n",
              "    </tr>\n",
              "    <tr>\n",
              "      <th>4</th>\n",
              "      <td>22</td>\n",
              "      <td>Private</td>\n",
              "      <td>173004</td>\n",
              "      <td>9</td>\n",
              "      <td>Never-married</td>\n",
              "      <td>Machine-op-inspct</td>\n",
              "      <td>Other-relative</td>\n",
              "      <td>Black</td>\n",
              "      <td>Male</td>\n",
              "      <td>0</td>\n",
              "      <td>0</td>\n",
              "      <td>1</td>\n",
              "      <td>United-States</td>\n",
              "      <td>&lt;=50K</td>\n",
              "    </tr>\n",
              "    <tr>\n",
              "      <th>...</th>\n",
              "      <td>...</td>\n",
              "      <td>...</td>\n",
              "      <td>...</td>\n",
              "      <td>...</td>\n",
              "      <td>...</td>\n",
              "      <td>...</td>\n",
              "      <td>...</td>\n",
              "      <td>...</td>\n",
              "      <td>...</td>\n",
              "      <td>...</td>\n",
              "      <td>...</td>\n",
              "      <td>...</td>\n",
              "      <td>...</td>\n",
              "      <td>...</td>\n",
              "    </tr>\n",
              "    <tr>\n",
              "      <th>7322</th>\n",
              "      <td>42</td>\n",
              "      <td>Private</td>\n",
              "      <td>173704</td>\n",
              "      <td>10</td>\n",
              "      <td>Married-civ-spouse</td>\n",
              "      <td>Sales</td>\n",
              "      <td>Husband</td>\n",
              "      <td>White</td>\n",
              "      <td>Male</td>\n",
              "      <td>0</td>\n",
              "      <td>1887</td>\n",
              "      <td>50</td>\n",
              "      <td>United-States</td>\n",
              "      <td>&gt;50K</td>\n",
              "    </tr>\n",
              "    <tr>\n",
              "      <th>7323</th>\n",
              "      <td>27</td>\n",
              "      <td>Private</td>\n",
              "      <td>220748</td>\n",
              "      <td>9</td>\n",
              "      <td>Never-married</td>\n",
              "      <td>Handlers-cleaners</td>\n",
              "      <td>Other-relative</td>\n",
              "      <td>Black</td>\n",
              "      <td>Male</td>\n",
              "      <td>0</td>\n",
              "      <td>0</td>\n",
              "      <td>48</td>\n",
              "      <td>United-States</td>\n",
              "      <td>&lt;=50K</td>\n",
              "    </tr>\n",
              "    <tr>\n",
              "      <th>7324</th>\n",
              "      <td>18</td>\n",
              "      <td>Private</td>\n",
              "      <td>186909</td>\n",
              "      <td>10</td>\n",
              "      <td>Never-married</td>\n",
              "      <td>Other-service</td>\n",
              "      <td>Own-child</td>\n",
              "      <td>White</td>\n",
              "      <td>Female</td>\n",
              "      <td>0</td>\n",
              "      <td>0</td>\n",
              "      <td>16</td>\n",
              "      <td>United-States</td>\n",
              "      <td>&lt;=50K</td>\n",
              "    </tr>\n",
              "    <tr>\n",
              "      <th>7325</th>\n",
              "      <td>44</td>\n",
              "      <td>Self-emp-not-inc</td>\n",
              "      <td>127482</td>\n",
              "      <td>9</td>\n",
              "      <td>Married-civ-spouse</td>\n",
              "      <td>Craft-repair</td>\n",
              "      <td>Husband</td>\n",
              "      <td>White</td>\n",
              "      <td>Male</td>\n",
              "      <td>7298</td>\n",
              "      <td>0</td>\n",
              "      <td>50</td>\n",
              "      <td>England</td>\n",
              "      <td>&gt;50K</td>\n",
              "    </tr>\n",
              "    <tr>\n",
              "      <th>7326</th>\n",
              "      <td>39</td>\n",
              "      <td>Private</td>\n",
              "      <td>278632</td>\n",
              "      <td>9</td>\n",
              "      <td>Married-civ-spouse</td>\n",
              "      <td>Machine-op-inspct</td>\n",
              "      <td>Husband</td>\n",
              "      <td>White</td>\n",
              "      <td>Male</td>\n",
              "      <td>0</td>\n",
              "      <td>0</td>\n",
              "      <td>40</td>\n",
              "      <td>United-States</td>\n",
              "      <td>&lt;=50K</td>\n",
              "    </tr>\n",
              "  </tbody>\n",
              "</table>\n",
              "<p>41516 rows × 14 columns</p>\n",
              "</div>\n",
              "    <div class=\"colab-df-buttons\">\n",
              "\n",
              "  <div class=\"colab-df-container\">\n",
              "    <button class=\"colab-df-convert\" onclick=\"convertToInteractive('df-b472b2a1-f5fa-46b4-a181-50d47d0eaebb')\"\n",
              "            title=\"Convert this dataframe to an interactive table.\"\n",
              "            style=\"display:none;\">\n",
              "\n",
              "  <svg xmlns=\"http://www.w3.org/2000/svg\" height=\"24px\" viewBox=\"0 -960 960 960\">\n",
              "    <path d=\"M120-120v-720h720v720H120Zm60-500h600v-160H180v160Zm220 220h160v-160H400v160Zm0 220h160v-160H400v160ZM180-400h160v-160H180v160Zm440 0h160v-160H620v160ZM180-180h160v-160H180v160Zm440 0h160v-160H620v160Z\"/>\n",
              "  </svg>\n",
              "    </button>\n",
              "\n",
              "  <style>\n",
              "    .colab-df-container {\n",
              "      display:flex;\n",
              "      gap: 12px;\n",
              "    }\n",
              "\n",
              "    .colab-df-convert {\n",
              "      background-color: #E8F0FE;\n",
              "      border: none;\n",
              "      border-radius: 50%;\n",
              "      cursor: pointer;\n",
              "      display: none;\n",
              "      fill: #1967D2;\n",
              "      height: 32px;\n",
              "      padding: 0 0 0 0;\n",
              "      width: 32px;\n",
              "    }\n",
              "\n",
              "    .colab-df-convert:hover {\n",
              "      background-color: #E2EBFA;\n",
              "      box-shadow: 0px 1px 2px rgba(60, 64, 67, 0.3), 0px 1px 3px 1px rgba(60, 64, 67, 0.15);\n",
              "      fill: #174EA6;\n",
              "    }\n",
              "\n",
              "    .colab-df-buttons div {\n",
              "      margin-bottom: 4px;\n",
              "    }\n",
              "\n",
              "    [theme=dark] .colab-df-convert {\n",
              "      background-color: #3B4455;\n",
              "      fill: #D2E3FC;\n",
              "    }\n",
              "\n",
              "    [theme=dark] .colab-df-convert:hover {\n",
              "      background-color: #434B5C;\n",
              "      box-shadow: 0px 1px 3px 1px rgba(0, 0, 0, 0.15);\n",
              "      filter: drop-shadow(0px 1px 2px rgba(0, 0, 0, 0.3));\n",
              "      fill: #FFFFFF;\n",
              "    }\n",
              "  </style>\n",
              "\n",
              "    <script>\n",
              "      const buttonEl =\n",
              "        document.querySelector('#df-b472b2a1-f5fa-46b4-a181-50d47d0eaebb button.colab-df-convert');\n",
              "      buttonEl.style.display =\n",
              "        google.colab.kernel.accessAllowed ? 'block' : 'none';\n",
              "\n",
              "      async function convertToInteractive(key) {\n",
              "        const element = document.querySelector('#df-b472b2a1-f5fa-46b4-a181-50d47d0eaebb');\n",
              "        const dataTable =\n",
              "          await google.colab.kernel.invokeFunction('convertToInteractive',\n",
              "                                                    [key], {});\n",
              "        if (!dataTable) return;\n",
              "\n",
              "        const docLinkHtml = 'Like what you see? Visit the ' +\n",
              "          '<a target=\"_blank\" href=https://colab.research.google.com/notebooks/data_table.ipynb>data table notebook</a>'\n",
              "          + ' to learn more about interactive tables.';\n",
              "        element.innerHTML = '';\n",
              "        dataTable['output_type'] = 'display_data';\n",
              "        await google.colab.output.renderOutput(dataTable, element);\n",
              "        const docLink = document.createElement('div');\n",
              "        docLink.innerHTML = docLinkHtml;\n",
              "        element.appendChild(docLink);\n",
              "      }\n",
              "    </script>\n",
              "  </div>\n",
              "\n",
              "\n",
              "<div id=\"df-d77af20b-9ac2-4bd3-b771-e35bc19bd072\">\n",
              "  <button class=\"colab-df-quickchart\" onclick=\"quickchart('df-d77af20b-9ac2-4bd3-b771-e35bc19bd072')\"\n",
              "            title=\"Suggest charts.\"\n",
              "            style=\"display:none;\">\n",
              "\n",
              "<svg xmlns=\"http://www.w3.org/2000/svg\" height=\"24px\"viewBox=\"0 0 24 24\"\n",
              "     width=\"24px\">\n",
              "    <g>\n",
              "        <path d=\"M19 3H5c-1.1 0-2 .9-2 2v14c0 1.1.9 2 2 2h14c1.1 0 2-.9 2-2V5c0-1.1-.9-2-2-2zM9 17H7v-7h2v7zm4 0h-2V7h2v10zm4 0h-2v-4h2v4z\"/>\n",
              "    </g>\n",
              "</svg>\n",
              "  </button>\n",
              "\n",
              "<style>\n",
              "  .colab-df-quickchart {\n",
              "      --bg-color: #E8F0FE;\n",
              "      --fill-color: #1967D2;\n",
              "      --hover-bg-color: #E2EBFA;\n",
              "      --hover-fill-color: #174EA6;\n",
              "      --disabled-fill-color: #AAA;\n",
              "      --disabled-bg-color: #DDD;\n",
              "  }\n",
              "\n",
              "  [theme=dark] .colab-df-quickchart {\n",
              "      --bg-color: #3B4455;\n",
              "      --fill-color: #D2E3FC;\n",
              "      --hover-bg-color: #434B5C;\n",
              "      --hover-fill-color: #FFFFFF;\n",
              "      --disabled-bg-color: #3B4455;\n",
              "      --disabled-fill-color: #666;\n",
              "  }\n",
              "\n",
              "  .colab-df-quickchart {\n",
              "    background-color: var(--bg-color);\n",
              "    border: none;\n",
              "    border-radius: 50%;\n",
              "    cursor: pointer;\n",
              "    display: none;\n",
              "    fill: var(--fill-color);\n",
              "    height: 32px;\n",
              "    padding: 0;\n",
              "    width: 32px;\n",
              "  }\n",
              "\n",
              "  .colab-df-quickchart:hover {\n",
              "    background-color: var(--hover-bg-color);\n",
              "    box-shadow: 0 1px 2px rgba(60, 64, 67, 0.3), 0 1px 3px 1px rgba(60, 64, 67, 0.15);\n",
              "    fill: var(--button-hover-fill-color);\n",
              "  }\n",
              "\n",
              "  .colab-df-quickchart-complete:disabled,\n",
              "  .colab-df-quickchart-complete:disabled:hover {\n",
              "    background-color: var(--disabled-bg-color);\n",
              "    fill: var(--disabled-fill-color);\n",
              "    box-shadow: none;\n",
              "  }\n",
              "\n",
              "  .colab-df-spinner {\n",
              "    border: 2px solid var(--fill-color);\n",
              "    border-color: transparent;\n",
              "    border-bottom-color: var(--fill-color);\n",
              "    animation:\n",
              "      spin 1s steps(1) infinite;\n",
              "  }\n",
              "\n",
              "  @keyframes spin {\n",
              "    0% {\n",
              "      border-color: transparent;\n",
              "      border-bottom-color: var(--fill-color);\n",
              "      border-left-color: var(--fill-color);\n",
              "    }\n",
              "    20% {\n",
              "      border-color: transparent;\n",
              "      border-left-color: var(--fill-color);\n",
              "      border-top-color: var(--fill-color);\n",
              "    }\n",
              "    30% {\n",
              "      border-color: transparent;\n",
              "      border-left-color: var(--fill-color);\n",
              "      border-top-color: var(--fill-color);\n",
              "      border-right-color: var(--fill-color);\n",
              "    }\n",
              "    40% {\n",
              "      border-color: transparent;\n",
              "      border-right-color: var(--fill-color);\n",
              "      border-top-color: var(--fill-color);\n",
              "    }\n",
              "    60% {\n",
              "      border-color: transparent;\n",
              "      border-right-color: var(--fill-color);\n",
              "    }\n",
              "    80% {\n",
              "      border-color: transparent;\n",
              "      border-right-color: var(--fill-color);\n",
              "      border-bottom-color: var(--fill-color);\n",
              "    }\n",
              "    90% {\n",
              "      border-color: transparent;\n",
              "      border-bottom-color: var(--fill-color);\n",
              "    }\n",
              "  }\n",
              "</style>\n",
              "\n",
              "  <script>\n",
              "    async function quickchart(key) {\n",
              "      const quickchartButtonEl =\n",
              "        document.querySelector('#' + key + ' button');\n",
              "      quickchartButtonEl.disabled = true;  // To prevent multiple clicks.\n",
              "      quickchartButtonEl.classList.add('colab-df-spinner');\n",
              "      try {\n",
              "        const charts = await google.colab.kernel.invokeFunction(\n",
              "            'suggestCharts', [key], {});\n",
              "      } catch (error) {\n",
              "        console.error('Error during call to suggestCharts:', error);\n",
              "      }\n",
              "      quickchartButtonEl.classList.remove('colab-df-spinner');\n",
              "      quickchartButtonEl.classList.add('colab-df-quickchart-complete');\n",
              "    }\n",
              "    (() => {\n",
              "      let quickchartButtonEl =\n",
              "        document.querySelector('#df-d77af20b-9ac2-4bd3-b771-e35bc19bd072 button');\n",
              "      quickchartButtonEl.style.display =\n",
              "        google.colab.kernel.accessAllowed ? 'block' : 'none';\n",
              "    })();\n",
              "  </script>\n",
              "</div>\n",
              "    </div>\n",
              "  </div>\n"
            ]
          },
          "metadata": {},
          "execution_count": 9
        }
      ]
    },
    {
      "cell_type": "markdown",
      "source": [
        "### 3.2. Tratamento de valores ausentes (NaN)"
      ],
      "metadata": {
        "id": "QhQDepx1DOQc"
      }
    },
    {
      "cell_type": "code",
      "source": [
        "# Verificando o total de valores nulos\n",
        "df.isnull().sum()"
      ],
      "metadata": {
        "colab": {
          "base_uri": "https://localhost:8080/"
        },
        "id": "1paDXteIC0tj",
        "outputId": "022d25bb-53d3-4eaa-c793-fcb3a6322f66"
      },
      "execution_count": 10,
      "outputs": [
        {
          "output_type": "execute_result",
          "data": {
            "text/plain": [
              "age                0\n",
              "workclass          0\n",
              "fnlwgt             0\n",
              "educational-num    0\n",
              "marital-status     0\n",
              "occupation         0\n",
              "relationship       0\n",
              "race               0\n",
              "gender             0\n",
              "capital-gain       0\n",
              "capital-loss       0\n",
              "hours-per-week     0\n",
              "native-country     0\n",
              "income             0\n",
              "dtype: int64"
            ]
          },
          "metadata": {},
          "execution_count": 10
        }
      ]
    },
    {
      "cell_type": "code",
      "source": [
        "# Como verificado no item 3, alguns valores estão demarcados como '?'\n",
        "# Verificando o total de valores '?'\n",
        "df.isin(['?']).sum()"
      ],
      "metadata": {
        "colab": {
          "base_uri": "https://localhost:8080/"
        },
        "id": "-j-CBnCzDabI",
        "outputId": "40d51ae7-067b-45c6-d745-b9a1da09ca3c"
      },
      "execution_count": 11,
      "outputs": [
        {
          "output_type": "execute_result",
          "data": {
            "text/plain": [
              "age                   0\n",
              "workclass          2395\n",
              "fnlwgt                0\n",
              "educational-num       0\n",
              "marital-status        0\n",
              "occupation         2404\n",
              "relationship          0\n",
              "race                  0\n",
              "gender                0\n",
              "capital-gain          0\n",
              "capital-loss          0\n",
              "hours-per-week        0\n",
              "native-country      719\n",
              "income                0\n",
              "dtype: int64"
            ]
          },
          "metadata": {},
          "execution_count": 11
        }
      ]
    },
    {
      "cell_type": "code",
      "source": [
        "# Verificando a moda em cada uma das categorias que possuem NaNs\n",
        "df.groupby(['workclass']).size()"
      ],
      "metadata": {
        "colab": {
          "base_uri": "https://localhost:8080/"
        },
        "id": "ATKyohwWFo-F",
        "outputId": "b0ee41f7-a180-4e85-dd4f-f60d823c34b3"
      },
      "execution_count": 12,
      "outputs": [
        {
          "output_type": "execute_result",
          "data": {
            "text/plain": [
              "workclass\n",
              "?                    2395\n",
              "Federal-gov          1221\n",
              "Local-gov            2667\n",
              "Never-worked            9\n",
              "Private             28822\n",
              "Self-emp-inc         1445\n",
              "Self-emp-not-inc     3271\n",
              "State-gov            1667\n",
              "Without-pay            19\n",
              "dtype: int64"
            ]
          },
          "metadata": {},
          "execution_count": 12
        }
      ]
    },
    {
      "cell_type": "code",
      "source": [
        "df.groupby(['occupation']).size()"
      ],
      "metadata": {
        "colab": {
          "base_uri": "https://localhost:8080/"
        },
        "id": "zNY63reMIGKx",
        "outputId": "2a4b71d9-eccf-47a4-e62e-207592649a27"
      },
      "execution_count": 13,
      "outputs": [
        {
          "output_type": "execute_result",
          "data": {
            "text/plain": [
              "occupation\n",
              "?                    2404\n",
              "Adm-clerical         4731\n",
              "Armed-Forces           13\n",
              "Craft-repair         5211\n",
              "Exec-managerial      5166\n",
              "Farming-fishing      1264\n",
              "Handlers-cleaners    1731\n",
              "Machine-op-inspct    2550\n",
              "Other-service        4214\n",
              "Priv-house-serv       212\n",
              "Prof-specialty       5246\n",
              "Protective-serv       835\n",
              "Sales                4733\n",
              "Tech-support         1194\n",
              "Transport-moving     2012\n",
              "dtype: int64"
            ]
          },
          "metadata": {},
          "execution_count": 13
        }
      ]
    },
    {
      "cell_type": "code",
      "source": [
        "df.groupby(['native-country']).size()"
      ],
      "metadata": {
        "colab": {
          "base_uri": "https://localhost:8080/"
        },
        "id": "TLkouv4pIGDs",
        "outputId": "e0cd414c-c420-4eb5-9516-c4ab15a741e4"
      },
      "execution_count": 14,
      "outputs": [
        {
          "output_type": "execute_result",
          "data": {
            "text/plain": [
              "native-country\n",
              "?                               719\n",
              "Cambodia                         26\n",
              "Canada                          161\n",
              "China                           109\n",
              "Columbia                         74\n",
              "Cuba                            108\n",
              "Dominican-Republic               82\n",
              "Ecuador                          35\n",
              "El-Salvador                     128\n",
              "England                          99\n",
              "France                           33\n",
              "Germany                         169\n",
              "Greece                           43\n",
              "Guatemala                        73\n",
              "Haiti                            66\n",
              "Holand-Netherlands                1\n",
              "Honduras                         15\n",
              "Hong                             24\n",
              "Hungary                          16\n",
              "India                           129\n",
              "Iran                             55\n",
              "Ireland                          30\n",
              "Italy                            92\n",
              "Jamaica                          92\n",
              "Japan                            77\n",
              "Laos                             19\n",
              "Mexico                          812\n",
              "Nicaragua                        45\n",
              "Outlying-US(Guam-USVI-etc)       18\n",
              "Peru                             44\n",
              "Philippines                     250\n",
              "Poland                           73\n",
              "Portugal                         53\n",
              "Puerto-Rico                     161\n",
              "Scotland                         17\n",
              "South                            93\n",
              "Taiwan                           55\n",
              "Thailand                         26\n",
              "Trinadad&Tobago                  24\n",
              "United-States                 37280\n",
              "Vietnam                          72\n",
              "Yugoslavia                       18\n",
              "dtype: int64"
            ]
          },
          "metadata": {},
          "execution_count": 14
        }
      ]
    },
    {
      "cell_type": "code",
      "source": [
        "# Atualizando os '?' com NaNs\n",
        "df = df.replace('?', np.NaN)"
      ],
      "metadata": {
        "id": "o4UPg7WGIh-w"
      },
      "execution_count": 15,
      "outputs": []
    },
    {
      "cell_type": "code",
      "source": [
        "# Atualizando os NaNs com a moda\n",
        "df['workclass'].fillna('Private', inplace = True)\n",
        "df['occupation'].fillna('Prof-specialty', inplace = True)\n",
        "df['native-country'].fillna('United-States', inplace = True)"
      ],
      "metadata": {
        "id": "NrNdUef5GcF7"
      },
      "execution_count": 16,
      "outputs": []
    },
    {
      "cell_type": "code",
      "source": [
        "# Apresentando valores atualizados\n",
        "display(df.iloc[30:41])"
      ],
      "metadata": {
        "colab": {
          "base_uri": "https://localhost:8080/",
          "height": 551
        },
        "id": "TfrwapMYJI5Z",
        "outputId": "2cb5db21-7ca8-4b17-dc95-2e66c1c15f89"
      },
      "execution_count": 17,
      "outputs": [
        {
          "output_type": "display_data",
          "data": {
            "text/plain": [
              "    age     workclass  fnlwgt  educational-num      marital-status  \\\n",
              "30   45  Self-emp-inc   61885               13  Married-civ-spouse   \n",
              "31   43       Private  160943                9  Married-civ-spouse   \n",
              "32   40       Private  309311                9  Married-civ-spouse   \n",
              "33   63       Private  133144                9  Married-civ-spouse   \n",
              "34   34       Private  190027                9           Separated   \n",
              "35   30       Private  190385               13  Married-civ-spouse   \n",
              "36   32       Private  178449                9       Never-married   \n",
              "37   61       Private  108398                7             Widowed   \n",
              "38   51       Private  183390                9  Married-civ-spouse   \n",
              "39   57       Private  372020               10  Married-civ-spouse   \n",
              "40   19       Private  316797                4  Married-civ-spouse   \n",
              "\n",
              "           occupation   relationship   race  gender  capital-gain  \\\n",
              "30    Exec-managerial        Husband  White    Male         15024   \n",
              "31      Other-service        Husband  Black    Male             0   \n",
              "32  Machine-op-inspct        Husband  White    Male             0   \n",
              "33     Prof-specialty        Husband  White    Male             0   \n",
              "34       Tech-support      Unmarried  Black  Female             0   \n",
              "35      Other-service           Wife  White  Female             0   \n",
              "36       Craft-repair  Not-in-family  White    Male             0   \n",
              "37     Prof-specialty      Unmarried  Black  Female             0   \n",
              "38   Transport-moving        Husband  White    Male             0   \n",
              "39              Sales        Husband  White    Male          5013   \n",
              "40  Handlers-cleaners      Own-child  White    Male             0   \n",
              "\n",
              "    capital-loss  hours-per-week native-country income  \n",
              "30             0              48  United-States   >50K  \n",
              "31             0              40  United-States   >50K  \n",
              "32             0              40  United-States  <=50K  \n",
              "33             0              45  United-States  <=50K  \n",
              "34             0              35  United-States  <=50K  \n",
              "35             0              40  United-States   >50K  \n",
              "36             0              50  United-States  <=50K  \n",
              "37             0               9  United-States  <=50K  \n",
              "38             0              40  United-States  <=50K  \n",
              "39             0              50  United-States  <=50K  \n",
              "40             0              45         Mexico  <=50K  "
            ],
            "text/html": [
              "\n",
              "  <div id=\"df-ccc42b6b-3448-48ac-8f0b-ac510bc65405\" class=\"colab-df-container\">\n",
              "    <div>\n",
              "<style scoped>\n",
              "    .dataframe tbody tr th:only-of-type {\n",
              "        vertical-align: middle;\n",
              "    }\n",
              "\n",
              "    .dataframe tbody tr th {\n",
              "        vertical-align: top;\n",
              "    }\n",
              "\n",
              "    .dataframe thead th {\n",
              "        text-align: right;\n",
              "    }\n",
              "</style>\n",
              "<table border=\"1\" class=\"dataframe\">\n",
              "  <thead>\n",
              "    <tr style=\"text-align: right;\">\n",
              "      <th></th>\n",
              "      <th>age</th>\n",
              "      <th>workclass</th>\n",
              "      <th>fnlwgt</th>\n",
              "      <th>educational-num</th>\n",
              "      <th>marital-status</th>\n",
              "      <th>occupation</th>\n",
              "      <th>relationship</th>\n",
              "      <th>race</th>\n",
              "      <th>gender</th>\n",
              "      <th>capital-gain</th>\n",
              "      <th>capital-loss</th>\n",
              "      <th>hours-per-week</th>\n",
              "      <th>native-country</th>\n",
              "      <th>income</th>\n",
              "    </tr>\n",
              "  </thead>\n",
              "  <tbody>\n",
              "    <tr>\n",
              "      <th>30</th>\n",
              "      <td>45</td>\n",
              "      <td>Self-emp-inc</td>\n",
              "      <td>61885</td>\n",
              "      <td>13</td>\n",
              "      <td>Married-civ-spouse</td>\n",
              "      <td>Exec-managerial</td>\n",
              "      <td>Husband</td>\n",
              "      <td>White</td>\n",
              "      <td>Male</td>\n",
              "      <td>15024</td>\n",
              "      <td>0</td>\n",
              "      <td>48</td>\n",
              "      <td>United-States</td>\n",
              "      <td>&gt;50K</td>\n",
              "    </tr>\n",
              "    <tr>\n",
              "      <th>31</th>\n",
              "      <td>43</td>\n",
              "      <td>Private</td>\n",
              "      <td>160943</td>\n",
              "      <td>9</td>\n",
              "      <td>Married-civ-spouse</td>\n",
              "      <td>Other-service</td>\n",
              "      <td>Husband</td>\n",
              "      <td>Black</td>\n",
              "      <td>Male</td>\n",
              "      <td>0</td>\n",
              "      <td>0</td>\n",
              "      <td>40</td>\n",
              "      <td>United-States</td>\n",
              "      <td>&gt;50K</td>\n",
              "    </tr>\n",
              "    <tr>\n",
              "      <th>32</th>\n",
              "      <td>40</td>\n",
              "      <td>Private</td>\n",
              "      <td>309311</td>\n",
              "      <td>9</td>\n",
              "      <td>Married-civ-spouse</td>\n",
              "      <td>Machine-op-inspct</td>\n",
              "      <td>Husband</td>\n",
              "      <td>White</td>\n",
              "      <td>Male</td>\n",
              "      <td>0</td>\n",
              "      <td>0</td>\n",
              "      <td>40</td>\n",
              "      <td>United-States</td>\n",
              "      <td>&lt;=50K</td>\n",
              "    </tr>\n",
              "    <tr>\n",
              "      <th>33</th>\n",
              "      <td>63</td>\n",
              "      <td>Private</td>\n",
              "      <td>133144</td>\n",
              "      <td>9</td>\n",
              "      <td>Married-civ-spouse</td>\n",
              "      <td>Prof-specialty</td>\n",
              "      <td>Husband</td>\n",
              "      <td>White</td>\n",
              "      <td>Male</td>\n",
              "      <td>0</td>\n",
              "      <td>0</td>\n",
              "      <td>45</td>\n",
              "      <td>United-States</td>\n",
              "      <td>&lt;=50K</td>\n",
              "    </tr>\n",
              "    <tr>\n",
              "      <th>34</th>\n",
              "      <td>34</td>\n",
              "      <td>Private</td>\n",
              "      <td>190027</td>\n",
              "      <td>9</td>\n",
              "      <td>Separated</td>\n",
              "      <td>Tech-support</td>\n",
              "      <td>Unmarried</td>\n",
              "      <td>Black</td>\n",
              "      <td>Female</td>\n",
              "      <td>0</td>\n",
              "      <td>0</td>\n",
              "      <td>35</td>\n",
              "      <td>United-States</td>\n",
              "      <td>&lt;=50K</td>\n",
              "    </tr>\n",
              "    <tr>\n",
              "      <th>35</th>\n",
              "      <td>30</td>\n",
              "      <td>Private</td>\n",
              "      <td>190385</td>\n",
              "      <td>13</td>\n",
              "      <td>Married-civ-spouse</td>\n",
              "      <td>Other-service</td>\n",
              "      <td>Wife</td>\n",
              "      <td>White</td>\n",
              "      <td>Female</td>\n",
              "      <td>0</td>\n",
              "      <td>0</td>\n",
              "      <td>40</td>\n",
              "      <td>United-States</td>\n",
              "      <td>&gt;50K</td>\n",
              "    </tr>\n",
              "    <tr>\n",
              "      <th>36</th>\n",
              "      <td>32</td>\n",
              "      <td>Private</td>\n",
              "      <td>178449</td>\n",
              "      <td>9</td>\n",
              "      <td>Never-married</td>\n",
              "      <td>Craft-repair</td>\n",
              "      <td>Not-in-family</td>\n",
              "      <td>White</td>\n",
              "      <td>Male</td>\n",
              "      <td>0</td>\n",
              "      <td>0</td>\n",
              "      <td>50</td>\n",
              "      <td>United-States</td>\n",
              "      <td>&lt;=50K</td>\n",
              "    </tr>\n",
              "    <tr>\n",
              "      <th>37</th>\n",
              "      <td>61</td>\n",
              "      <td>Private</td>\n",
              "      <td>108398</td>\n",
              "      <td>7</td>\n",
              "      <td>Widowed</td>\n",
              "      <td>Prof-specialty</td>\n",
              "      <td>Unmarried</td>\n",
              "      <td>Black</td>\n",
              "      <td>Female</td>\n",
              "      <td>0</td>\n",
              "      <td>0</td>\n",
              "      <td>9</td>\n",
              "      <td>United-States</td>\n",
              "      <td>&lt;=50K</td>\n",
              "    </tr>\n",
              "    <tr>\n",
              "      <th>38</th>\n",
              "      <td>51</td>\n",
              "      <td>Private</td>\n",
              "      <td>183390</td>\n",
              "      <td>9</td>\n",
              "      <td>Married-civ-spouse</td>\n",
              "      <td>Transport-moving</td>\n",
              "      <td>Husband</td>\n",
              "      <td>White</td>\n",
              "      <td>Male</td>\n",
              "      <td>0</td>\n",
              "      <td>0</td>\n",
              "      <td>40</td>\n",
              "      <td>United-States</td>\n",
              "      <td>&lt;=50K</td>\n",
              "    </tr>\n",
              "    <tr>\n",
              "      <th>39</th>\n",
              "      <td>57</td>\n",
              "      <td>Private</td>\n",
              "      <td>372020</td>\n",
              "      <td>10</td>\n",
              "      <td>Married-civ-spouse</td>\n",
              "      <td>Sales</td>\n",
              "      <td>Husband</td>\n",
              "      <td>White</td>\n",
              "      <td>Male</td>\n",
              "      <td>5013</td>\n",
              "      <td>0</td>\n",
              "      <td>50</td>\n",
              "      <td>United-States</td>\n",
              "      <td>&lt;=50K</td>\n",
              "    </tr>\n",
              "    <tr>\n",
              "      <th>40</th>\n",
              "      <td>19</td>\n",
              "      <td>Private</td>\n",
              "      <td>316797</td>\n",
              "      <td>4</td>\n",
              "      <td>Married-civ-spouse</td>\n",
              "      <td>Handlers-cleaners</td>\n",
              "      <td>Own-child</td>\n",
              "      <td>White</td>\n",
              "      <td>Male</td>\n",
              "      <td>0</td>\n",
              "      <td>0</td>\n",
              "      <td>45</td>\n",
              "      <td>Mexico</td>\n",
              "      <td>&lt;=50K</td>\n",
              "    </tr>\n",
              "  </tbody>\n",
              "</table>\n",
              "</div>\n",
              "    <div class=\"colab-df-buttons\">\n",
              "\n",
              "  <div class=\"colab-df-container\">\n",
              "    <button class=\"colab-df-convert\" onclick=\"convertToInteractive('df-ccc42b6b-3448-48ac-8f0b-ac510bc65405')\"\n",
              "            title=\"Convert this dataframe to an interactive table.\"\n",
              "            style=\"display:none;\">\n",
              "\n",
              "  <svg xmlns=\"http://www.w3.org/2000/svg\" height=\"24px\" viewBox=\"0 -960 960 960\">\n",
              "    <path d=\"M120-120v-720h720v720H120Zm60-500h600v-160H180v160Zm220 220h160v-160H400v160Zm0 220h160v-160H400v160ZM180-400h160v-160H180v160Zm440 0h160v-160H620v160ZM180-180h160v-160H180v160Zm440 0h160v-160H620v160Z\"/>\n",
              "  </svg>\n",
              "    </button>\n",
              "\n",
              "  <style>\n",
              "    .colab-df-container {\n",
              "      display:flex;\n",
              "      gap: 12px;\n",
              "    }\n",
              "\n",
              "    .colab-df-convert {\n",
              "      background-color: #E8F0FE;\n",
              "      border: none;\n",
              "      border-radius: 50%;\n",
              "      cursor: pointer;\n",
              "      display: none;\n",
              "      fill: #1967D2;\n",
              "      height: 32px;\n",
              "      padding: 0 0 0 0;\n",
              "      width: 32px;\n",
              "    }\n",
              "\n",
              "    .colab-df-convert:hover {\n",
              "      background-color: #E2EBFA;\n",
              "      box-shadow: 0px 1px 2px rgba(60, 64, 67, 0.3), 0px 1px 3px 1px rgba(60, 64, 67, 0.15);\n",
              "      fill: #174EA6;\n",
              "    }\n",
              "\n",
              "    .colab-df-buttons div {\n",
              "      margin-bottom: 4px;\n",
              "    }\n",
              "\n",
              "    [theme=dark] .colab-df-convert {\n",
              "      background-color: #3B4455;\n",
              "      fill: #D2E3FC;\n",
              "    }\n",
              "\n",
              "    [theme=dark] .colab-df-convert:hover {\n",
              "      background-color: #434B5C;\n",
              "      box-shadow: 0px 1px 3px 1px rgba(0, 0, 0, 0.15);\n",
              "      filter: drop-shadow(0px 1px 2px rgba(0, 0, 0, 0.3));\n",
              "      fill: #FFFFFF;\n",
              "    }\n",
              "  </style>\n",
              "\n",
              "    <script>\n",
              "      const buttonEl =\n",
              "        document.querySelector('#df-ccc42b6b-3448-48ac-8f0b-ac510bc65405 button.colab-df-convert');\n",
              "      buttonEl.style.display =\n",
              "        google.colab.kernel.accessAllowed ? 'block' : 'none';\n",
              "\n",
              "      async function convertToInteractive(key) {\n",
              "        const element = document.querySelector('#df-ccc42b6b-3448-48ac-8f0b-ac510bc65405');\n",
              "        const dataTable =\n",
              "          await google.colab.kernel.invokeFunction('convertToInteractive',\n",
              "                                                    [key], {});\n",
              "        if (!dataTable) return;\n",
              "\n",
              "        const docLinkHtml = 'Like what you see? Visit the ' +\n",
              "          '<a target=\"_blank\" href=https://colab.research.google.com/notebooks/data_table.ipynb>data table notebook</a>'\n",
              "          + ' to learn more about interactive tables.';\n",
              "        element.innerHTML = '';\n",
              "        dataTable['output_type'] = 'display_data';\n",
              "        await google.colab.output.renderOutput(dataTable, element);\n",
              "        const docLink = document.createElement('div');\n",
              "        docLink.innerHTML = docLinkHtml;\n",
              "        element.appendChild(docLink);\n",
              "      }\n",
              "    </script>\n",
              "  </div>\n",
              "\n",
              "\n",
              "<div id=\"df-1ba9de83-818e-4701-b265-1c20ee27b49b\">\n",
              "  <button class=\"colab-df-quickchart\" onclick=\"quickchart('df-1ba9de83-818e-4701-b265-1c20ee27b49b')\"\n",
              "            title=\"Suggest charts.\"\n",
              "            style=\"display:none;\">\n",
              "\n",
              "<svg xmlns=\"http://www.w3.org/2000/svg\" height=\"24px\"viewBox=\"0 0 24 24\"\n",
              "     width=\"24px\">\n",
              "    <g>\n",
              "        <path d=\"M19 3H5c-1.1 0-2 .9-2 2v14c0 1.1.9 2 2 2h14c1.1 0 2-.9 2-2V5c0-1.1-.9-2-2-2zM9 17H7v-7h2v7zm4 0h-2V7h2v10zm4 0h-2v-4h2v4z\"/>\n",
              "    </g>\n",
              "</svg>\n",
              "  </button>\n",
              "\n",
              "<style>\n",
              "  .colab-df-quickchart {\n",
              "      --bg-color: #E8F0FE;\n",
              "      --fill-color: #1967D2;\n",
              "      --hover-bg-color: #E2EBFA;\n",
              "      --hover-fill-color: #174EA6;\n",
              "      --disabled-fill-color: #AAA;\n",
              "      --disabled-bg-color: #DDD;\n",
              "  }\n",
              "\n",
              "  [theme=dark] .colab-df-quickchart {\n",
              "      --bg-color: #3B4455;\n",
              "      --fill-color: #D2E3FC;\n",
              "      --hover-bg-color: #434B5C;\n",
              "      --hover-fill-color: #FFFFFF;\n",
              "      --disabled-bg-color: #3B4455;\n",
              "      --disabled-fill-color: #666;\n",
              "  }\n",
              "\n",
              "  .colab-df-quickchart {\n",
              "    background-color: var(--bg-color);\n",
              "    border: none;\n",
              "    border-radius: 50%;\n",
              "    cursor: pointer;\n",
              "    display: none;\n",
              "    fill: var(--fill-color);\n",
              "    height: 32px;\n",
              "    padding: 0;\n",
              "    width: 32px;\n",
              "  }\n",
              "\n",
              "  .colab-df-quickchart:hover {\n",
              "    background-color: var(--hover-bg-color);\n",
              "    box-shadow: 0 1px 2px rgba(60, 64, 67, 0.3), 0 1px 3px 1px rgba(60, 64, 67, 0.15);\n",
              "    fill: var(--button-hover-fill-color);\n",
              "  }\n",
              "\n",
              "  .colab-df-quickchart-complete:disabled,\n",
              "  .colab-df-quickchart-complete:disabled:hover {\n",
              "    background-color: var(--disabled-bg-color);\n",
              "    fill: var(--disabled-fill-color);\n",
              "    box-shadow: none;\n",
              "  }\n",
              "\n",
              "  .colab-df-spinner {\n",
              "    border: 2px solid var(--fill-color);\n",
              "    border-color: transparent;\n",
              "    border-bottom-color: var(--fill-color);\n",
              "    animation:\n",
              "      spin 1s steps(1) infinite;\n",
              "  }\n",
              "\n",
              "  @keyframes spin {\n",
              "    0% {\n",
              "      border-color: transparent;\n",
              "      border-bottom-color: var(--fill-color);\n",
              "      border-left-color: var(--fill-color);\n",
              "    }\n",
              "    20% {\n",
              "      border-color: transparent;\n",
              "      border-left-color: var(--fill-color);\n",
              "      border-top-color: var(--fill-color);\n",
              "    }\n",
              "    30% {\n",
              "      border-color: transparent;\n",
              "      border-left-color: var(--fill-color);\n",
              "      border-top-color: var(--fill-color);\n",
              "      border-right-color: var(--fill-color);\n",
              "    }\n",
              "    40% {\n",
              "      border-color: transparent;\n",
              "      border-right-color: var(--fill-color);\n",
              "      border-top-color: var(--fill-color);\n",
              "    }\n",
              "    60% {\n",
              "      border-color: transparent;\n",
              "      border-right-color: var(--fill-color);\n",
              "    }\n",
              "    80% {\n",
              "      border-color: transparent;\n",
              "      border-right-color: var(--fill-color);\n",
              "      border-bottom-color: var(--fill-color);\n",
              "    }\n",
              "    90% {\n",
              "      border-color: transparent;\n",
              "      border-bottom-color: var(--fill-color);\n",
              "    }\n",
              "  }\n",
              "</style>\n",
              "\n",
              "  <script>\n",
              "    async function quickchart(key) {\n",
              "      const quickchartButtonEl =\n",
              "        document.querySelector('#' + key + ' button');\n",
              "      quickchartButtonEl.disabled = true;  // To prevent multiple clicks.\n",
              "      quickchartButtonEl.classList.add('colab-df-spinner');\n",
              "      try {\n",
              "        const charts = await google.colab.kernel.invokeFunction(\n",
              "            'suggestCharts', [key], {});\n",
              "      } catch (error) {\n",
              "        console.error('Error during call to suggestCharts:', error);\n",
              "      }\n",
              "      quickchartButtonEl.classList.remove('colab-df-spinner');\n",
              "      quickchartButtonEl.classList.add('colab-df-quickchart-complete');\n",
              "    }\n",
              "    (() => {\n",
              "      let quickchartButtonEl =\n",
              "        document.querySelector('#df-1ba9de83-818e-4701-b265-1c20ee27b49b button');\n",
              "      quickchartButtonEl.style.display =\n",
              "        google.colab.kernel.accessAllowed ? 'block' : 'none';\n",
              "    })();\n",
              "  </script>\n",
              "</div>\n",
              "    </div>\n",
              "  </div>\n"
            ]
          },
          "metadata": {}
        }
      ]
    },
    {
      "cell_type": "markdown",
      "source": [
        "### 3.3. Label Encoding"
      ],
      "metadata": {
        "id": "W1PLtNI2ZKcG"
      }
    },
    {
      "cell_type": "code",
      "source": [
        "# Criando um vetor com o nome das variáveis categóricas\n",
        "categoricals = [\n",
        "    'workclass',\n",
        "    'marital-status',\n",
        "    'occupation',\n",
        "    'relationship',\n",
        "    'race',\n",
        "    'gender',\n",
        "    'native-country',\n",
        "    'income'\n",
        "]\n",
        "\n",
        "categoricals"
      ],
      "metadata": {
        "id": "AoUgZvyOZRvf",
        "colab": {
          "base_uri": "https://localhost:8080/"
        },
        "outputId": "12653774-9340-48b7-9b9b-d216e1cbdc3d"
      },
      "execution_count": 18,
      "outputs": [
        {
          "output_type": "execute_result",
          "data": {
            "text/plain": [
              "['workclass',\n",
              " 'marital-status',\n",
              " 'occupation',\n",
              " 'relationship',\n",
              " 'race',\n",
              " 'gender',\n",
              " 'native-country',\n",
              " 'income']"
            ]
          },
          "metadata": {},
          "execution_count": 18
        }
      ]
    },
    {
      "cell_type": "code",
      "source": [
        "# Criando um vetor com as variáveis numéricas\n",
        "numericals = list(df.select_dtypes(include=['int64', 'float64']).columns)\n",
        "\n",
        "numericals"
      ],
      "metadata": {
        "colab": {
          "base_uri": "https://localhost:8080/"
        },
        "id": "mUXYjX0szAi6",
        "outputId": "5175d18d-2508-4849-d653-a3ce42fbfd50"
      },
      "execution_count": 19,
      "outputs": [
        {
          "output_type": "execute_result",
          "data": {
            "text/plain": [
              "['age',\n",
              " 'fnlwgt',\n",
              " 'educational-num',\n",
              " 'capital-gain',\n",
              " 'capital-loss',\n",
              " 'hours-per-week']"
            ]
          },
          "metadata": {},
          "execution_count": 19
        }
      ]
    },
    {
      "cell_type": "code",
      "source": [
        "# Transformando os valores para 'float'\n",
        "var_float = df.loc[:, numericals].var()\n",
        "for i in range(len(numericals)):\n",
        "    print('{} \\t\\t {}'.format(numericals[i], round(float(var_float[i]), 3)))"
      ],
      "metadata": {
        "colab": {
          "base_uri": "https://localhost:8080/"
        },
        "id": "8YZ1xYQdzGYm",
        "outputId": "a8bb20f8-76d3-47e3-b0c8-1dfcb95bdd12"
      },
      "execution_count": 20,
      "outputs": [
        {
          "output_type": "stream",
          "name": "stdout",
          "text": [
            "age \t\t 188.325\n",
            "fnlwgt \t\t 11103695307.934\n",
            "educational-num \t\t 6.597\n",
            "capital-gain \t\t 55428429.122\n",
            "capital-loss \t\t 163413.523\n",
            "hours-per-week \t\t 153.955\n"
          ]
        }
      ]
    },
    {
      "cell_type": "code",
      "source": [
        "# Transformando as variáveis categóricas\n",
        "label_encoder = LabelEncoder()\n",
        "for i in categoricals:\n",
        "  df[i] = pd.DataFrame(label_encoder.fit_transform(df[i]))"
      ],
      "metadata": {
        "id": "pR2fqKeof-58"
      },
      "execution_count": 21,
      "outputs": []
    },
    {
      "cell_type": "code",
      "source": [
        "df.head()"
      ],
      "metadata": {
        "colab": {
          "base_uri": "https://localhost:8080/",
          "height": 224
        },
        "id": "DiBwwRl_aUXP",
        "outputId": "12db66a7-ab80-4c15-d564-d0d0c9ccb696"
      },
      "execution_count": 22,
      "outputs": [
        {
          "output_type": "execute_result",
          "data": {
            "text/plain": [
              "   age  workclass  fnlwgt  educational-num  marital-status  occupation  \\\n",
              "0   25          3  188767                9               4           2   \n",
              "1   64          3  286732                9               6          11   \n",
              "2   29          3  253801                9               2           2   \n",
              "3   28          3  334032               11               2           2   \n",
              "4   22          3  173004                9               4           6   \n",
              "\n",
              "   relationship  race  gender  capital-gain  capital-loss  hours-per-week  \\\n",
              "0             3     4       1             0             0              40   \n",
              "1             1     4       0             0             0              17   \n",
              "2             0     4       1             0             0              40   \n",
              "3             0     4       1             0             0              50   \n",
              "4             2     2       1             0             0               1   \n",
              "\n",
              "   native-country  income  \n",
              "0              38       0  \n",
              "1              38       0  \n",
              "2               6       0  \n",
              "3              38       0  \n",
              "4              38       0  "
            ],
            "text/html": [
              "\n",
              "  <div id=\"df-de2437ee-8410-4f4d-a84d-606376a0d8bb\" class=\"colab-df-container\">\n",
              "    <div>\n",
              "<style scoped>\n",
              "    .dataframe tbody tr th:only-of-type {\n",
              "        vertical-align: middle;\n",
              "    }\n",
              "\n",
              "    .dataframe tbody tr th {\n",
              "        vertical-align: top;\n",
              "    }\n",
              "\n",
              "    .dataframe thead th {\n",
              "        text-align: right;\n",
              "    }\n",
              "</style>\n",
              "<table border=\"1\" class=\"dataframe\">\n",
              "  <thead>\n",
              "    <tr style=\"text-align: right;\">\n",
              "      <th></th>\n",
              "      <th>age</th>\n",
              "      <th>workclass</th>\n",
              "      <th>fnlwgt</th>\n",
              "      <th>educational-num</th>\n",
              "      <th>marital-status</th>\n",
              "      <th>occupation</th>\n",
              "      <th>relationship</th>\n",
              "      <th>race</th>\n",
              "      <th>gender</th>\n",
              "      <th>capital-gain</th>\n",
              "      <th>capital-loss</th>\n",
              "      <th>hours-per-week</th>\n",
              "      <th>native-country</th>\n",
              "      <th>income</th>\n",
              "    </tr>\n",
              "  </thead>\n",
              "  <tbody>\n",
              "    <tr>\n",
              "      <th>0</th>\n",
              "      <td>25</td>\n",
              "      <td>3</td>\n",
              "      <td>188767</td>\n",
              "      <td>9</td>\n",
              "      <td>4</td>\n",
              "      <td>2</td>\n",
              "      <td>3</td>\n",
              "      <td>4</td>\n",
              "      <td>1</td>\n",
              "      <td>0</td>\n",
              "      <td>0</td>\n",
              "      <td>40</td>\n",
              "      <td>38</td>\n",
              "      <td>0</td>\n",
              "    </tr>\n",
              "    <tr>\n",
              "      <th>1</th>\n",
              "      <td>64</td>\n",
              "      <td>3</td>\n",
              "      <td>286732</td>\n",
              "      <td>9</td>\n",
              "      <td>6</td>\n",
              "      <td>11</td>\n",
              "      <td>1</td>\n",
              "      <td>4</td>\n",
              "      <td>0</td>\n",
              "      <td>0</td>\n",
              "      <td>0</td>\n",
              "      <td>17</td>\n",
              "      <td>38</td>\n",
              "      <td>0</td>\n",
              "    </tr>\n",
              "    <tr>\n",
              "      <th>2</th>\n",
              "      <td>29</td>\n",
              "      <td>3</td>\n",
              "      <td>253801</td>\n",
              "      <td>9</td>\n",
              "      <td>2</td>\n",
              "      <td>2</td>\n",
              "      <td>0</td>\n",
              "      <td>4</td>\n",
              "      <td>1</td>\n",
              "      <td>0</td>\n",
              "      <td>0</td>\n",
              "      <td>40</td>\n",
              "      <td>6</td>\n",
              "      <td>0</td>\n",
              "    </tr>\n",
              "    <tr>\n",
              "      <th>3</th>\n",
              "      <td>28</td>\n",
              "      <td>3</td>\n",
              "      <td>334032</td>\n",
              "      <td>11</td>\n",
              "      <td>2</td>\n",
              "      <td>2</td>\n",
              "      <td>0</td>\n",
              "      <td>4</td>\n",
              "      <td>1</td>\n",
              "      <td>0</td>\n",
              "      <td>0</td>\n",
              "      <td>50</td>\n",
              "      <td>38</td>\n",
              "      <td>0</td>\n",
              "    </tr>\n",
              "    <tr>\n",
              "      <th>4</th>\n",
              "      <td>22</td>\n",
              "      <td>3</td>\n",
              "      <td>173004</td>\n",
              "      <td>9</td>\n",
              "      <td>4</td>\n",
              "      <td>6</td>\n",
              "      <td>2</td>\n",
              "      <td>2</td>\n",
              "      <td>1</td>\n",
              "      <td>0</td>\n",
              "      <td>0</td>\n",
              "      <td>1</td>\n",
              "      <td>38</td>\n",
              "      <td>0</td>\n",
              "    </tr>\n",
              "  </tbody>\n",
              "</table>\n",
              "</div>\n",
              "    <div class=\"colab-df-buttons\">\n",
              "\n",
              "  <div class=\"colab-df-container\">\n",
              "    <button class=\"colab-df-convert\" onclick=\"convertToInteractive('df-de2437ee-8410-4f4d-a84d-606376a0d8bb')\"\n",
              "            title=\"Convert this dataframe to an interactive table.\"\n",
              "            style=\"display:none;\">\n",
              "\n",
              "  <svg xmlns=\"http://www.w3.org/2000/svg\" height=\"24px\" viewBox=\"0 -960 960 960\">\n",
              "    <path d=\"M120-120v-720h720v720H120Zm60-500h600v-160H180v160Zm220 220h160v-160H400v160Zm0 220h160v-160H400v160ZM180-400h160v-160H180v160Zm440 0h160v-160H620v160ZM180-180h160v-160H180v160Zm440 0h160v-160H620v160Z\"/>\n",
              "  </svg>\n",
              "    </button>\n",
              "\n",
              "  <style>\n",
              "    .colab-df-container {\n",
              "      display:flex;\n",
              "      gap: 12px;\n",
              "    }\n",
              "\n",
              "    .colab-df-convert {\n",
              "      background-color: #E8F0FE;\n",
              "      border: none;\n",
              "      border-radius: 50%;\n",
              "      cursor: pointer;\n",
              "      display: none;\n",
              "      fill: #1967D2;\n",
              "      height: 32px;\n",
              "      padding: 0 0 0 0;\n",
              "      width: 32px;\n",
              "    }\n",
              "\n",
              "    .colab-df-convert:hover {\n",
              "      background-color: #E2EBFA;\n",
              "      box-shadow: 0px 1px 2px rgba(60, 64, 67, 0.3), 0px 1px 3px 1px rgba(60, 64, 67, 0.15);\n",
              "      fill: #174EA6;\n",
              "    }\n",
              "\n",
              "    .colab-df-buttons div {\n",
              "      margin-bottom: 4px;\n",
              "    }\n",
              "\n",
              "    [theme=dark] .colab-df-convert {\n",
              "      background-color: #3B4455;\n",
              "      fill: #D2E3FC;\n",
              "    }\n",
              "\n",
              "    [theme=dark] .colab-df-convert:hover {\n",
              "      background-color: #434B5C;\n",
              "      box-shadow: 0px 1px 3px 1px rgba(0, 0, 0, 0.15);\n",
              "      filter: drop-shadow(0px 1px 2px rgba(0, 0, 0, 0.3));\n",
              "      fill: #FFFFFF;\n",
              "    }\n",
              "  </style>\n",
              "\n",
              "    <script>\n",
              "      const buttonEl =\n",
              "        document.querySelector('#df-de2437ee-8410-4f4d-a84d-606376a0d8bb button.colab-df-convert');\n",
              "      buttonEl.style.display =\n",
              "        google.colab.kernel.accessAllowed ? 'block' : 'none';\n",
              "\n",
              "      async function convertToInteractive(key) {\n",
              "        const element = document.querySelector('#df-de2437ee-8410-4f4d-a84d-606376a0d8bb');\n",
              "        const dataTable =\n",
              "          await google.colab.kernel.invokeFunction('convertToInteractive',\n",
              "                                                    [key], {});\n",
              "        if (!dataTable) return;\n",
              "\n",
              "        const docLinkHtml = 'Like what you see? Visit the ' +\n",
              "          '<a target=\"_blank\" href=https://colab.research.google.com/notebooks/data_table.ipynb>data table notebook</a>'\n",
              "          + ' to learn more about interactive tables.';\n",
              "        element.innerHTML = '';\n",
              "        dataTable['output_type'] = 'display_data';\n",
              "        await google.colab.output.renderOutput(dataTable, element);\n",
              "        const docLink = document.createElement('div');\n",
              "        docLink.innerHTML = docLinkHtml;\n",
              "        element.appendChild(docLink);\n",
              "      }\n",
              "    </script>\n",
              "  </div>\n",
              "\n",
              "\n",
              "<div id=\"df-1cad0938-b140-42de-aeeb-7b6d82ca0026\">\n",
              "  <button class=\"colab-df-quickchart\" onclick=\"quickchart('df-1cad0938-b140-42de-aeeb-7b6d82ca0026')\"\n",
              "            title=\"Suggest charts.\"\n",
              "            style=\"display:none;\">\n",
              "\n",
              "<svg xmlns=\"http://www.w3.org/2000/svg\" height=\"24px\"viewBox=\"0 0 24 24\"\n",
              "     width=\"24px\">\n",
              "    <g>\n",
              "        <path d=\"M19 3H5c-1.1 0-2 .9-2 2v14c0 1.1.9 2 2 2h14c1.1 0 2-.9 2-2V5c0-1.1-.9-2-2-2zM9 17H7v-7h2v7zm4 0h-2V7h2v10zm4 0h-2v-4h2v4z\"/>\n",
              "    </g>\n",
              "</svg>\n",
              "  </button>\n",
              "\n",
              "<style>\n",
              "  .colab-df-quickchart {\n",
              "      --bg-color: #E8F0FE;\n",
              "      --fill-color: #1967D2;\n",
              "      --hover-bg-color: #E2EBFA;\n",
              "      --hover-fill-color: #174EA6;\n",
              "      --disabled-fill-color: #AAA;\n",
              "      --disabled-bg-color: #DDD;\n",
              "  }\n",
              "\n",
              "  [theme=dark] .colab-df-quickchart {\n",
              "      --bg-color: #3B4455;\n",
              "      --fill-color: #D2E3FC;\n",
              "      --hover-bg-color: #434B5C;\n",
              "      --hover-fill-color: #FFFFFF;\n",
              "      --disabled-bg-color: #3B4455;\n",
              "      --disabled-fill-color: #666;\n",
              "  }\n",
              "\n",
              "  .colab-df-quickchart {\n",
              "    background-color: var(--bg-color);\n",
              "    border: none;\n",
              "    border-radius: 50%;\n",
              "    cursor: pointer;\n",
              "    display: none;\n",
              "    fill: var(--fill-color);\n",
              "    height: 32px;\n",
              "    padding: 0;\n",
              "    width: 32px;\n",
              "  }\n",
              "\n",
              "  .colab-df-quickchart:hover {\n",
              "    background-color: var(--hover-bg-color);\n",
              "    box-shadow: 0 1px 2px rgba(60, 64, 67, 0.3), 0 1px 3px 1px rgba(60, 64, 67, 0.15);\n",
              "    fill: var(--button-hover-fill-color);\n",
              "  }\n",
              "\n",
              "  .colab-df-quickchart-complete:disabled,\n",
              "  .colab-df-quickchart-complete:disabled:hover {\n",
              "    background-color: var(--disabled-bg-color);\n",
              "    fill: var(--disabled-fill-color);\n",
              "    box-shadow: none;\n",
              "  }\n",
              "\n",
              "  .colab-df-spinner {\n",
              "    border: 2px solid var(--fill-color);\n",
              "    border-color: transparent;\n",
              "    border-bottom-color: var(--fill-color);\n",
              "    animation:\n",
              "      spin 1s steps(1) infinite;\n",
              "  }\n",
              "\n",
              "  @keyframes spin {\n",
              "    0% {\n",
              "      border-color: transparent;\n",
              "      border-bottom-color: var(--fill-color);\n",
              "      border-left-color: var(--fill-color);\n",
              "    }\n",
              "    20% {\n",
              "      border-color: transparent;\n",
              "      border-left-color: var(--fill-color);\n",
              "      border-top-color: var(--fill-color);\n",
              "    }\n",
              "    30% {\n",
              "      border-color: transparent;\n",
              "      border-left-color: var(--fill-color);\n",
              "      border-top-color: var(--fill-color);\n",
              "      border-right-color: var(--fill-color);\n",
              "    }\n",
              "    40% {\n",
              "      border-color: transparent;\n",
              "      border-right-color: var(--fill-color);\n",
              "      border-top-color: var(--fill-color);\n",
              "    }\n",
              "    60% {\n",
              "      border-color: transparent;\n",
              "      border-right-color: var(--fill-color);\n",
              "    }\n",
              "    80% {\n",
              "      border-color: transparent;\n",
              "      border-right-color: var(--fill-color);\n",
              "      border-bottom-color: var(--fill-color);\n",
              "    }\n",
              "    90% {\n",
              "      border-color: transparent;\n",
              "      border-bottom-color: var(--fill-color);\n",
              "    }\n",
              "  }\n",
              "</style>\n",
              "\n",
              "  <script>\n",
              "    async function quickchart(key) {\n",
              "      const quickchartButtonEl =\n",
              "        document.querySelector('#' + key + ' button');\n",
              "      quickchartButtonEl.disabled = true;  // To prevent multiple clicks.\n",
              "      quickchartButtonEl.classList.add('colab-df-spinner');\n",
              "      try {\n",
              "        const charts = await google.colab.kernel.invokeFunction(\n",
              "            'suggestCharts', [key], {});\n",
              "      } catch (error) {\n",
              "        console.error('Error during call to suggestCharts:', error);\n",
              "      }\n",
              "      quickchartButtonEl.classList.remove('colab-df-spinner');\n",
              "      quickchartButtonEl.classList.add('colab-df-quickchart-complete');\n",
              "    }\n",
              "    (() => {\n",
              "      let quickchartButtonEl =\n",
              "        document.querySelector('#df-1cad0938-b140-42de-aeeb-7b6d82ca0026 button');\n",
              "      quickchartButtonEl.style.display =\n",
              "        google.colab.kernel.accessAllowed ? 'block' : 'none';\n",
              "    })();\n",
              "  </script>\n",
              "</div>\n",
              "    </div>\n",
              "  </div>\n"
            ]
          },
          "metadata": {},
          "execution_count": 22
        }
      ]
    },
    {
      "cell_type": "markdown",
      "source": [
        "### 3.4 Scaling"
      ],
      "metadata": {
        "id": "D-hEjORNh6Q_"
      }
    },
    {
      "cell_type": "code",
      "source": [
        "min_max_scaler = MinMaxScaler()\n",
        "\n",
        "column_values = df.columns.values\n",
        "column_values = column_values[:-1]\n",
        "\n",
        "scaled_values = min_max_scaler.fit_transform(df[column_values])\n",
        "\n",
        "for i in range(len(column_values)):\n",
        "    df[column_values[i]] = scaled_values[:,i]\n",
        "\n",
        "df.sample(10)"
      ],
      "metadata": {
        "colab": {
          "base_uri": "https://localhost:8080/",
          "height": 380
        },
        "id": "EtJ3hTWJiBem",
        "outputId": "ce7dbb76-980d-4917-f8e7-525633cb2033"
      },
      "execution_count": 23,
      "outputs": [
        {
          "output_type": "execute_result",
          "data": {
            "text/plain": [
              "            age  workclass    fnlwgt  educational-num  marital-status  \\\n",
              "26484  0.356164   0.857143  0.335532         0.800000        0.333333   \n",
              "14113  0.561644   0.714286  0.160658         0.533333        0.333333   \n",
              "10384  0.808219   0.714286  0.152533         0.533333        0.333333   \n",
              "180    0.342466   0.428571  0.128510         0.866667        0.666667   \n",
              "21913  0.095890   0.142857  0.162820         0.600000        0.333333   \n",
              "32370  0.301370   0.857143  0.208251         0.800000        0.333333   \n",
              "1890   0.616438   0.714286  0.101846         0.800000        0.333333   \n",
              "3369   0.123288   0.428571  0.065018         0.533333        0.666667   \n",
              "1968   0.164384   0.428571  0.272349         0.733333        0.666667   \n",
              "13136  0.424658   0.857143  0.072021         0.800000        0.333333   \n",
              "\n",
              "       occupation  relationship  race  gender  capital-gain  capital-loss  \\\n",
              "26484    0.692308           0.0  0.25     1.0      0.150242           0.0   \n",
              "14113    0.846154           0.0  1.00     1.0      0.150242           0.0   \n",
              "10384    0.153846           0.0  1.00     1.0      0.000000           0.0   \n",
              "180      0.153846           0.4  1.00     1.0      0.000000           0.0   \n",
              "21913    0.769231           0.0  1.00     1.0      0.000000           0.0   \n",
              "32370    0.230769           0.0  1.00     1.0      0.000000           0.0   \n",
              "1890     0.692308           0.0  1.00     1.0      0.000000           0.0   \n",
              "3369     0.153846           0.6  1.00     1.0      0.033250           0.0   \n",
              "1968     0.846154           0.2  1.00     1.0      0.000000           0.0   \n",
              "13136    0.230769           0.0  1.00     1.0      0.051781           0.0   \n",
              "\n",
              "       hours-per-week  native-country  income  \n",
              "26484        0.397959           0.950       1  \n",
              "14113        0.397959           0.950       1  \n",
              "10384        0.295918           0.950       0  \n",
              "180          0.653061           0.950       0  \n",
              "21913        0.724490           0.950       1  \n",
              "32370        0.397959           0.950       0  \n",
              "1890         0.346939           0.950       0  \n",
              "3369         0.397959           0.950       0  \n",
              "1968         0.448980           0.625       0  \n",
              "13136        0.397959           0.950       1  "
            ],
            "text/html": [
              "\n",
              "  <div id=\"df-8b3a156a-ee9c-47d1-9b9e-88f49d0bf285\" class=\"colab-df-container\">\n",
              "    <div>\n",
              "<style scoped>\n",
              "    .dataframe tbody tr th:only-of-type {\n",
              "        vertical-align: middle;\n",
              "    }\n",
              "\n",
              "    .dataframe tbody tr th {\n",
              "        vertical-align: top;\n",
              "    }\n",
              "\n",
              "    .dataframe thead th {\n",
              "        text-align: right;\n",
              "    }\n",
              "</style>\n",
              "<table border=\"1\" class=\"dataframe\">\n",
              "  <thead>\n",
              "    <tr style=\"text-align: right;\">\n",
              "      <th></th>\n",
              "      <th>age</th>\n",
              "      <th>workclass</th>\n",
              "      <th>fnlwgt</th>\n",
              "      <th>educational-num</th>\n",
              "      <th>marital-status</th>\n",
              "      <th>occupation</th>\n",
              "      <th>relationship</th>\n",
              "      <th>race</th>\n",
              "      <th>gender</th>\n",
              "      <th>capital-gain</th>\n",
              "      <th>capital-loss</th>\n",
              "      <th>hours-per-week</th>\n",
              "      <th>native-country</th>\n",
              "      <th>income</th>\n",
              "    </tr>\n",
              "  </thead>\n",
              "  <tbody>\n",
              "    <tr>\n",
              "      <th>26484</th>\n",
              "      <td>0.356164</td>\n",
              "      <td>0.857143</td>\n",
              "      <td>0.335532</td>\n",
              "      <td>0.800000</td>\n",
              "      <td>0.333333</td>\n",
              "      <td>0.692308</td>\n",
              "      <td>0.0</td>\n",
              "      <td>0.25</td>\n",
              "      <td>1.0</td>\n",
              "      <td>0.150242</td>\n",
              "      <td>0.0</td>\n",
              "      <td>0.397959</td>\n",
              "      <td>0.950</td>\n",
              "      <td>1</td>\n",
              "    </tr>\n",
              "    <tr>\n",
              "      <th>14113</th>\n",
              "      <td>0.561644</td>\n",
              "      <td>0.714286</td>\n",
              "      <td>0.160658</td>\n",
              "      <td>0.533333</td>\n",
              "      <td>0.333333</td>\n",
              "      <td>0.846154</td>\n",
              "      <td>0.0</td>\n",
              "      <td>1.00</td>\n",
              "      <td>1.0</td>\n",
              "      <td>0.150242</td>\n",
              "      <td>0.0</td>\n",
              "      <td>0.397959</td>\n",
              "      <td>0.950</td>\n",
              "      <td>1</td>\n",
              "    </tr>\n",
              "    <tr>\n",
              "      <th>10384</th>\n",
              "      <td>0.808219</td>\n",
              "      <td>0.714286</td>\n",
              "      <td>0.152533</td>\n",
              "      <td>0.533333</td>\n",
              "      <td>0.333333</td>\n",
              "      <td>0.153846</td>\n",
              "      <td>0.0</td>\n",
              "      <td>1.00</td>\n",
              "      <td>1.0</td>\n",
              "      <td>0.000000</td>\n",
              "      <td>0.0</td>\n",
              "      <td>0.295918</td>\n",
              "      <td>0.950</td>\n",
              "      <td>0</td>\n",
              "    </tr>\n",
              "    <tr>\n",
              "      <th>180</th>\n",
              "      <td>0.342466</td>\n",
              "      <td>0.428571</td>\n",
              "      <td>0.128510</td>\n",
              "      <td>0.866667</td>\n",
              "      <td>0.666667</td>\n",
              "      <td>0.153846</td>\n",
              "      <td>0.4</td>\n",
              "      <td>1.00</td>\n",
              "      <td>1.0</td>\n",
              "      <td>0.000000</td>\n",
              "      <td>0.0</td>\n",
              "      <td>0.653061</td>\n",
              "      <td>0.950</td>\n",
              "      <td>0</td>\n",
              "    </tr>\n",
              "    <tr>\n",
              "      <th>21913</th>\n",
              "      <td>0.095890</td>\n",
              "      <td>0.142857</td>\n",
              "      <td>0.162820</td>\n",
              "      <td>0.600000</td>\n",
              "      <td>0.333333</td>\n",
              "      <td>0.769231</td>\n",
              "      <td>0.0</td>\n",
              "      <td>1.00</td>\n",
              "      <td>1.0</td>\n",
              "      <td>0.000000</td>\n",
              "      <td>0.0</td>\n",
              "      <td>0.724490</td>\n",
              "      <td>0.950</td>\n",
              "      <td>1</td>\n",
              "    </tr>\n",
              "    <tr>\n",
              "      <th>32370</th>\n",
              "      <td>0.301370</td>\n",
              "      <td>0.857143</td>\n",
              "      <td>0.208251</td>\n",
              "      <td>0.800000</td>\n",
              "      <td>0.333333</td>\n",
              "      <td>0.230769</td>\n",
              "      <td>0.0</td>\n",
              "      <td>1.00</td>\n",
              "      <td>1.0</td>\n",
              "      <td>0.000000</td>\n",
              "      <td>0.0</td>\n",
              "      <td>0.397959</td>\n",
              "      <td>0.950</td>\n",
              "      <td>0</td>\n",
              "    </tr>\n",
              "    <tr>\n",
              "      <th>1890</th>\n",
              "      <td>0.616438</td>\n",
              "      <td>0.714286</td>\n",
              "      <td>0.101846</td>\n",
              "      <td>0.800000</td>\n",
              "      <td>0.333333</td>\n",
              "      <td>0.692308</td>\n",
              "      <td>0.0</td>\n",
              "      <td>1.00</td>\n",
              "      <td>1.0</td>\n",
              "      <td>0.000000</td>\n",
              "      <td>0.0</td>\n",
              "      <td>0.346939</td>\n",
              "      <td>0.950</td>\n",
              "      <td>0</td>\n",
              "    </tr>\n",
              "    <tr>\n",
              "      <th>3369</th>\n",
              "      <td>0.123288</td>\n",
              "      <td>0.428571</td>\n",
              "      <td>0.065018</td>\n",
              "      <td>0.533333</td>\n",
              "      <td>0.666667</td>\n",
              "      <td>0.153846</td>\n",
              "      <td>0.6</td>\n",
              "      <td>1.00</td>\n",
              "      <td>1.0</td>\n",
              "      <td>0.033250</td>\n",
              "      <td>0.0</td>\n",
              "      <td>0.397959</td>\n",
              "      <td>0.950</td>\n",
              "      <td>0</td>\n",
              "    </tr>\n",
              "    <tr>\n",
              "      <th>1968</th>\n",
              "      <td>0.164384</td>\n",
              "      <td>0.428571</td>\n",
              "      <td>0.272349</td>\n",
              "      <td>0.733333</td>\n",
              "      <td>0.666667</td>\n",
              "      <td>0.846154</td>\n",
              "      <td>0.2</td>\n",
              "      <td>1.00</td>\n",
              "      <td>1.0</td>\n",
              "      <td>0.000000</td>\n",
              "      <td>0.0</td>\n",
              "      <td>0.448980</td>\n",
              "      <td>0.625</td>\n",
              "      <td>0</td>\n",
              "    </tr>\n",
              "    <tr>\n",
              "      <th>13136</th>\n",
              "      <td>0.424658</td>\n",
              "      <td>0.857143</td>\n",
              "      <td>0.072021</td>\n",
              "      <td>0.800000</td>\n",
              "      <td>0.333333</td>\n",
              "      <td>0.230769</td>\n",
              "      <td>0.0</td>\n",
              "      <td>1.00</td>\n",
              "      <td>1.0</td>\n",
              "      <td>0.051781</td>\n",
              "      <td>0.0</td>\n",
              "      <td>0.397959</td>\n",
              "      <td>0.950</td>\n",
              "      <td>1</td>\n",
              "    </tr>\n",
              "  </tbody>\n",
              "</table>\n",
              "</div>\n",
              "    <div class=\"colab-df-buttons\">\n",
              "\n",
              "  <div class=\"colab-df-container\">\n",
              "    <button class=\"colab-df-convert\" onclick=\"convertToInteractive('df-8b3a156a-ee9c-47d1-9b9e-88f49d0bf285')\"\n",
              "            title=\"Convert this dataframe to an interactive table.\"\n",
              "            style=\"display:none;\">\n",
              "\n",
              "  <svg xmlns=\"http://www.w3.org/2000/svg\" height=\"24px\" viewBox=\"0 -960 960 960\">\n",
              "    <path d=\"M120-120v-720h720v720H120Zm60-500h600v-160H180v160Zm220 220h160v-160H400v160Zm0 220h160v-160H400v160ZM180-400h160v-160H180v160Zm440 0h160v-160H620v160ZM180-180h160v-160H180v160Zm440 0h160v-160H620v160Z\"/>\n",
              "  </svg>\n",
              "    </button>\n",
              "\n",
              "  <style>\n",
              "    .colab-df-container {\n",
              "      display:flex;\n",
              "      gap: 12px;\n",
              "    }\n",
              "\n",
              "    .colab-df-convert {\n",
              "      background-color: #E8F0FE;\n",
              "      border: none;\n",
              "      border-radius: 50%;\n",
              "      cursor: pointer;\n",
              "      display: none;\n",
              "      fill: #1967D2;\n",
              "      height: 32px;\n",
              "      padding: 0 0 0 0;\n",
              "      width: 32px;\n",
              "    }\n",
              "\n",
              "    .colab-df-convert:hover {\n",
              "      background-color: #E2EBFA;\n",
              "      box-shadow: 0px 1px 2px rgba(60, 64, 67, 0.3), 0px 1px 3px 1px rgba(60, 64, 67, 0.15);\n",
              "      fill: #174EA6;\n",
              "    }\n",
              "\n",
              "    .colab-df-buttons div {\n",
              "      margin-bottom: 4px;\n",
              "    }\n",
              "\n",
              "    [theme=dark] .colab-df-convert {\n",
              "      background-color: #3B4455;\n",
              "      fill: #D2E3FC;\n",
              "    }\n",
              "\n",
              "    [theme=dark] .colab-df-convert:hover {\n",
              "      background-color: #434B5C;\n",
              "      box-shadow: 0px 1px 3px 1px rgba(0, 0, 0, 0.15);\n",
              "      filter: drop-shadow(0px 1px 2px rgba(0, 0, 0, 0.3));\n",
              "      fill: #FFFFFF;\n",
              "    }\n",
              "  </style>\n",
              "\n",
              "    <script>\n",
              "      const buttonEl =\n",
              "        document.querySelector('#df-8b3a156a-ee9c-47d1-9b9e-88f49d0bf285 button.colab-df-convert');\n",
              "      buttonEl.style.display =\n",
              "        google.colab.kernel.accessAllowed ? 'block' : 'none';\n",
              "\n",
              "      async function convertToInteractive(key) {\n",
              "        const element = document.querySelector('#df-8b3a156a-ee9c-47d1-9b9e-88f49d0bf285');\n",
              "        const dataTable =\n",
              "          await google.colab.kernel.invokeFunction('convertToInteractive',\n",
              "                                                    [key], {});\n",
              "        if (!dataTable) return;\n",
              "\n",
              "        const docLinkHtml = 'Like what you see? Visit the ' +\n",
              "          '<a target=\"_blank\" href=https://colab.research.google.com/notebooks/data_table.ipynb>data table notebook</a>'\n",
              "          + ' to learn more about interactive tables.';\n",
              "        element.innerHTML = '';\n",
              "        dataTable['output_type'] = 'display_data';\n",
              "        await google.colab.output.renderOutput(dataTable, element);\n",
              "        const docLink = document.createElement('div');\n",
              "        docLink.innerHTML = docLinkHtml;\n",
              "        element.appendChild(docLink);\n",
              "      }\n",
              "    </script>\n",
              "  </div>\n",
              "\n",
              "\n",
              "<div id=\"df-083db8a8-4b32-42ae-8ddf-62e401d2aa08\">\n",
              "  <button class=\"colab-df-quickchart\" onclick=\"quickchart('df-083db8a8-4b32-42ae-8ddf-62e401d2aa08')\"\n",
              "            title=\"Suggest charts.\"\n",
              "            style=\"display:none;\">\n",
              "\n",
              "<svg xmlns=\"http://www.w3.org/2000/svg\" height=\"24px\"viewBox=\"0 0 24 24\"\n",
              "     width=\"24px\">\n",
              "    <g>\n",
              "        <path d=\"M19 3H5c-1.1 0-2 .9-2 2v14c0 1.1.9 2 2 2h14c1.1 0 2-.9 2-2V5c0-1.1-.9-2-2-2zM9 17H7v-7h2v7zm4 0h-2V7h2v10zm4 0h-2v-4h2v4z\"/>\n",
              "    </g>\n",
              "</svg>\n",
              "  </button>\n",
              "\n",
              "<style>\n",
              "  .colab-df-quickchart {\n",
              "      --bg-color: #E8F0FE;\n",
              "      --fill-color: #1967D2;\n",
              "      --hover-bg-color: #E2EBFA;\n",
              "      --hover-fill-color: #174EA6;\n",
              "      --disabled-fill-color: #AAA;\n",
              "      --disabled-bg-color: #DDD;\n",
              "  }\n",
              "\n",
              "  [theme=dark] .colab-df-quickchart {\n",
              "      --bg-color: #3B4455;\n",
              "      --fill-color: #D2E3FC;\n",
              "      --hover-bg-color: #434B5C;\n",
              "      --hover-fill-color: #FFFFFF;\n",
              "      --disabled-bg-color: #3B4455;\n",
              "      --disabled-fill-color: #666;\n",
              "  }\n",
              "\n",
              "  .colab-df-quickchart {\n",
              "    background-color: var(--bg-color);\n",
              "    border: none;\n",
              "    border-radius: 50%;\n",
              "    cursor: pointer;\n",
              "    display: none;\n",
              "    fill: var(--fill-color);\n",
              "    height: 32px;\n",
              "    padding: 0;\n",
              "    width: 32px;\n",
              "  }\n",
              "\n",
              "  .colab-df-quickchart:hover {\n",
              "    background-color: var(--hover-bg-color);\n",
              "    box-shadow: 0 1px 2px rgba(60, 64, 67, 0.3), 0 1px 3px 1px rgba(60, 64, 67, 0.15);\n",
              "    fill: var(--button-hover-fill-color);\n",
              "  }\n",
              "\n",
              "  .colab-df-quickchart-complete:disabled,\n",
              "  .colab-df-quickchart-complete:disabled:hover {\n",
              "    background-color: var(--disabled-bg-color);\n",
              "    fill: var(--disabled-fill-color);\n",
              "    box-shadow: none;\n",
              "  }\n",
              "\n",
              "  .colab-df-spinner {\n",
              "    border: 2px solid var(--fill-color);\n",
              "    border-color: transparent;\n",
              "    border-bottom-color: var(--fill-color);\n",
              "    animation:\n",
              "      spin 1s steps(1) infinite;\n",
              "  }\n",
              "\n",
              "  @keyframes spin {\n",
              "    0% {\n",
              "      border-color: transparent;\n",
              "      border-bottom-color: var(--fill-color);\n",
              "      border-left-color: var(--fill-color);\n",
              "    }\n",
              "    20% {\n",
              "      border-color: transparent;\n",
              "      border-left-color: var(--fill-color);\n",
              "      border-top-color: var(--fill-color);\n",
              "    }\n",
              "    30% {\n",
              "      border-color: transparent;\n",
              "      border-left-color: var(--fill-color);\n",
              "      border-top-color: var(--fill-color);\n",
              "      border-right-color: var(--fill-color);\n",
              "    }\n",
              "    40% {\n",
              "      border-color: transparent;\n",
              "      border-right-color: var(--fill-color);\n",
              "      border-top-color: var(--fill-color);\n",
              "    }\n",
              "    60% {\n",
              "      border-color: transparent;\n",
              "      border-right-color: var(--fill-color);\n",
              "    }\n",
              "    80% {\n",
              "      border-color: transparent;\n",
              "      border-right-color: var(--fill-color);\n",
              "      border-bottom-color: var(--fill-color);\n",
              "    }\n",
              "    90% {\n",
              "      border-color: transparent;\n",
              "      border-bottom-color: var(--fill-color);\n",
              "    }\n",
              "  }\n",
              "</style>\n",
              "\n",
              "  <script>\n",
              "    async function quickchart(key) {\n",
              "      const quickchartButtonEl =\n",
              "        document.querySelector('#' + key + ' button');\n",
              "      quickchartButtonEl.disabled = true;  // To prevent multiple clicks.\n",
              "      quickchartButtonEl.classList.add('colab-df-spinner');\n",
              "      try {\n",
              "        const charts = await google.colab.kernel.invokeFunction(\n",
              "            'suggestCharts', [key], {});\n",
              "      } catch (error) {\n",
              "        console.error('Error during call to suggestCharts:', error);\n",
              "      }\n",
              "      quickchartButtonEl.classList.remove('colab-df-spinner');\n",
              "      quickchartButtonEl.classList.add('colab-df-quickchart-complete');\n",
              "    }\n",
              "    (() => {\n",
              "      let quickchartButtonEl =\n",
              "        document.querySelector('#df-083db8a8-4b32-42ae-8ddf-62e401d2aa08 button');\n",
              "      quickchartButtonEl.style.display =\n",
              "        google.colab.kernel.accessAllowed ? 'block' : 'none';\n",
              "    })();\n",
              "  </script>\n",
              "</div>\n",
              "    </div>\n",
              "  </div>\n"
            ]
          },
          "metadata": {},
          "execution_count": 23
        }
      ]
    },
    {
      "cell_type": "markdown",
      "source": [
        "### 3.5. Outliers\n"
      ],
      "metadata": {
        "id": "1EoMO6SzHS0d"
      }
    },
    {
      "cell_type": "code",
      "source": [
        "# Calculando o desvio padrão das variáveis numéricas\n",
        "dp_age = df['age'].std()\n",
        "dp_fnlwgt = df['fnlwgt'].std()\n",
        "dp_capital_gain = df['capital-gain'].std()\n",
        "dp_capital_loss = df['capital-loss'].std()\n",
        "dp_hours_per_week = df['hours-per-week'].std()\n",
        "\n",
        "print(\"Desvio Padrão 'age': \", dp_age)\n",
        "print(\"Desvio Padrão 'fnlwgt': \", dp_fnlwgt)\n",
        "print(\"Desvio Padrão 'capital-gain': \", dp_capital_gain)\n",
        "print(\"Desvio Padrão 'capital-loss': \", dp_capital_loss)\n",
        "print(\"Desvio Padrão 'hours-per-week': \", dp_hours_per_week)"
      ],
      "metadata": {
        "colab": {
          "base_uri": "https://localhost:8080/"
        },
        "id": "Mo02fTLAHVQF",
        "outputId": "87880d19-d6d7-46fd-8982-2b82dcce8a5d"
      },
      "execution_count": 24,
      "outputs": [
        {
          "output_type": "stream",
          "name": "stdout",
          "text": [
            "Desvio Padrão 'age':  0.18798825721441056\n",
            "Desvio Padrão 'fnlwgt':  0.0715652281445221\n",
            "Desvio Padrão 'capital-gain':  0.07445101591432718\n",
            "Desvio Padrão 'capital-loss':  0.09280174123558801\n",
            "Desvio Padrão 'hours-per-week':  0.12661088247609256\n"
          ]
        }
      ]
    },
    {
      "cell_type": "markdown",
      "source": [
        "#### 3.5.1. Visualizando os outliers"
      ],
      "metadata": {
        "id": "EkxxH2qgSyYs"
      }
    },
    {
      "cell_type": "code",
      "source": [
        "# Verificando se há outliers no conjunto\n",
        "df.loc[df['age'] >= 3 * dp_age, 'age']"
      ],
      "metadata": {
        "colab": {
          "base_uri": "https://localhost:8080/"
        },
        "id": "PP053JswQkSY",
        "outputId": "619b2c1b-309e-4c96-da75-b60cd1b65536"
      },
      "execution_count": 25,
      "outputs": [
        {
          "output_type": "execute_result",
          "data": {
            "text/plain": [
              "1       0.643836\n",
              "6       0.630137\n",
              "10      0.643836\n",
              "23      0.643836\n",
              "25      0.602740\n",
              "          ...   \n",
              "7262    0.712329\n",
              "7266    0.753425\n",
              "7276    0.630137\n",
              "7313    0.602740\n",
              "7314    0.616438\n",
              "Name: age, Length: 3912, dtype: float64"
            ]
          },
          "metadata": {},
          "execution_count": 25
        }
      ]
    },
    {
      "cell_type": "code",
      "source": [
        "plt.figure(figsize=(8,5))\n",
        "sns.displot(df['age'], kde = True)\n",
        "plt.show()"
      ],
      "metadata": {
        "colab": {
          "base_uri": "https://localhost:8080/",
          "height": 524
        },
        "id": "tVS-uZwrTpKx",
        "outputId": "8499cc95-6408-4488-cf21-80aa5692e6b8"
      },
      "execution_count": 26,
      "outputs": [
        {
          "output_type": "display_data",
          "data": {
            "text/plain": [
              "<Figure size 800x500 with 0 Axes>"
            ]
          },
          "metadata": {}
        },
        {
          "output_type": "display_data",
          "data": {
            "text/plain": [
              "<Figure size 500x500 with 1 Axes>"
            ],
            "image/png": "[encoded data removed]"
          },
          "metadata": {}
        }
      ]
    },
    {
      "cell_type": "code",
      "source": [
        "plt.figure(figsize=(8,5))\n",
        "sns.boxplot(x=\"age\", data = df)\n",
        "plt.show()"
      ],
      "metadata": {
        "colab": {
          "base_uri": "https://localhost:8080/",
          "height": 465
        },
        "id": "ZO_UK8gnQh3E",
        "outputId": "b11bf009-6994-482a-cdf2-8046e6b23d85"
      },
      "execution_count": 27,
      "outputs": [
        {
          "output_type": "display_data",
          "data": {
            "text/plain": [
              "<Figure size 800x500 with 1 Axes>"
            ],
            "image/png": "[encoded data removed]"
          },
          "metadata": {}
        }
      ]
    },
    {
      "cell_type": "code",
      "source": [
        "df.loc[df['fnlwgt'] >= 3 * dp_fnlwgt, 'fnlwgt']"
      ],
      "metadata": {
        "colab": {
          "base_uri": "https://localhost:8080/"
        },
        "id": "_jDuOVj1QkKC",
        "outputId": "1bf73bba-d0c1-4977-8341-5ad20a7e8972"
      },
      "execution_count": 28,
      "outputs": [
        {
          "output_type": "execute_result",
          "data": {
            "text/plain": [
              "3       0.218516\n",
              "7       0.411462\n",
              "15      0.235395\n",
              "22      0.226623\n",
              "39      0.244315\n",
              "          ...   \n",
              "7265    0.251070\n",
              "7270    0.980121\n",
              "7271    0.264224\n",
              "7292    0.246275\n",
              "7313    0.388458\n",
              "Name: fnlwgt, Length: 4144, dtype: float64"
            ]
          },
          "metadata": {},
          "execution_count": 28
        }
      ]
    },
    {
      "cell_type": "code",
      "source": [
        "plt.figure(figsize=(8,5))\n",
        "sns.displot(df['fnlwgt'], kde = True)\n",
        "plt.show()"
      ],
      "metadata": {
        "colab": {
          "base_uri": "https://localhost:8080/",
          "height": 524
        },
        "id": "zbXwBabgTSDb",
        "outputId": "ddf62515-47fb-49ab-b861-54d17e626bb2"
      },
      "execution_count": 29,
      "outputs": [
        {
          "output_type": "display_data",
          "data": {
            "text/plain": [
              "<Figure size 800x500 with 0 Axes>"
            ]
          },
          "metadata": {}
        },
        {
          "output_type": "display_data",
          "data": {
            "text/plain": [
              "<Figure size 500x500 with 1 Axes>"
            ],
            "image/png": "[encoded data removed]"
          },
          "metadata": {}
        }
      ]
    },
    {
      "cell_type": "code",
      "source": [
        "plt.figure(figsize=(8,5))\n",
        "sns.boxplot(x=\"fnlwgt\", data = df)\n",
        "plt.show()"
      ],
      "metadata": {
        "colab": {
          "base_uri": "https://localhost:8080/",
          "height": 465
        },
        "id": "yHRVQJ_nSBd_",
        "outputId": "1ac27efe-8796-4d29-ecea-5155766b4cea"
      },
      "execution_count": 30,
      "outputs": [
        {
          "output_type": "display_data",
          "data": {
            "text/plain": [
              "<Figure size 800x500 with 1 Axes>"
            ],
            "image/png": "[encoded data removed]"
          },
          "metadata": {}
        }
      ]
    },
    {
      "cell_type": "code",
      "source": [
        "df.loc[df['capital-gain'] >= 3 * dp_capital_gain, 'capital-gain']"
      ],
      "metadata": {
        "colab": {
          "base_uri": "https://localhost:8080/"
        },
        "id": "OQcWNnXTQj5i",
        "outputId": "d581d6cd-ceb6-44ce-c735-aa84cafbe202"
      },
      "execution_count": 31,
      "outputs": [
        {
          "output_type": "execute_result",
          "data": {
            "text/plain": [
              "62      1.000000\n",
              "169     1.000000\n",
              "233     1.000000\n",
              "264     1.000000\n",
              "488     1.000000\n",
              "          ...   \n",
              "6807    1.000000\n",
              "6840    0.251243\n",
              "6861    1.000000\n",
              "6937    0.278283\n",
              "7160    1.000000\n",
              "Name: capital-gain, Length: 283, dtype: float64"
            ]
          },
          "metadata": {},
          "execution_count": 31
        }
      ]
    },
    {
      "cell_type": "code",
      "source": [
        "plt.figure(figsize=(8,5))\n",
        "sns.displot(df['capital-gain'], kde = True)\n",
        "plt.show()"
      ],
      "metadata": {
        "colab": {
          "base_uri": "https://localhost:8080/",
          "height": 524
        },
        "id": "wkdgY8R8TvVC",
        "outputId": "4d804254-4891-4958-f7b3-af38eb91d965"
      },
      "execution_count": 32,
      "outputs": [
        {
          "output_type": "display_data",
          "data": {
            "text/plain": [
              "<Figure size 800x500 with 0 Axes>"
            ]
          },
          "metadata": {}
        },
        {
          "output_type": "display_data",
          "data": {
            "text/plain": [
              "<Figure size 500x500 with 1 Axes>"
            ],
            "image/png": "[encoded data removed]"
          },
          "metadata": {}
        }
      ]
    },
    {
      "cell_type": "code",
      "source": [
        "plt.figure(figsize=(8,5))\n",
        "sns.boxplot(x=\"capital-gain\", data = df)\n",
        "plt.show()"
      ],
      "metadata": {
        "colab": {
          "base_uri": "https://localhost:8080/",
          "height": 465
        },
        "id": "lfl9a6glSFHz",
        "outputId": "38e05224-10f6-424d-ef07-6214e6b6c82d"
      },
      "execution_count": 33,
      "outputs": [
        {
          "output_type": "display_data",
          "data": {
            "text/plain": [
              "<Figure size 800x500 with 1 Axes>"
            ],
            "image/png": "[encoded data removed]"
          },
          "metadata": {}
        }
      ]
    },
    {
      "cell_type": "code",
      "source": [
        "df.loc[df['capital-loss'] >= 3 * dp_capital_loss, 'capital-loss']"
      ],
      "metadata": {
        "colab": {
          "base_uri": "https://localhost:8080/"
        },
        "id": "NI4ukHQkQkCw",
        "outputId": "3b211fcf-7880-4316-c953-8a6b708a7b40"
      },
      "execution_count": 34,
      "outputs": [
        {
          "output_type": "execute_result",
          "data": {
            "text/plain": [
              "29      0.554408\n",
              "41      0.430670\n",
              "82      0.433196\n",
              "87      0.518365\n",
              "101     0.436639\n",
              "          ...   \n",
              "7253    0.587466\n",
              "7279    0.399449\n",
              "7285    0.399679\n",
              "7286    0.436639\n",
              "7322    0.433196\n",
              "Name: capital-loss, Length: 1909, dtype: float64"
            ]
          },
          "metadata": {},
          "execution_count": 34
        }
      ]
    },
    {
      "cell_type": "code",
      "source": [
        "plt.figure(figsize=(8,5))\n",
        "sns.displot(df['capital-loss'], kde = True)\n",
        "plt.show()"
      ],
      "metadata": {
        "colab": {
          "base_uri": "https://localhost:8080/",
          "height": 524
        },
        "id": "e07S8Y63Ty7h",
        "outputId": "2eb6422a-dd24-454d-e554-97c244406ebc"
      },
      "execution_count": 35,
      "outputs": [
        {
          "output_type": "display_data",
          "data": {
            "text/plain": [
              "<Figure size 800x500 with 0 Axes>"
            ]
          },
          "metadata": {}
        },
        {
          "output_type": "display_data",
          "data": {
            "text/plain": [
              "<Figure size 500x500 with 1 Axes>"
            ],
            "image/png": "[encoded data removed]"
          },
          "metadata": {}
        }
      ]
    },
    {
      "cell_type": "code",
      "source": [
        "plt.figure(figsize=(8,5))\n",
        "sns.boxplot(x=\"capital-loss\", data = df)\n",
        "plt.show()"
      ],
      "metadata": {
        "colab": {
          "base_uri": "https://localhost:8080/",
          "height": 465
        },
        "id": "iFF1Na1aSRNa",
        "outputId": "7ed5205a-966a-4ad1-8666-0b3e037090c7"
      },
      "execution_count": 36,
      "outputs": [
        {
          "output_type": "display_data",
          "data": {
            "text/plain": [
              "<Figure size 800x500 with 1 Axes>"
            ],
            "image/png": "[encoded data removed]"
          },
          "metadata": {}
        }
      ]
    },
    {
      "cell_type": "code",
      "source": [
        "df.loc[df['hours-per-week'] >= 3 * dp_hours_per_week, 'hours-per-week']"
      ],
      "metadata": {
        "colab": {
          "base_uri": "https://localhost:8080/"
        },
        "id": "ZKMPCr-ANsDj",
        "outputId": "2ca8c6e6-a6db-4829-c4cc-467d15c0cebf"
      },
      "execution_count": 37,
      "outputs": [
        {
          "output_type": "execute_result",
          "data": {
            "text/plain": [
              "0       0.397959\n",
              "2       0.397959\n",
              "3       0.500000\n",
              "5       0.642857\n",
              "7       0.397959\n",
              "          ...   \n",
              "7321    0.397959\n",
              "7322    0.500000\n",
              "7323    0.479592\n",
              "7325    0.500000\n",
              "7326    0.397959\n",
              "Name: hours-per-week, Length: 31637, dtype: float64"
            ]
          },
          "metadata": {},
          "execution_count": 37
        }
      ]
    },
    {
      "cell_type": "code",
      "source": [
        "plt.figure(figsize=(8,5))\n",
        "sns.displot(df['hours-per-week'], kde = True)\n",
        "plt.show()"
      ],
      "metadata": {
        "colab": {
          "base_uri": "https://localhost:8080/",
          "height": 524
        },
        "id": "2J9Jm3auOhmQ",
        "outputId": "f23ff1dc-9566-4be3-a698-f645b8928c5f"
      },
      "execution_count": 38,
      "outputs": [
        {
          "output_type": "display_data",
          "data": {
            "text/plain": [
              "<Figure size 800x500 with 0 Axes>"
            ]
          },
          "metadata": {}
        },
        {
          "output_type": "display_data",
          "data": {
            "text/plain": [
              "<Figure size 500x500 with 1 Axes>"
            ],
            "image/png": "[encoded data removed]"
          },
          "metadata": {}
        }
      ]
    },
    {
      "cell_type": "code",
      "source": [
        "plt.figure(figsize=(8,5))\n",
        "sns.boxplot(x=\"hours-per-week\", data = df)\n",
        "plt.show()"
      ],
      "metadata": {
        "colab": {
          "base_uri": "https://localhost:8080/",
          "height": 465
        },
        "id": "JXubt-oGSU1x",
        "outputId": "dd931014-7683-4b46-f7c5-3830f13a129a"
      },
      "execution_count": 39,
      "outputs": [
        {
          "output_type": "display_data",
          "data": {
            "text/plain": [
              "<Figure size 800x500 with 1 Axes>"
            ],
            "image/png": "[encoded data removed]"
          },
          "metadata": {}
        }
      ]
    },
    {
      "cell_type": "markdown",
      "source": [
        "#### 3.5.2. Tratando os outliers"
      ],
      "metadata": {
        "id": "p_tTOimhSoJJ"
      }
    },
    {
      "cell_type": "code",
      "source": [
        "# Função para definir os limites (inferior e superior) de uma varável\n",
        "def outlier_bounds(column):\n",
        "  Q1, Q3 = np.percentile(column, [25, 75])\n",
        "  IQR = Q3 - Q1\n",
        "  lower_bound = Q1 - (1.5 * IQR)\n",
        "  upper_bound = Q3 + (1.5 * IQR)\n",
        "  return lower_bound, upper_bound"
      ],
      "metadata": {
        "id": "L5exK1IKT4-h"
      },
      "execution_count": 40,
      "outputs": []
    },
    {
      "cell_type": "code",
      "source": [
        "# Definindo limites inferior e superior para a variável 'age'\n",
        "lower_bound, upper_bound = outlier_bounds(df['age'])\n",
        "\n",
        "print(\"Limite inferior 'age': \", lower_bound)\n",
        "print(\"Limite superior 'age': \", upper_bound)"
      ],
      "metadata": {
        "colab": {
          "base_uri": "https://localhost:8080/"
        },
        "id": "hYUPtCBmXOzu",
        "outputId": "868a96ca-86c5-41ad-fb7d-d33e3cb262ff"
      },
      "execution_count": 41,
      "outputs": [
        {
          "output_type": "stream",
          "name": "stdout",
          "text": [
            "Limite inferior 'age':  -0.2602739726027397\n",
            "Limite superior 'age':  0.8356164383561644\n"
          ]
        }
      ]
    },
    {
      "cell_type": "code",
      "source": [
        "# Definindo as linhas que possuem outliers para a variável 'age'\n",
        "df[(df.age < lower_bound) | (df.age > upper_bound)]"
      ],
      "metadata": {
        "id": "260alhqTXgvs",
        "colab": {
          "base_uri": "https://localhost:8080/",
          "height": 441
        },
        "outputId": "67014fc6-cb38-4aab-8ba7-73d73ae33472"
      },
      "execution_count": 42,
      "outputs": [
        {
          "output_type": "execute_result",
          "data": {
            "text/plain": [
              "           age  workclass    fnlwgt  educational-num  marital-status  \\\n",
              "110   0.890411   0.428571  0.011652         0.200000        1.000000   \n",
              "680   0.849315   0.428571  0.060170         0.733333        0.333333   \n",
              "687   0.904110   0.428571  0.122261         0.600000        0.000000   \n",
              "956   0.863014   0.714286  0.011652         0.200000        0.500000   \n",
              "1032  0.876712   0.428571  0.058292         0.800000        1.000000   \n",
              "...        ...        ...       ...              ...             ...   \n",
              "5759  0.876712   0.000000  0.117138         0.600000        0.333333   \n",
              "6487  0.917808   0.714286  0.242213         0.133333        0.666667   \n",
              "6599  0.849315   0.428571  0.057590         0.466667        0.666667   \n",
              "6710  1.000000   0.571429  0.119502         0.533333        0.666667   \n",
              "7151  1.000000   0.428571  0.047774         0.533333        0.666667   \n",
              "\n",
              "      occupation  relationship  race  gender  capital-gain  capital-loss  \\\n",
              "110     0.692308           0.2   1.0     1.0      0.000000           0.0   \n",
              "680     0.692308           1.0   1.0     0.0      0.000000           0.0   \n",
              "687     0.692308           0.8   1.0     0.0      0.000000           0.0   \n",
              "956     0.307692           0.8   1.0     1.0      0.000000           0.0   \n",
              "1032    0.846154           0.2   1.0     1.0      0.000000           0.0   \n",
              "...          ...           ...   ...     ...           ...           ...   \n",
              "5759    0.000000           1.0   1.0     0.0      0.000000           0.0   \n",
              "6487    0.461538           0.2   1.0     1.0      0.000000           0.0   \n",
              "6599    0.769231           0.2   0.5     0.0      0.184812           0.0   \n",
              "6710    0.230769           0.2   1.0     1.0      0.116781           0.0   \n",
              "7151    0.923077           0.6   1.0     1.0      0.029640           0.0   \n",
              "\n",
              "      hours-per-week  native-country  income  \n",
              "110         0.040816            0.95       0  \n",
              "680         0.010204            0.95       1  \n",
              "687         0.193878            0.95       0  \n",
              "956         0.142857            0.95       0  \n",
              "1032        0.500000            0.95       1  \n",
              "...              ...             ...     ...  \n",
              "5759        0.244898            0.95       1  \n",
              "6487        0.142857            0.95       0  \n",
              "6599        0.448980            0.95       1  \n",
              "6710        0.397959            0.95       0  \n",
              "7151        0.112245            0.95       0  \n",
              "\n",
              "[181 rows x 14 columns]"
            ],
            "text/html": [
              "\n",
              "  <div id=\"df-7dc75c66-d121-48cd-bb29-b18cf5aeb9b0\" class=\"colab-df-container\">\n",
              "    <div>\n",
              "<style scoped>\n",
              "    .dataframe tbody tr th:only-of-type {\n",
              "        vertical-align: middle;\n",
              "    }\n",
              "\n",
              "    .dataframe tbody tr th {\n",
              "        vertical-align: top;\n",
              "    }\n",
              "\n",
              "    .dataframe thead th {\n",
              "        text-align: right;\n",
              "    }\n",
              "</style>\n",
              "<table border=\"1\" class=\"dataframe\">\n",
              "  <thead>\n",
              "    <tr style=\"text-align: right;\">\n",
              "      <th></th>\n",
              "      <th>age</th>\n",
              "      <th>workclass</th>\n",
              "      <th>fnlwgt</th>\n",
              "      <th>educational-num</th>\n",
              "      <th>marital-status</th>\n",
              "      <th>occupation</th>\n",
              "      <th>relationship</th>\n",
              "      <th>race</th>\n",
              "      <th>gender</th>\n",
              "      <th>capital-gain</th>\n",
              "      <th>capital-loss</th>\n",
              "      <th>hours-per-week</th>\n",
              "      <th>native-country</th>\n",
              "      <th>income</th>\n",
              "    </tr>\n",
              "  </thead>\n",
              "  <tbody>\n",
              "    <tr>\n",
              "      <th>110</th>\n",
              "      <td>0.890411</td>\n",
              "      <td>0.428571</td>\n",
              "      <td>0.011652</td>\n",
              "      <td>0.200000</td>\n",
              "      <td>1.000000</td>\n",
              "      <td>0.692308</td>\n",
              "      <td>0.2</td>\n",
              "      <td>1.0</td>\n",
              "      <td>1.0</td>\n",
              "      <td>0.000000</td>\n",
              "      <td>0.0</td>\n",
              "      <td>0.040816</td>\n",
              "      <td>0.95</td>\n",
              "      <td>0</td>\n",
              "    </tr>\n",
              "    <tr>\n",
              "      <th>680</th>\n",
              "      <td>0.849315</td>\n",
              "      <td>0.428571</td>\n",
              "      <td>0.060170</td>\n",
              "      <td>0.733333</td>\n",
              "      <td>0.333333</td>\n",
              "      <td>0.692308</td>\n",
              "      <td>1.0</td>\n",
              "      <td>1.0</td>\n",
              "      <td>0.0</td>\n",
              "      <td>0.000000</td>\n",
              "      <td>0.0</td>\n",
              "      <td>0.010204</td>\n",
              "      <td>0.95</td>\n",
              "      <td>1</td>\n",
              "    </tr>\n",
              "    <tr>\n",
              "      <th>687</th>\n",
              "      <td>0.904110</td>\n",
              "      <td>0.428571</td>\n",
              "      <td>0.122261</td>\n",
              "      <td>0.600000</td>\n",
              "      <td>0.000000</td>\n",
              "      <td>0.692308</td>\n",
              "      <td>0.8</td>\n",
              "      <td>1.0</td>\n",
              "      <td>0.0</td>\n",
              "      <td>0.000000</td>\n",
              "      <td>0.0</td>\n",
              "      <td>0.193878</td>\n",
              "      <td>0.95</td>\n",
              "      <td>0</td>\n",
              "    </tr>\n",
              "    <tr>\n",
              "      <th>956</th>\n",
              "      <td>0.863014</td>\n",
              "      <td>0.714286</td>\n",
              "      <td>0.011652</td>\n",
              "      <td>0.200000</td>\n",
              "      <td>0.500000</td>\n",
              "      <td>0.307692</td>\n",
              "      <td>0.8</td>\n",
              "      <td>1.0</td>\n",
              "      <td>1.0</td>\n",
              "      <td>0.000000</td>\n",
              "      <td>0.0</td>\n",
              "      <td>0.142857</td>\n",
              "      <td>0.95</td>\n",
              "      <td>0</td>\n",
              "    </tr>\n",
              "    <tr>\n",
              "      <th>1032</th>\n",
              "      <td>0.876712</td>\n",
              "      <td>0.428571</td>\n",
              "      <td>0.058292</td>\n",
              "      <td>0.800000</td>\n",
              "      <td>1.000000</td>\n",
              "      <td>0.846154</td>\n",
              "      <td>0.2</td>\n",
              "      <td>1.0</td>\n",
              "      <td>1.0</td>\n",
              "      <td>0.000000</td>\n",
              "      <td>0.0</td>\n",
              "      <td>0.500000</td>\n",
              "      <td>0.95</td>\n",
              "      <td>1</td>\n",
              "    </tr>\n",
              "    <tr>\n",
              "      <th>...</th>\n",
              "      <td>...</td>\n",
              "      <td>...</td>\n",
              "      <td>...</td>\n",
              "      <td>...</td>\n",
              "      <td>...</td>\n",
              "      <td>...</td>\n",
              "      <td>...</td>\n",
              "      <td>...</td>\n",
              "      <td>...</td>\n",
              "      <td>...</td>\n",
              "      <td>...</td>\n",
              "      <td>...</td>\n",
              "      <td>...</td>\n",
              "      <td>...</td>\n",
              "    </tr>\n",
              "    <tr>\n",
              "      <th>5759</th>\n",
              "      <td>0.876712</td>\n",
              "      <td>0.000000</td>\n",
              "      <td>0.117138</td>\n",
              "      <td>0.600000</td>\n",
              "      <td>0.333333</td>\n",
              "      <td>0.000000</td>\n",
              "      <td>1.0</td>\n",
              "      <td>1.0</td>\n",
              "      <td>0.0</td>\n",
              "      <td>0.000000</td>\n",
              "      <td>0.0</td>\n",
              "      <td>0.244898</td>\n",
              "      <td>0.95</td>\n",
              "      <td>1</td>\n",
              "    </tr>\n",
              "    <tr>\n",
              "      <th>6487</th>\n",
              "      <td>0.917808</td>\n",
              "      <td>0.714286</td>\n",
              "      <td>0.242213</td>\n",
              "      <td>0.133333</td>\n",
              "      <td>0.666667</td>\n",
              "      <td>0.461538</td>\n",
              "      <td>0.2</td>\n",
              "      <td>1.0</td>\n",
              "      <td>1.0</td>\n",
              "      <td>0.000000</td>\n",
              "      <td>0.0</td>\n",
              "      <td>0.142857</td>\n",
              "      <td>0.95</td>\n",
              "      <td>0</td>\n",
              "    </tr>\n",
              "    <tr>\n",
              "      <th>6599</th>\n",
              "      <td>0.849315</td>\n",
              "      <td>0.428571</td>\n",
              "      <td>0.057590</td>\n",
              "      <td>0.466667</td>\n",
              "      <td>0.666667</td>\n",
              "      <td>0.769231</td>\n",
              "      <td>0.2</td>\n",
              "      <td>0.5</td>\n",
              "      <td>0.0</td>\n",
              "      <td>0.184812</td>\n",
              "      <td>0.0</td>\n",
              "      <td>0.448980</td>\n",
              "      <td>0.95</td>\n",
              "      <td>1</td>\n",
              "    </tr>\n",
              "    <tr>\n",
              "      <th>6710</th>\n",
              "      <td>1.000000</td>\n",
              "      <td>0.571429</td>\n",
              "      <td>0.119502</td>\n",
              "      <td>0.533333</td>\n",
              "      <td>0.666667</td>\n",
              "      <td>0.230769</td>\n",
              "      <td>0.2</td>\n",
              "      <td>1.0</td>\n",
              "      <td>1.0</td>\n",
              "      <td>0.116781</td>\n",
              "      <td>0.0</td>\n",
              "      <td>0.397959</td>\n",
              "      <td>0.95</td>\n",
              "      <td>0</td>\n",
              "    </tr>\n",
              "    <tr>\n",
              "      <th>7151</th>\n",
              "      <td>1.000000</td>\n",
              "      <td>0.428571</td>\n",
              "      <td>0.047774</td>\n",
              "      <td>0.533333</td>\n",
              "      <td>0.666667</td>\n",
              "      <td>0.923077</td>\n",
              "      <td>0.6</td>\n",
              "      <td>1.0</td>\n",
              "      <td>1.0</td>\n",
              "      <td>0.029640</td>\n",
              "      <td>0.0</td>\n",
              "      <td>0.112245</td>\n",
              "      <td>0.95</td>\n",
              "      <td>0</td>\n",
              "    </tr>\n",
              "  </tbody>\n",
              "</table>\n",
              "<p>181 rows × 14 columns</p>\n",
              "</div>\n",
              "    <div class=\"colab-df-buttons\">\n",
              "\n",
              "  <div class=\"colab-df-container\">\n",
              "    <button class=\"colab-df-convert\" onclick=\"convertToInteractive('df-7dc75c66-d121-48cd-bb29-b18cf5aeb9b0')\"\n",
              "            title=\"Convert this dataframe to an interactive table.\"\n",
              "            style=\"display:none;\">\n",
              "\n",
              "  <svg xmlns=\"http://www.w3.org/2000/svg\" height=\"24px\" viewBox=\"0 -960 960 960\">\n",
              "    <path d=\"M120-120v-720h720v720H120Zm60-500h600v-160H180v160Zm220 220h160v-160H400v160Zm0 220h160v-160H400v160ZM180-400h160v-160H180v160Zm440 0h160v-160H620v160ZM180-180h160v-160H180v160Zm440 0h160v-160H620v160Z\"/>\n",
              "  </svg>\n",
              "    </button>\n",
              "\n",
              "  <style>\n",
              "    .colab-df-container {\n",
              "      display:flex;\n",
              "      gap: 12px;\n",
              "    }\n",
              "\n",
              "    .colab-df-convert {\n",
              "      background-color: #E8F0FE;\n",
              "      border: none;\n",
              "      border-radius: 50%;\n",
              "      cursor: pointer;\n",
              "      display: none;\n",
              "      fill: #1967D2;\n",
              "      height: 32px;\n",
              "      padding: 0 0 0 0;\n",
              "      width: 32px;\n",
              "    }\n",
              "\n",
              "    .colab-df-convert:hover {\n",
              "      background-color: #E2EBFA;\n",
              "      box-shadow: 0px 1px 2px rgba(60, 64, 67, 0.3), 0px 1px 3px 1px rgba(60, 64, 67, 0.15);\n",
              "      fill: #174EA6;\n",
              "    }\n",
              "\n",
              "    .colab-df-buttons div {\n",
              "      margin-bottom: 4px;\n",
              "    }\n",
              "\n",
              "    [theme=dark] .colab-df-convert {\n",
              "      background-color: #3B4455;\n",
              "      fill: #D2E3FC;\n",
              "    }\n",
              "\n",
              "    [theme=dark] .colab-df-convert:hover {\n",
              "      background-color: #434B5C;\n",
              "      box-shadow: 0px 1px 3px 1px rgba(0, 0, 0, 0.15);\n",
              "      filter: drop-shadow(0px 1px 2px rgba(0, 0, 0, 0.3));\n",
              "      fill: #FFFFFF;\n",
              "    }\n",
              "  </style>\n",
              "\n",
              "    <script>\n",
              "      const buttonEl =\n",
              "        document.querySelector('#df-7dc75c66-d121-48cd-bb29-b18cf5aeb9b0 button.colab-df-convert');\n",
              "      buttonEl.style.display =\n",
              "        google.colab.kernel.accessAllowed ? 'block' : 'none';\n",
              "\n",
              "      async function convertToInteractive(key) {\n",
              "        const element = document.querySelector('#df-7dc75c66-d121-48cd-bb29-b18cf5aeb9b0');\n",
              "        const dataTable =\n",
              "          await google.colab.kernel.invokeFunction('convertToInteractive',\n",
              "                                                    [key], {});\n",
              "        if (!dataTable) return;\n",
              "\n",
              "        const docLinkHtml = 'Like what you see? Visit the ' +\n",
              "          '<a target=\"_blank\" href=https://colab.research.google.com/notebooks/data_table.ipynb>data table notebook</a>'\n",
              "          + ' to learn more about interactive tables.';\n",
              "        element.innerHTML = '';\n",
              "        dataTable['output_type'] = 'display_data';\n",
              "        await google.colab.output.renderOutput(dataTable, element);\n",
              "        const docLink = document.createElement('div');\n",
              "        docLink.innerHTML = docLinkHtml;\n",
              "        element.appendChild(docLink);\n",
              "      }\n",
              "    </script>\n",
              "  </div>\n",
              "\n",
              "\n",
              "<div id=\"df-6a60f1a0-0e6a-4b06-b8a9-e5a943e620f1\">\n",
              "  <button class=\"colab-df-quickchart\" onclick=\"quickchart('df-6a60f1a0-0e6a-4b06-b8a9-e5a943e620f1')\"\n",
              "            title=\"Suggest charts.\"\n",
              "            style=\"display:none;\">\n",
              "\n",
              "<svg xmlns=\"http://www.w3.org/2000/svg\" height=\"24px\"viewBox=\"0 0 24 24\"\n",
              "     width=\"24px\">\n",
              "    <g>\n",
              "        <path d=\"M19 3H5c-1.1 0-2 .9-2 2v14c0 1.1.9 2 2 2h14c1.1 0 2-.9 2-2V5c0-1.1-.9-2-2-2zM9 17H7v-7h2v7zm4 0h-2V7h2v10zm4 0h-2v-4h2v4z\"/>\n",
              "    </g>\n",
              "</svg>\n",
              "  </button>\n",
              "\n",
              "<style>\n",
              "  .colab-df-quickchart {\n",
              "      --bg-color: #E8F0FE;\n",
              "      --fill-color: #1967D2;\n",
              "      --hover-bg-color: #E2EBFA;\n",
              "      --hover-fill-color: #174EA6;\n",
              "      --disabled-fill-color: #AAA;\n",
              "      --disabled-bg-color: #DDD;\n",
              "  }\n",
              "\n",
              "  [theme=dark] .colab-df-quickchart {\n",
              "      --bg-color: #3B4455;\n",
              "      --fill-color: #D2E3FC;\n",
              "      --hover-bg-color: #434B5C;\n",
              "      --hover-fill-color: #FFFFFF;\n",
              "      --disabled-bg-color: #3B4455;\n",
              "      --disabled-fill-color: #666;\n",
              "  }\n",
              "\n",
              "  .colab-df-quickchart {\n",
              "    background-color: var(--bg-color);\n",
              "    border: none;\n",
              "    border-radius: 50%;\n",
              "    cursor: pointer;\n",
              "    display: none;\n",
              "    fill: var(--fill-color);\n",
              "    height: 32px;\n",
              "    padding: 0;\n",
              "    width: 32px;\n",
              "  }\n",
              "\n",
              "  .colab-df-quickchart:hover {\n",
              "    background-color: var(--hover-bg-color);\n",
              "    box-shadow: 0 1px 2px rgba(60, 64, 67, 0.3), 0 1px 3px 1px rgba(60, 64, 67, 0.15);\n",
              "    fill: var(--button-hover-fill-color);\n",
              "  }\n",
              "\n",
              "  .colab-df-quickchart-complete:disabled,\n",
              "  .colab-df-quickchart-complete:disabled:hover {\n",
              "    background-color: var(--disabled-bg-color);\n",
              "    fill: var(--disabled-fill-color);\n",
              "    box-shadow: none;\n",
              "  }\n",
              "\n",
              "  .colab-df-spinner {\n",
              "    border: 2px solid var(--fill-color);\n",
              "    border-color: transparent;\n",
              "    border-bottom-color: var(--fill-color);\n",
              "    animation:\n",
              "      spin 1s steps(1) infinite;\n",
              "  }\n",
              "\n",
              "  @keyframes spin {\n",
              "    0% {\n",
              "      border-color: transparent;\n",
              "      border-bottom-color: var(--fill-color);\n",
              "      border-left-color: var(--fill-color);\n",
              "    }\n",
              "    20% {\n",
              "      border-color: transparent;\n",
              "      border-left-color: var(--fill-color);\n",
              "      border-top-color: var(--fill-color);\n",
              "    }\n",
              "    30% {\n",
              "      border-color: transparent;\n",
              "      border-left-color: var(--fill-color);\n",
              "      border-top-color: var(--fill-color);\n",
              "      border-right-color: var(--fill-color);\n",
              "    }\n",
              "    40% {\n",
              "      border-color: transparent;\n",
              "      border-right-color: var(--fill-color);\n",
              "      border-top-color: var(--fill-color);\n",
              "    }\n",
              "    60% {\n",
              "      border-color: transparent;\n",
              "      border-right-color: var(--fill-color);\n",
              "    }\n",
              "    80% {\n",
              "      border-color: transparent;\n",
              "      border-right-color: var(--fill-color);\n",
              "      border-bottom-color: var(--fill-color);\n",
              "    }\n",
              "    90% {\n",
              "      border-color: transparent;\n",
              "      border-bottom-color: var(--fill-color);\n",
              "    }\n",
              "  }\n",
              "</style>\n",
              "\n",
              "  <script>\n",
              "    async function quickchart(key) {\n",
              "      const quickchartButtonEl =\n",
              "        document.querySelector('#' + key + ' button');\n",
              "      quickchartButtonEl.disabled = true;  // To prevent multiple clicks.\n",
              "      quickchartButtonEl.classList.add('colab-df-spinner');\n",
              "      try {\n",
              "        const charts = await google.colab.kernel.invokeFunction(\n",
              "            'suggestCharts', [key], {});\n",
              "      } catch (error) {\n",
              "        console.error('Error during call to suggestCharts:', error);\n",
              "      }\n",
              "      quickchartButtonEl.classList.remove('colab-df-spinner');\n",
              "      quickchartButtonEl.classList.add('colab-df-quickchart-complete');\n",
              "    }\n",
              "    (() => {\n",
              "      let quickchartButtonEl =\n",
              "        document.querySelector('#df-6a60f1a0-0e6a-4b06-b8a9-e5a943e620f1 button');\n",
              "      quickchartButtonEl.style.display =\n",
              "        google.colab.kernel.accessAllowed ? 'block' : 'none';\n",
              "    })();\n",
              "  </script>\n",
              "</div>\n",
              "    </div>\n",
              "  </div>\n"
            ]
          },
          "metadata": {},
          "execution_count": 42
        }
      ]
    },
    {
      "cell_type": "code",
      "source": [
        "# Atualizando o valor do vetor 'numericals', desconsiderando 'capital-gain' e\n",
        "# 'capital-loss' do tratamento de outliers, pois possuem valores esparsos\n",
        "numericals.remove('capital-gain')\n",
        "numericals.remove('capital-loss')\n",
        "numericals"
      ],
      "metadata": {
        "colab": {
          "base_uri": "https://localhost:8080/"
        },
        "id": "TCePacxTi70-",
        "outputId": "35b4d806-695d-44eb-98c4-e859cbe7e080"
      },
      "execution_count": 43,
      "outputs": [
        {
          "output_type": "execute_result",
          "data": {
            "text/plain": [
              "['age', 'fnlwgt', 'educational-num', 'hours-per-week']"
            ]
          },
          "metadata": {},
          "execution_count": 43
        }
      ]
    },
    {
      "cell_type": "code",
      "source": [
        "# Tratamento dos outliers\n",
        "for i in numericals:\n",
        "  lower_bound, upper_bound = outlier_bounds(df[i])\n",
        "  median = df[i].median()\n",
        "  df.loc[(df[i] < lower_bound) | (df[i] > upper_bound), i] = median\n",
        "  print('Variável \\'{}\\'\\nOutliers: {}\\n'.format(i, df[\n",
        "    (df[i] < lower_bound) | (df[i] > upper_bound)][i]))"
      ],
      "metadata": {
        "colab": {
          "base_uri": "https://localhost:8080/"
        },
        "id": "XzC16R7qm3T0",
        "outputId": "d7291b9e-2ea1-4be3-a7b7-27f29e760304"
      },
      "execution_count": 44,
      "outputs": [
        {
          "output_type": "stream",
          "name": "stdout",
          "text": [
            "Variável 'age'\n",
            "Outliers: Series([], Name: age, dtype: float64)\n",
            "\n",
            "Variável 'fnlwgt'\n",
            "Outliers: Series([], Name: fnlwgt, dtype: float64)\n",
            "\n",
            "Variável 'educational-num'\n",
            "Outliers: Series([], Name: educational-num, dtype: float64)\n",
            "\n",
            "Variável 'hours-per-week'\n",
            "Outliers: Series([], Name: hours-per-week, dtype: float64)\n",
            "\n"
          ]
        }
      ]
    },
    {
      "cell_type": "code",
      "source": [
        "# Mapa de Calor de Correlação (Correlation Heatmap)\n",
        "fig, ax = plt.subplots(figsize=(16,12))\n",
        "ax = sns.heatmap(df.corr(), annot = True)\n",
        "\n",
        "# Nenhuma correlação foi maior que 0.7 ou menor que -0.7;\n",
        "# portanto, pode-se afirmar que não correlação entre as variáveis"
      ],
      "metadata": {
        "colab": {
          "base_uri": "https://localhost:8080/",
          "height": 1000
        },
        "id": "W33ZlMMioL-1",
        "outputId": "f0fc25ab-6856-42dc-a3c0-2f3f18f4d05b"
      },
      "execution_count": 45,
      "outputs": [
        {
          "output_type": "display_data",
          "data": {
            "text/plain": [
              "<Figure size 1600x1200 with 2 Axes>"
            ],
            "image/png": "[encoded data removed]"
          },
          "metadata": {}
        }
      ]
    },
    {
      "cell_type": "code",
      "source": [
        "# Criando os conjuntos de treino e de test\n",
        "X = df.iloc[:,:-1] # ou X = all_columns[:-1]\n",
        "y = df['income']\n",
        "\n",
        "print(X)\n",
        "print(y.shape)"
      ],
      "metadata": {
        "colab": {
          "base_uri": "https://localhost:8080/"
        },
        "id": "-u3eBALcftFD",
        "outputId": "b1a22d5e-9802-4a1c-a8f4-536a79c3b37f"
      },
      "execution_count": 46,
      "outputs": [
        {
          "output_type": "stream",
          "name": "stdout",
          "text": [
            "           age  workclass    fnlwgt  educational-num  marital-status  \\\n",
            "0     0.109589   0.428571  0.119858         0.533333        0.666667   \n",
            "1     0.643836   0.428571  0.186392         0.533333        1.000000   \n",
            "2     0.164384   0.428571  0.164027         0.533333        0.333333   \n",
            "3     0.150685   0.428571  0.218516         0.666667        0.333333   \n",
            "4     0.068493   0.428571  0.109153         0.533333        0.666667   \n",
            "...        ...        ...       ...              ...             ...   \n",
            "7322  0.342466   0.000000  0.109628         0.600000        0.333333   \n",
            "7323  0.136986   0.857143  0.141578         0.533333        0.333333   \n",
            "7324  0.013699   0.428571  0.118597         0.600000        0.666667   \n",
            "7325  0.369863   0.428571  0.078237         0.533333        0.333333   \n",
            "7326  0.301370   0.428571  0.180891         0.533333        0.333333   \n",
            "\n",
            "      occupation  relationship  race  gender  capital-gain  capital-loss  \\\n",
            "0       0.153846           0.6   1.0     1.0      0.000000      0.000000   \n",
            "1       0.846154           0.2   1.0     0.0      0.000000      0.000000   \n",
            "2       0.153846           0.0   1.0     1.0      0.000000      0.000000   \n",
            "3       0.153846           0.0   1.0     1.0      0.000000      0.000000   \n",
            "4       0.461538           0.4   0.5     1.0      0.000000      0.000000   \n",
            "...          ...           ...   ...     ...           ...           ...   \n",
            "7322    0.230769           0.0   1.0     1.0      0.000000      0.433196   \n",
            "7323    0.692308           0.0   0.0     1.0      0.000000      0.000000   \n",
            "7324    0.153846           0.2   1.0     1.0      0.000000      0.000000   \n",
            "7325    0.230769           0.0   1.0     1.0      0.072981      0.000000   \n",
            "7326    0.692308           0.0   1.0     1.0      0.000000      0.000000   \n",
            "\n",
            "      hours-per-week  native-country  \n",
            "0           0.397959           0.950  \n",
            "1           0.397959           0.950  \n",
            "2           0.397959           0.150  \n",
            "3           0.500000           0.950  \n",
            "4           0.397959           0.950  \n",
            "...              ...             ...  \n",
            "7322        0.500000           0.950  \n",
            "7323        0.479592           0.950  \n",
            "7324        0.397959           0.950  \n",
            "7325        0.500000           0.950  \n",
            "7326        0.397959           0.025  \n",
            "\n",
            "[41516 rows x 13 columns]\n",
            "(41516,)\n"
          ]
        }
      ]
    },
    {
      "cell_type": "markdown",
      "source": [
        "### 4. Treinamento"
      ],
      "metadata": {
        "id": "6GFxcRwjgxa9"
      }
    },
    {
      "cell_type": "markdown",
      "source": [
        "### 4.1. Divisão do conjunto de dados em treino e teste"
      ],
      "metadata": {
        "id": "nVc-TFHZj7Xa"
      }
    },
    {
      "cell_type": "code",
      "source": [
        "# Dividindo o dataframe em treino e teste\n",
        "X_train, X_test, y_train, y_test = train_test_split(X, y, test_size = 0.22)\n",
        "\n",
        "# Quando os dados foram concatenados, treino tinha 34189 registros e teste tinha\n",
        "# 7327 registros. Para manter a proporção, optou-se por dividir em 78% e 22%\n",
        "# (arredondando-se)"
      ],
      "metadata": {
        "id": "56ogLib2f5In"
      },
      "execution_count": 51,
      "outputs": []
    },
    {
      "cell_type": "code",
      "source": [
        "# Verificando a divisão dos conjuntos de treino e teste\n",
        "print(X_train.shape, X_test.shape, y_train.shape, y_test.shape)"
      ],
      "metadata": {
        "colab": {
          "base_uri": "https://localhost:8080/"
        },
        "id": "Du38okrIjR3b",
        "outputId": "574e6d21-6e6e-4302-c0e5-41ba9d5ba63f"
      },
      "execution_count": 52,
      "outputs": [
        {
          "output_type": "stream",
          "name": "stdout",
          "text": [
            "(32382, 13) (9134, 13) (32382,) (9134,)\n"
          ]
        }
      ]
    },
    {
      "cell_type": "markdown",
      "source": [
        "### 4.2. Modelos"
      ],
      "metadata": {
        "id": "2M7585lokFyF"
      }
    },
    {
      "cell_type": "markdown",
      "source": [
        "#### 4.2.1. Logistic Regression (Regressão Logística)"
      ],
      "metadata": {
        "id": "zy-ShEeHkSm_"
      }
    },
    {
      "cell_type": "code",
      "source": [
        "logistic_regressor = LogisticRegression()\n",
        "logistic_regressor.fit(X_train, y_train)"
      ],
      "metadata": {
        "colab": {
          "base_uri": "https://localhost:8080/",
          "height": 75
        },
        "id": "Ax1Y_t4apeEr",
        "outputId": "504782dc-969c-4bc1-c824-f0f335c4b28e"
      },
      "execution_count": 55,
      "outputs": [
        {
          "output_type": "execute_result",
          "data": {
            "text/plain": [
              "LogisticRegression()"
            ],
            "text/html": [
              "<style>#sk-container-id-1 {color: black;background-color: white;}#sk-container-id-1 pre{padding: 0;}#sk-container-id-1 div.sk-toggleable {background-color: white;}#sk-container-id-1 label.sk-toggleable__label {cursor: pointer;display: block;width: 100%;margin-bottom: 0;padding: 0.3em;box-sizing: border-box;text-align: center;}#sk-container-id-1 label.sk-toggleable__label-arrow:before {content: \"▸\";float: left;margin-right: 0.25em;color: #696969;}#sk-container-id-1 label.sk-toggleable__label-arrow:hover:before {color: black;}#sk-container-id-1 div.sk-estimator:hover label.sk-toggleable__label-arrow:before {color: black;}#sk-container-id-1 div.sk-toggleable__content {max-height: 0;max-width: 0;overflow: hidden;text-align: left;background-color: #f0f8ff;}#sk-container-id-1 div.sk-toggleable__content pre {margin: 0.2em;color: black;border-radius: 0.25em;background-color: #f0f8ff;}#sk-container-id-1 input.sk-toggleable__control:checked~div.sk-toggleable__content {max-height: 200px;max-width: 100%;overflow: auto;}#sk-container-id-1 input.sk-toggleable__control:checked~label.sk-toggleable__label-arrow:before {content: \"▾\";}#sk-container-id-1 div.sk-estimator input.sk-toggleable__control:checked~label.sk-toggleable__label {background-color: #d4ebff;}#sk-container-id-1 div.sk-label input.sk-toggleable__control:checked~label.sk-toggleable__label {background-color: #d4ebff;}#sk-container-id-1 input.sk-hidden--visually {border: 0;clip: rect(1px 1px 1px 1px);clip: rect(1px, 1px, 1px, 1px);height: 1px;margin: -1px;overflow: hidden;padding: 0;position: absolute;width: 1px;}#sk-container-id-1 div.sk-estimator {font-family: monospace;background-color: #f0f8ff;border: 1px dotted black;border-radius: 0.25em;box-sizing: border-box;margin-bottom: 0.5em;}#sk-container-id-1 div.sk-estimator:hover {background-color: #d4ebff;}#sk-container-id-1 div.sk-parallel-item::after {content: \"\";width: 100%;border-bottom: 1px solid gray;flex-grow: 1;}#sk-container-id-1 div.sk-label:hover label.sk-toggleable__label {background-color: #d4ebff;}#sk-container-id-1 div.sk-serial::before {content: \"\";position: absolute;border-left: 1px solid gray;box-sizing: border-box;top: 0;bottom: 0;left: 50%;z-index: 0;}#sk-container-id-1 div.sk-serial {display: flex;flex-direction: column;align-items: center;background-color: white;padding-right: 0.2em;padding-left: 0.2em;position: relative;}#sk-container-id-1 div.sk-item {position: relative;z-index: 1;}#sk-container-id-1 div.sk-parallel {display: flex;align-items: stretch;justify-content: center;background-color: white;position: relative;}#sk-container-id-1 div.sk-item::before, #sk-container-id-1 div.sk-parallel-item::before {content: \"\";position: absolute;border-left: 1px solid gray;box-sizing: border-box;top: 0;bottom: 0;left: 50%;z-index: -1;}#sk-container-id-1 div.sk-parallel-item {display: flex;flex-direction: column;z-index: 1;position: relative;background-color: white;}#sk-container-id-1 div.sk-parallel-item:first-child::after {align-self: flex-end;width: 50%;}#sk-container-id-1 div.sk-parallel-item:last-child::after {align-self: flex-start;width: 50%;}#sk-container-id-1 div.sk-parallel-item:only-child::after {width: 0;}#sk-container-id-1 div.sk-dashed-wrapped {border: 1px dashed gray;margin: 0 0.4em 0.5em 0.4em;box-sizing: border-box;padding-bottom: 0.4em;background-color: white;}#sk-container-id-1 div.sk-label label {font-family: monospace;font-weight: bold;display: inline-block;line-height: 1.2em;}#sk-container-id-1 div.sk-label-container {text-align: center;}#sk-container-id-1 div.sk-container {/* jupyter's `normalize.less` sets `[hidden] { display: none; }` but bootstrap.min.css set `[hidden] { display: none !important; }` so we also need the `!important` here to be able to override the default hidden behavior on the sphinx rendered scikit-learn.org. See: https://github.com/scikit-learn/scikit-learn/issues/21755 */display: inline-block !important;position: relative;}#sk-container-id-1 div.sk-text-repr-fallback {display: none;}</style><div id=\"sk-container-id-1\" class=\"sk-top-container\"><div class=\"sk-text-repr-fallback\"><pre>LogisticRegression()</pre><b>In a Jupyter environment, please rerun this cell to show the HTML representation or trust the notebook. <br />On GitHub, the HTML representation is unable to render, please try loading this page with nbviewer.org.</b></div><div class=\"sk-container\" hidden><div class=\"sk-item\"><div class=\"sk-estimator sk-toggleable\"><input class=\"sk-toggleable__control sk-hidden--visually\" id=\"sk-estimator-id-1\" type=\"checkbox\" checked><label for=\"sk-estimator-id-1\" class=\"sk-toggleable__label sk-toggleable__label-arrow\">LogisticRegression</label><div class=\"sk-toggleable__content\"><pre>LogisticRegression()</pre></div></div></div></div></div>"
            ]
          },
          "metadata": {},
          "execution_count": 55
        }
      ]
    },
    {
      "cell_type": "code",
      "source": [
        "logistic_train_score = logistic_regressor.score(X_train, y_train)\n",
        "logistic_test_score = logistic_regressor.score(X_test, y_test)\n",
        "logistic_prediction = logistic_regressor.predict(X_test)\n",
        "\n",
        "print('Train Score: {0}\\nTest Score: {1}'.format(logistic_train_score, logistic_test_score))"
      ],
      "metadata": {
        "colab": {
          "base_uri": "https://localhost:8080/"
        },
        "id": "okdKxPKhqd59",
        "outputId": "7e11b1a4-bb40-45c9-d9a3-5f86aeb66694"
      },
      "execution_count": 56,
      "outputs": [
        {
          "output_type": "stream",
          "name": "stdout",
          "text": [
            "Train Score: 0.8015564202334631\n",
            "Test Score: 0.7939566455003284\n"
          ]
        }
      ]
    },
    {
      "cell_type": "code",
      "source": [
        "logistic_as = accuracy_score(y_test, logistic_prediction)\n",
        "logistic_f1 = f1_score(y_test, logistic_prediction)\n",
        "logistic_rs = recall_score(y_test, logistic_prediction)\n",
        "logistic_cm = confusion_matrix(y_test, logistic_prediction)\n",
        "\n",
        "print(f'Accuracy Score:\\n{logistic_as}\\n')\n",
        "print(f'F1 Score:\\n{logistic_f1}\\n')\n",
        "print(f'Recall Score:\\n{logistic_rs}\\n')\n",
        "print(f'Confusion Matrix:\\n{logistic_cm}\\n')"
      ],
      "metadata": {
        "colab": {
          "base_uri": "https://localhost:8080/"
        },
        "id": "dZTrWua7rAmd",
        "outputId": "ae3a60ba-9314-48a6-f444-06be766b7bf1"
      },
      "execution_count": 92,
      "outputs": [
        {
          "output_type": "stream",
          "name": "stdout",
          "text": [
            "Accuracy Score:\n",
            "0.7939566455003284\n",
            "\n",
            "F1 Score:\n",
            "0.44809384164222876\n",
            "\n",
            "Recall Score:\n",
            "0.3398576512455516\n",
            "\n",
            "Confusion Matrix:\n",
            "[[6488  398]\n",
            " [1484  764]]\n",
            "\n"
          ]
        }
      ]
    },
    {
      "cell_type": "markdown",
      "source": [
        "#### 4.2.2 K-Nearest Neighbors Classifier (K-ésimo Vizinho mais Próximo)"
      ],
      "metadata": {
        "id": "3tHj9xvpkdRK"
      }
    },
    {
      "cell_type": "code",
      "source": [
        "error_rate = []\n",
        "k_values = list(filter(lambda x: x%2 == 1, range(0, 50)))\n",
        "best_k = 0\n",
        "\n",
        "for i in k_values:\n",
        "  knn = KNeighborsClassifier(n_neighbors = i)\n",
        "  knn.fit(X_train, y_train)\n",
        "  pred_i = knn.predict(X_test)\n",
        "  error_rate.append(np.mean(pred_i != y_test))\n",
        "print(error_rate.index(np.min(error_rate)))"
      ],
      "metadata": {
        "colab": {
          "base_uri": "https://localhost:8080/"
        },
        "id": "P7wNOB0TvaVI",
        "outputId": "bae0bc81-b543-451a-c0de-dce1c3a38aef"
      },
      "execution_count": 79,
      "outputs": [
        {
          "output_type": "stream",
          "name": "stdout",
          "text": [
            "15\n"
          ]
        }
      ]
    },
    {
      "cell_type": "code",
      "source": [
        "plt.figure(figsize=(10,10))\n",
        "plt.plot(k_values, error_rate,color = 'blue', linestyle='dashed', marker='o',\n",
        "         markerfacecolor='red', markersize = 10)\n",
        "plt.title('Taxa de Erro x Valor de K')\n",
        "plt.xlabel('K')\n",
        "plt.ylabel('Taxa de Erro')"
      ],
      "metadata": {
        "colab": {
          "base_uri": "https://localhost:8080/",
          "height": 890
        },
        "id": "lTgpsVNbvaRd",
        "outputId": "212d27dc-acab-464d-922f-4715613f33a7"
      },
      "execution_count": 80,
      "outputs": [
        {
          "output_type": "execute_result",
          "data": {
            "text/plain": [
              "Text(0, 0.5, 'Taxa de Erro')"
            ]
          },
          "metadata": {},
          "execution_count": 80
        },
        {
          "output_type": "display_data",
          "data": {
            "text/plain": [
              "<Figure size 1000x1000 with 1 Axes>"
            ],
            "image/png": "[encoded data removed]"
          },
          "metadata": {}
        }
      ]
    },
    {
      "cell_type": "code",
      "source": [
        "# 2 * index + 1, o index vale 15, como verificado acima\n",
        "knn = KNeighborsClassifier(n_neighbors = 31)\n",
        "modelo = knn.fit(X, y)"
      ],
      "metadata": {
        "id": "tv-VjaRBvaOL"
      },
      "execution_count": 97,
      "outputs": []
    },
    {
      "cell_type": "code",
      "source": [
        "knn_prev = modelo.predict(X)\n",
        "print(knn_prev)"
      ],
      "metadata": {
        "colab": {
          "base_uri": "https://localhost:8080/"
        },
        "id": "RwfhvXWJvaLB",
        "outputId": "4d01d11e-b943-4161-ceab-c868fbd93b9b"
      },
      "execution_count": 98,
      "outputs": [
        {
          "output_type": "stream",
          "name": "stdout",
          "text": [
            "[0 0 0 ... 0 1 0]\n"
          ]
        }
      ]
    },
    {
      "cell_type": "code",
      "source": [
        "accuracy = accuracy_score(y, knn_prev)\n",
        "precision = precision_score(y, knn_prev, average = 'weighted')\n",
        "recall = recall_score(y, knn_prev, average = 'weighted')\n",
        "f1 = f1_score(y, knn_prev, average = 'weighted')\n",
        "cm = confusion_matrix(y, knn_prev)\n",
        "\n",
        "print(f'Accuracy Score:\\n{accuracy}\\n')\n",
        "print(f'F1 Score:\\n{f1}\\n')\n",
        "print(f'Recall Score:\\n{recall}\\n')\n",
        "print(f'Confusion Matrix:\\n{cm}\\n')"
      ],
      "metadata": {
        "colab": {
          "base_uri": "https://localhost:8080/"
        },
        "id": "p4IzXuaQvZ-l",
        "outputId": "77f4cfcb-63f5-4485-e1fd-92bb15789fba"
      },
      "execution_count": 99,
      "outputs": [
        {
          "output_type": "stream",
          "name": "stdout",
          "text": [
            "Accuracy Score:\n",
            "0.8308122169765874\n",
            "\n",
            "F1 Score:\n",
            "0.8215796366052232\n",
            "\n",
            "Recall Score:\n",
            "0.8308122169765874\n",
            "\n",
            "Confusion Matrix:\n",
            "[[29249  2208]\n",
            " [ 4816  5243]]\n",
            "\n"
          ]
        }
      ]
    },
    {
      "cell_type": "markdown",
      "source": [
        "#### 4.2.3 Support Vector Classifier (Máquina de Vetores de Suporte)"
      ],
      "metadata": {
        "id": "0_9eyZEiklPV"
      }
    },
    {
      "cell_type": "code",
      "source": [
        "svc = SVC(kernel = 'rbf')\n",
        "svc.fit(X_train, y_train)"
      ],
      "metadata": {
        "colab": {
          "base_uri": "https://localhost:8080/",
          "height": 75
        },
        "id": "PL78k9ZazoIG",
        "outputId": "4775dd7e-d4df-44e9-d898-c812dbe32bd9"
      },
      "execution_count": 89,
      "outputs": [
        {
          "output_type": "execute_result",
          "data": {
            "text/plain": [
              "SVC()"
            ],
            "text/html": [
              "<style>#sk-container-id-3 {color: black;background-color: white;}#sk-container-id-3 pre{padding: 0;}#sk-container-id-3 div.sk-toggleable {background-color: white;}#sk-container-id-3 label.sk-toggleable__label {cursor: pointer;display: block;width: 100%;margin-bottom: 0;padding: 0.3em;box-sizing: border-box;text-align: center;}#sk-container-id-3 label.sk-toggleable__label-arrow:before {content: \"▸\";float: left;margin-right: 0.25em;color: #696969;}#sk-container-id-3 label.sk-toggleable__label-arrow:hover:before {color: black;}#sk-container-id-3 div.sk-estimator:hover label.sk-toggleable__label-arrow:before {color: black;}#sk-container-id-3 div.sk-toggleable__content {max-height: 0;max-width: 0;overflow: hidden;text-align: left;background-color: #f0f8ff;}#sk-container-id-3 div.sk-toggleable__content pre {margin: 0.2em;color: black;border-radius: 0.25em;background-color: #f0f8ff;}#sk-container-id-3 input.sk-toggleable__control:checked~div.sk-toggleable__content {max-height: 200px;max-width: 100%;overflow: auto;}#sk-container-id-3 input.sk-toggleable__control:checked~label.sk-toggleable__label-arrow:before {content: \"▾\";}#sk-container-id-3 div.sk-estimator input.sk-toggleable__control:checked~label.sk-toggleable__label {background-color: #d4ebff;}#sk-container-id-3 div.sk-label input.sk-toggleable__control:checked~label.sk-toggleable__label {background-color: #d4ebff;}#sk-container-id-3 input.sk-hidden--visually {border: 0;clip: rect(1px 1px 1px 1px);clip: rect(1px, 1px, 1px, 1px);height: 1px;margin: -1px;overflow: hidden;padding: 0;position: absolute;width: 1px;}#sk-container-id-3 div.sk-estimator {font-family: monospace;background-color: #f0f8ff;border: 1px dotted black;border-radius: 0.25em;box-sizing: border-box;margin-bottom: 0.5em;}#sk-container-id-3 div.sk-estimator:hover {background-color: #d4ebff;}#sk-container-id-3 div.sk-parallel-item::after {content: \"\";width: 100%;border-bottom: 1px solid gray;flex-grow: 1;}#sk-container-id-3 div.sk-label:hover label.sk-toggleable__label {background-color: #d4ebff;}#sk-container-id-3 div.sk-serial::before {content: \"\";position: absolute;border-left: 1px solid gray;box-sizing: border-box;top: 0;bottom: 0;left: 50%;z-index: 0;}#sk-container-id-3 div.sk-serial {display: flex;flex-direction: column;align-items: center;background-color: white;padding-right: 0.2em;padding-left: 0.2em;position: relative;}#sk-container-id-3 div.sk-item {position: relative;z-index: 1;}#sk-container-id-3 div.sk-parallel {display: flex;align-items: stretch;justify-content: center;background-color: white;position: relative;}#sk-container-id-3 div.sk-item::before, #sk-container-id-3 div.sk-parallel-item::before {content: \"\";position: absolute;border-left: 1px solid gray;box-sizing: border-box;top: 0;bottom: 0;left: 50%;z-index: -1;}#sk-container-id-3 div.sk-parallel-item {display: flex;flex-direction: column;z-index: 1;position: relative;background-color: white;}#sk-container-id-3 div.sk-parallel-item:first-child::after {align-self: flex-end;width: 50%;}#sk-container-id-3 div.sk-parallel-item:last-child::after {align-self: flex-start;width: 50%;}#sk-container-id-3 div.sk-parallel-item:only-child::after {width: 0;}#sk-container-id-3 div.sk-dashed-wrapped {border: 1px dashed gray;margin: 0 0.4em 0.5em 0.4em;box-sizing: border-box;padding-bottom: 0.4em;background-color: white;}#sk-container-id-3 div.sk-label label {font-family: monospace;font-weight: bold;display: inline-block;line-height: 1.2em;}#sk-container-id-3 div.sk-label-container {text-align: center;}#sk-container-id-3 div.sk-container {/* jupyter's `normalize.less` sets `[hidden] { display: none; }` but bootstrap.min.css set `[hidden] { display: none !important; }` so we also need the `!important` here to be able to override the default hidden behavior on the sphinx rendered scikit-learn.org. See: https://github.com/scikit-learn/scikit-learn/issues/21755 */display: inline-block !important;position: relative;}#sk-container-id-3 div.sk-text-repr-fallback {display: none;}</style><div id=\"sk-container-id-3\" class=\"sk-top-container\"><div class=\"sk-text-repr-fallback\"><pre>SVC()</pre><b>In a Jupyter environment, please rerun this cell to show the HTML representation or trust the notebook. <br />On GitHub, the HTML representation is unable to render, please try loading this page with nbviewer.org.</b></div><div class=\"sk-container\" hidden><div class=\"sk-item\"><div class=\"sk-estimator sk-toggleable\"><input class=\"sk-toggleable__control sk-hidden--visually\" id=\"sk-estimator-id-3\" type=\"checkbox\" checked><label for=\"sk-estimator-id-3\" class=\"sk-toggleable__label sk-toggleable__label-arrow\">SVC</label><div class=\"sk-toggleable__content\"><pre>SVC()</pre></div></div></div></div></div>"
            ]
          },
          "metadata": {},
          "execution_count": 89
        }
      ]
    },
    {
      "cell_type": "code",
      "source": [
        "y_prev = svc.predict(X_test)\n",
        "print(y_prev)"
      ],
      "metadata": {
        "colab": {
          "base_uri": "https://localhost:8080/"
        },
        "id": "AnZSaftlzn0u",
        "outputId": "80f0ccc5-4183-422a-e391-85ef1a4617db"
      },
      "execution_count": 95,
      "outputs": [
        {
          "output_type": "stream",
          "name": "stdout",
          "text": [
            "[0 0 0 ... 0 0 0]\n"
          ]
        }
      ]
    },
    {
      "cell_type": "code",
      "source": [
        "accuracy = accuracy_score(y_test, y_prev)\n",
        "precision = precision_score(y_test, y_prev, average = 'weighted')\n",
        "recall = recall_score(y_test, y_prev, average = 'weighted')\n",
        "f1 = f1_score(y_test, y_prev, average = 'weighted')\n",
        "cm = confusion_matrix(y_test, y_prev)\n",
        "\n",
        "print(f'Accuracy Score:\\n{accuracy}\\n')\n",
        "print(f'F1 Score:\\n{f1}\\n')\n",
        "print(f'Recall Score:\\n{recall}\\n')\n",
        "print(f'Confusion Matrix:\\n{cm}\\n')"
      ],
      "metadata": {
        "colab": {
          "base_uri": "https://localhost:8080/"
        },
        "id": "OzdLgA4_znrB",
        "outputId": "897d933b-d83a-4c8d-9e59-35068961c067"
      },
      "execution_count": 100,
      "outputs": [
        {
          "output_type": "stream",
          "name": "stdout",
          "text": [
            "Accuracy Score:\n",
            "0.8182614407707467\n",
            "\n",
            "F1 Score:\n",
            "0.800678045487958\n",
            "\n",
            "Recall Score:\n",
            "0.8182614407707467\n",
            "\n",
            "Confusion Matrix:\n",
            "[[6514  372]\n",
            " [1288  960]]\n",
            "\n"
          ]
        }
      ]
    },
    {
      "cell_type": "markdown",
      "source": [
        "#### 4.2.4 Decision Tree (Árvore de Decisão)"
      ],
      "metadata": {
        "id": "ufly9v2tkrhT"
      }
    },
    {
      "cell_type": "code",
      "source": [
        "modelo = DecisionTreeClassifier(random_state = 1, max_depth = 8, max_leaf_nodes = 2)\n",
        "modelo.fit(X_train, y_train)"
      ],
      "metadata": {
        "colab": {
          "base_uri": "https://localhost:8080/",
          "height": 75
        },
        "id": "DrGMtdDK771b",
        "outputId": "4a49b7b4-fcc8-4995-dffd-46fe962a25ac"
      },
      "execution_count": 107,
      "outputs": [
        {
          "output_type": "execute_result",
          "data": {
            "text/plain": [
              "DecisionTreeClassifier(max_depth=8, max_leaf_nodes=2, random_state=1)"
            ],
            "text/html": [
              "<style>#sk-container-id-5 {color: black;background-color: white;}#sk-container-id-5 pre{padding: 0;}#sk-container-id-5 div.sk-toggleable {background-color: white;}#sk-container-id-5 label.sk-toggleable__label {cursor: pointer;display: block;width: 100%;margin-bottom: 0;padding: 0.3em;box-sizing: border-box;text-align: center;}#sk-container-id-5 label.sk-toggleable__label-arrow:before {content: \"▸\";float: left;margin-right: 0.25em;color: #696969;}#sk-container-id-5 label.sk-toggleable__label-arrow:hover:before {color: black;}#sk-container-id-5 div.sk-estimator:hover label.sk-toggleable__label-arrow:before {color: black;}#sk-container-id-5 div.sk-toggleable__content {max-height: 0;max-width: 0;overflow: hidden;text-align: left;background-color: #f0f8ff;}#sk-container-id-5 div.sk-toggleable__content pre {margin: 0.2em;color: black;border-radius: 0.25em;background-color: #f0f8ff;}#sk-container-id-5 input.sk-toggleable__control:checked~div.sk-toggleable__content {max-height: 200px;max-width: 100%;overflow: auto;}#sk-container-id-5 input.sk-toggleable__control:checked~label.sk-toggleable__label-arrow:before {content: \"▾\";}#sk-container-id-5 div.sk-estimator input.sk-toggleable__control:checked~label.sk-toggleable__label {background-color: #d4ebff;}#sk-container-id-5 div.sk-label input.sk-toggleable__control:checked~label.sk-toggleable__label {background-color: #d4ebff;}#sk-container-id-5 input.sk-hidden--visually {border: 0;clip: rect(1px 1px 1px 1px);clip: rect(1px, 1px, 1px, 1px);height: 1px;margin: -1px;overflow: hidden;padding: 0;position: absolute;width: 1px;}#sk-container-id-5 div.sk-estimator {font-family: monospace;background-color: #f0f8ff;border: 1px dotted black;border-radius: 0.25em;box-sizing: border-box;margin-bottom: 0.5em;}#sk-container-id-5 div.sk-estimator:hover {background-color: #d4ebff;}#sk-container-id-5 div.sk-parallel-item::after {content: \"\";width: 100%;border-bottom: 1px solid gray;flex-grow: 1;}#sk-container-id-5 div.sk-label:hover label.sk-toggleable__label {background-color: #d4ebff;}#sk-container-id-5 div.sk-serial::before {content: \"\";position: absolute;border-left: 1px solid gray;box-sizing: border-box;top: 0;bottom: 0;left: 50%;z-index: 0;}#sk-container-id-5 div.sk-serial {display: flex;flex-direction: column;align-items: center;background-color: white;padding-right: 0.2em;padding-left: 0.2em;position: relative;}#sk-container-id-5 div.sk-item {position: relative;z-index: 1;}#sk-container-id-5 div.sk-parallel {display: flex;align-items: stretch;justify-content: center;background-color: white;position: relative;}#sk-container-id-5 div.sk-item::before, #sk-container-id-5 div.sk-parallel-item::before {content: \"\";position: absolute;border-left: 1px solid gray;box-sizing: border-box;top: 0;bottom: 0;left: 50%;z-index: -1;}#sk-container-id-5 div.sk-parallel-item {display: flex;flex-direction: column;z-index: 1;position: relative;background-color: white;}#sk-container-id-5 div.sk-parallel-item:first-child::after {align-self: flex-end;width: 50%;}#sk-container-id-5 div.sk-parallel-item:last-child::after {align-self: flex-start;width: 50%;}#sk-container-id-5 div.sk-parallel-item:only-child::after {width: 0;}#sk-container-id-5 div.sk-dashed-wrapped {border: 1px dashed gray;margin: 0 0.4em 0.5em 0.4em;box-sizing: border-box;padding-bottom: 0.4em;background-color: white;}#sk-container-id-5 div.sk-label label {font-family: monospace;font-weight: bold;display: inline-block;line-height: 1.2em;}#sk-container-id-5 div.sk-label-container {text-align: center;}#sk-container-id-5 div.sk-container {/* jupyter's `normalize.less` sets `[hidden] { display: none; }` but bootstrap.min.css set `[hidden] { display: none !important; }` so we also need the `!important` here to be able to override the default hidden behavior on the sphinx rendered scikit-learn.org. See: https://github.com/scikit-learn/scikit-learn/issues/21755 */display: inline-block !important;position: relative;}#sk-container-id-5 div.sk-text-repr-fallback {display: none;}</style><div id=\"sk-container-id-5\" class=\"sk-top-container\"><div class=\"sk-text-repr-fallback\"><pre>DecisionTreeClassifier(max_depth=8, max_leaf_nodes=2, random_state=1)</pre><b>In a Jupyter environment, please rerun this cell to show the HTML representation or trust the notebook. <br />On GitHub, the HTML representation is unable to render, please try loading this page with nbviewer.org.</b></div><div class=\"sk-container\" hidden><div class=\"sk-item\"><div class=\"sk-estimator sk-toggleable\"><input class=\"sk-toggleable__control sk-hidden--visually\" id=\"sk-estimator-id-5\" type=\"checkbox\" checked><label for=\"sk-estimator-id-5\" class=\"sk-toggleable__label sk-toggleable__label-arrow\">DecisionTreeClassifier</label><div class=\"sk-toggleable__content\"><pre>DecisionTreeClassifier(max_depth=8, max_leaf_nodes=2, random_state=1)</pre></div></div></div></div></div>"
            ]
          },
          "metadata": {},
          "execution_count": 107
        }
      ]
    },
    {
      "cell_type": "code",
      "source": [
        "y_prev = modelo.predict(X_test)"
      ],
      "metadata": {
        "id": "InfsoRrr77wG"
      },
      "execution_count": 108,
      "outputs": []
    },
    {
      "cell_type": "code",
      "source": [
        "accuracy = accuracy_score(y_test, y_prev)\n",
        "precision = precision_score(y_test, y_prev, average = 'weighted', zero_division = 1)\n",
        "recall = recall_score(y_test, y_prev, average = 'weighted')\n",
        "f1 = f1_score(y_test, y_prev, average = 'weighted')\n",
        "cm = confusion_matrix(y_test, y_prev)\n",
        "\n",
        "print(f'Accuracy Score:\\n{accuracy}\\n')\n",
        "print(f'F1 Score:\\n{f1}\\n')\n",
        "print(f'Recall Score:\\n{recall}\\n')\n",
        "print(f'Confusion Matrix:\\n{cm}\\n')"
      ],
      "metadata": {
        "colab": {
          "base_uri": "https://localhost:8080/"
        },
        "id": "zMUle2PH77tT",
        "outputId": "198840db-cdfa-4b4f-fbb9-990bf0992775"
      },
      "execution_count": 113,
      "outputs": [
        {
          "output_type": "stream",
          "name": "stdout",
          "text": [
            "Accuracy Score:\n",
            "0.7538865776220713\n",
            "\n",
            "F1 Score:\n",
            "0.6480977495013213\n",
            "\n",
            "Recall Score:\n",
            "0.7538865776220713\n",
            "\n",
            "Confusion Matrix:\n",
            "[[6886    0]\n",
            " [2248    0]]\n",
            "\n"
          ]
        }
      ]
    },
    {
      "cell_type": "markdown",
      "source": [
        "#### 4.2.5. Neural Networks (Redes Neurais)"
      ],
      "metadata": {
        "id": "H1sWWGWSmBtI"
      }
    },
    {
      "cell_type": "code",
      "source": [
        "model = Sequential()\n",
        "model.add(Dense(units = 64, activation = 'relu', input_dim = X_train.shape[1]))\n",
        "model.add(Dropout(0.4))\n",
        "model.add(Dense(units = 32, activation = 'relu'))\n",
        "model.add(Dropout(0.4))\n",
        "model.add(Dense(units = 64, activation = 'relu'))\n",
        "model.add(Dropout(0.4))\n",
        "model.add(Dense(units = 1, activation = 'sigmoid'))"
      ],
      "metadata": {
        "id": "OUwlKwTJjgRQ"
      },
      "execution_count": 124,
      "outputs": []
    },
    {
      "cell_type": "code",
      "source": [
        "model.compile(optimizer = 'adam', loss = 'binary_crossentropy', metrics = ['accuracy'])\n",
        "model.fit(X_train, y_train, epochs = 100, batch_size = 32)"
      ],
      "metadata": {
        "colab": {
          "base_uri": "https://localhost:8080/"
        },
        "id": "JbewBDtA_CjG",
        "outputId": "57f6d60c-3912-4837-ed97-3b3d896402ab"
      },
      "execution_count": 125,
      "outputs": [
        {
          "output_type": "stream",
          "name": "stdout",
          "text": [
            "Epoch 1/100\n",
            "1012/1012 [==============================] - 3s 3ms/step - loss: 0.3808 - accuracy: 0.8228\n",
            "Epoch 2/100\n",
            "1012/1012 [==============================] - 2s 2ms/step - loss: 0.3802 - accuracy: 0.8222\n",
            "Epoch 3/100\n",
            "1012/1012 [==============================] - 2s 2ms/step - loss: 0.3791 - accuracy: 0.8238\n",
            "Epoch 4/100\n",
            "1012/1012 [==============================] - 6s 6ms/step - loss: 0.3819 - accuracy: 0.8199\n",
            "Epoch 5/100\n",
            "1012/1012 [==============================] - 2s 2ms/step - loss: 0.3810 - accuracy: 0.8205\n",
            "Epoch 6/100\n",
            "1012/1012 [==============================] - 3s 2ms/step - loss: 0.3809 - accuracy: 0.8230\n",
            "Epoch 7/100\n",
            "1012/1012 [==============================] - 2s 2ms/step - loss: 0.3819 - accuracy: 0.8214\n",
            "Epoch 8/100\n",
            "1012/1012 [==============================] - 3s 3ms/step - loss: 0.3812 - accuracy: 0.8225\n",
            "Epoch 9/100\n",
            "1012/1012 [==============================] - 2s 2ms/step - loss: 0.3805 - accuracy: 0.8214\n",
            "Epoch 10/100\n",
            "1012/1012 [==============================] - 2s 2ms/step - loss: 0.3804 - accuracy: 0.8223\n",
            "Epoch 11/100\n",
            "1012/1012 [==============================] - 2s 2ms/step - loss: 0.3803 - accuracy: 0.8221\n",
            "Epoch 12/100\n",
            "1012/1012 [==============================] - 2s 2ms/step - loss: 0.3804 - accuracy: 0.8226\n",
            "Epoch 13/100\n",
            "1012/1012 [==============================] - 3s 3ms/step - loss: 0.3797 - accuracy: 0.8213\n",
            "Epoch 14/100\n",
            "1012/1012 [==============================] - 2s 2ms/step - loss: 0.3800 - accuracy: 0.8226\n",
            "Epoch 15/100\n",
            "1012/1012 [==============================] - 2s 2ms/step - loss: 0.3798 - accuracy: 0.8220\n",
            "Epoch 16/100\n",
            "1012/1012 [==============================] - 2s 2ms/step - loss: 0.3821 - accuracy: 0.8230\n",
            "Epoch 17/100\n",
            "1012/1012 [==============================] - 2s 2ms/step - loss: 0.3813 - accuracy: 0.8220\n",
            "Epoch 18/100\n",
            "1012/1012 [==============================] - 3s 3ms/step - loss: 0.3818 - accuracy: 0.8213\n",
            "Epoch 19/100\n",
            "1012/1012 [==============================] - 3s 3ms/step - loss: 0.3808 - accuracy: 0.8224\n",
            "Epoch 20/100\n",
            "1012/1012 [==============================] - 2s 2ms/step - loss: 0.3794 - accuracy: 0.8219\n",
            "Epoch 21/100\n",
            "1012/1012 [==============================] - 2s 2ms/step - loss: 0.3802 - accuracy: 0.8223\n",
            "Epoch 22/100\n",
            "1012/1012 [==============================] - 3s 3ms/step - loss: 0.3788 - accuracy: 0.8217\n",
            "Epoch 23/100\n",
            "1012/1012 [==============================] - 3s 3ms/step - loss: 0.3811 - accuracy: 0.8204\n",
            "Epoch 24/100\n",
            "1012/1012 [==============================] - 2s 2ms/step - loss: 0.3796 - accuracy: 0.8226\n",
            "Epoch 25/100\n",
            "1012/1012 [==============================] - 2s 2ms/step - loss: 0.3804 - accuracy: 0.8221\n",
            "Epoch 26/100\n",
            "1012/1012 [==============================] - 6s 6ms/step - loss: 0.3807 - accuracy: 0.8226\n",
            "Epoch 27/100\n",
            "1012/1012 [==============================] - 5s 5ms/step - loss: 0.3808 - accuracy: 0.8224\n",
            "Epoch 28/100\n",
            "1012/1012 [==============================] - 4s 4ms/step - loss: 0.3799 - accuracy: 0.8204\n",
            "Epoch 29/100\n",
            "1012/1012 [==============================] - 7s 7ms/step - loss: 0.3802 - accuracy: 0.8231\n",
            "Epoch 30/100\n",
            "1012/1012 [==============================] - 6s 6ms/step - loss: 0.3794 - accuracy: 0.8238\n",
            "Epoch 31/100\n",
            "1012/1012 [==============================] - 5s 5ms/step - loss: 0.3763 - accuracy: 0.8236\n",
            "Epoch 32/100\n",
            "1012/1012 [==============================] - 2s 2ms/step - loss: 0.3810 - accuracy: 0.8188\n",
            "Epoch 33/100\n",
            "1012/1012 [==============================] - 2s 2ms/step - loss: 0.3791 - accuracy: 0.8239\n",
            "Epoch 34/100\n",
            "1012/1012 [==============================] - 2s 2ms/step - loss: 0.3784 - accuracy: 0.8230\n",
            "Epoch 35/100\n",
            "1012/1012 [==============================] - 2s 2ms/step - loss: 0.3767 - accuracy: 0.8224\n",
            "Epoch 36/100\n",
            "1012/1012 [==============================] - 3s 3ms/step - loss: 0.3790 - accuracy: 0.8221\n",
            "Epoch 37/100\n",
            "1012/1012 [==============================] - 4s 4ms/step - loss: 0.3795 - accuracy: 0.8223\n",
            "Epoch 38/100\n",
            "1012/1012 [==============================] - 2s 2ms/step - loss: 0.3820 - accuracy: 0.8225\n",
            "Epoch 39/100\n",
            "1012/1012 [==============================] - 2s 2ms/step - loss: 0.3797 - accuracy: 0.8216\n",
            "Epoch 40/100\n",
            "1012/1012 [==============================] - 3s 3ms/step - loss: 0.3802 - accuracy: 0.8220\n",
            "Epoch 41/100\n",
            "1012/1012 [==============================] - 3s 3ms/step - loss: 0.3804 - accuracy: 0.8218\n",
            "Epoch 42/100\n",
            "1012/1012 [==============================] - 2s 2ms/step - loss: 0.3799 - accuracy: 0.8230\n",
            "Epoch 43/100\n",
            "1012/1012 [==============================] - 2s 2ms/step - loss: 0.3796 - accuracy: 0.8226\n",
            "Epoch 44/100\n",
            "1012/1012 [==============================] - 2s 2ms/step - loss: 0.3797 - accuracy: 0.8236\n",
            "Epoch 45/100\n",
            "1012/1012 [==============================] - 3s 3ms/step - loss: 0.3795 - accuracy: 0.8234\n",
            "Epoch 46/100\n",
            "1012/1012 [==============================] - 3s 3ms/step - loss: 0.3807 - accuracy: 0.8218\n",
            "Epoch 47/100\n",
            "1012/1012 [==============================] - 2s 2ms/step - loss: 0.3796 - accuracy: 0.8219\n",
            "Epoch 48/100\n",
            "1012/1012 [==============================] - 2s 2ms/step - loss: 0.3796 - accuracy: 0.8227\n",
            "Epoch 49/100\n",
            "1012/1012 [==============================] - 2s 2ms/step - loss: 0.3800 - accuracy: 0.8218\n",
            "Epoch 50/100\n",
            "1012/1012 [==============================] - 3s 3ms/step - loss: 0.3794 - accuracy: 0.8207\n",
            "Epoch 51/100\n",
            "1012/1012 [==============================] - 3s 3ms/step - loss: 0.3795 - accuracy: 0.8238\n",
            "Epoch 52/100\n",
            "1012/1012 [==============================] - 2s 2ms/step - loss: 0.3794 - accuracy: 0.8209\n",
            "Epoch 53/100\n",
            "1012/1012 [==============================] - 2s 2ms/step - loss: 0.3797 - accuracy: 0.8199\n",
            "Epoch 54/100\n",
            "1012/1012 [==============================] - 2s 2ms/step - loss: 0.3788 - accuracy: 0.8223\n",
            "Epoch 55/100\n",
            "1012/1012 [==============================] - 3s 3ms/step - loss: 0.3785 - accuracy: 0.8237\n",
            "Epoch 56/100\n",
            "1012/1012 [==============================] - 3s 3ms/step - loss: 0.3774 - accuracy: 0.8238\n",
            "Epoch 57/100\n",
            "1012/1012 [==============================] - 2s 2ms/step - loss: 0.3791 - accuracy: 0.8214\n",
            "Epoch 58/100\n",
            "1012/1012 [==============================] - 2s 2ms/step - loss: 0.3795 - accuracy: 0.8228\n",
            "Epoch 59/100\n",
            "1012/1012 [==============================] - 2s 2ms/step - loss: 0.3790 - accuracy: 0.8226\n",
            "Epoch 60/100\n",
            "1012/1012 [==============================] - 3s 3ms/step - loss: 0.3803 - accuracy: 0.8237\n",
            "Epoch 61/100\n",
            "1012/1012 [==============================] - 3s 3ms/step - loss: 0.3795 - accuracy: 0.8229\n",
            "Epoch 62/100\n",
            "1012/1012 [==============================] - 3s 3ms/step - loss: 0.3799 - accuracy: 0.8232\n",
            "Epoch 63/100\n",
            "1012/1012 [==============================] - 3s 2ms/step - loss: 0.3790 - accuracy: 0.8226\n",
            "Epoch 64/100\n",
            "1012/1012 [==============================] - 2s 2ms/step - loss: 0.3785 - accuracy: 0.8216\n",
            "Epoch 65/100\n",
            "1012/1012 [==============================] - 3s 3ms/step - loss: 0.3791 - accuracy: 0.8235\n",
            "Epoch 66/100\n",
            "1012/1012 [==============================] - 2s 2ms/step - loss: 0.3794 - accuracy: 0.8221\n",
            "Epoch 67/100\n",
            "1012/1012 [==============================] - 2s 2ms/step - loss: 0.3803 - accuracy: 0.8219\n",
            "Epoch 68/100\n",
            "1012/1012 [==============================] - 2s 2ms/step - loss: 0.3796 - accuracy: 0.8225\n",
            "Epoch 69/100\n",
            "1012/1012 [==============================] - 2s 2ms/step - loss: 0.3779 - accuracy: 0.8228\n",
            "Epoch 70/100\n",
            "1012/1012 [==============================] - 3s 3ms/step - loss: 0.3776 - accuracy: 0.8218\n",
            "Epoch 71/100\n",
            "1012/1012 [==============================] - 2s 2ms/step - loss: 0.3790 - accuracy: 0.8234\n",
            "Epoch 72/100\n",
            "1012/1012 [==============================] - 2s 2ms/step - loss: 0.3783 - accuracy: 0.8217\n",
            "Epoch 73/100\n",
            "1012/1012 [==============================] - 2s 2ms/step - loss: 0.3771 - accuracy: 0.8233\n",
            "Epoch 74/100\n",
            "1012/1012 [==============================] - 3s 3ms/step - loss: 0.3788 - accuracy: 0.8211\n",
            "Epoch 75/100\n",
            "1012/1012 [==============================] - 3s 3ms/step - loss: 0.3792 - accuracy: 0.8234\n",
            "Epoch 76/100\n",
            "1012/1012 [==============================] - 2s 2ms/step - loss: 0.3795 - accuracy: 0.8226\n",
            "Epoch 77/100\n",
            "1012/1012 [==============================] - 2s 2ms/step - loss: 0.3794 - accuracy: 0.8227\n",
            "Epoch 78/100\n",
            "1012/1012 [==============================] - 3s 3ms/step - loss: 0.3777 - accuracy: 0.8235\n",
            "Epoch 79/100\n",
            "1012/1012 [==============================] - 3s 3ms/step - loss: 0.3776 - accuracy: 0.8210\n",
            "Epoch 80/100\n",
            "1012/1012 [==============================] - 3s 3ms/step - loss: 0.3795 - accuracy: 0.8228\n",
            "Epoch 81/100\n",
            "1012/1012 [==============================] - 3s 3ms/step - loss: 0.3778 - accuracy: 0.8234\n",
            "Epoch 82/100\n",
            "1012/1012 [==============================] - 3s 2ms/step - loss: 0.3798 - accuracy: 0.8220\n",
            "Epoch 83/100\n",
            "1012/1012 [==============================] - 2s 2ms/step - loss: 0.3785 - accuracy: 0.8226\n",
            "Epoch 84/100\n",
            "1012/1012 [==============================] - 3s 3ms/step - loss: 0.3777 - accuracy: 0.8241\n",
            "Epoch 85/100\n",
            "1012/1012 [==============================] - 3s 3ms/step - loss: 0.3799 - accuracy: 0.8235\n",
            "Epoch 86/100\n",
            "1012/1012 [==============================] - 3s 3ms/step - loss: 0.3794 - accuracy: 0.8234\n",
            "Epoch 87/100\n",
            "1012/1012 [==============================] - 2s 2ms/step - loss: 0.3793 - accuracy: 0.8235\n",
            "Epoch 88/100\n",
            "1012/1012 [==============================] - 2s 2ms/step - loss: 0.3786 - accuracy: 0.8217\n",
            "Epoch 89/100\n",
            "1012/1012 [==============================] - 4s 4ms/step - loss: 0.3800 - accuracy: 0.8230\n",
            "Epoch 90/100\n",
            "1012/1012 [==============================] - 2s 2ms/step - loss: 0.3777 - accuracy: 0.8218\n",
            "Epoch 91/100\n",
            "1012/1012 [==============================] - 3s 3ms/step - loss: 0.3781 - accuracy: 0.8215\n",
            "Epoch 92/100\n",
            "1012/1012 [==============================] - 3s 3ms/step - loss: 0.3772 - accuracy: 0.8227\n",
            "Epoch 93/100\n",
            "1012/1012 [==============================] - 3s 3ms/step - loss: 0.3790 - accuracy: 0.8215\n",
            "Epoch 94/100\n",
            "1012/1012 [==============================] - 3s 3ms/step - loss: 0.3774 - accuracy: 0.8212\n",
            "Epoch 95/100\n",
            "1012/1012 [==============================] - 3s 3ms/step - loss: 0.3789 - accuracy: 0.8222\n",
            "Epoch 96/100\n",
            "1012/1012 [==============================] - 3s 3ms/step - loss: 0.3793 - accuracy: 0.8236\n",
            "Epoch 97/100\n",
            "1012/1012 [==============================] - 2s 2ms/step - loss: 0.3790 - accuracy: 0.8249\n",
            "Epoch 98/100\n",
            "1012/1012 [==============================] - 4s 3ms/step - loss: 0.3781 - accuracy: 0.8225\n",
            "Epoch 99/100\n",
            "1012/1012 [==============================] - 2s 2ms/step - loss: 0.3790 - accuracy: 0.8230\n",
            "Epoch 100/100\n",
            "1012/1012 [==============================] - 2s 2ms/step - loss: 0.3786 - accuracy: 0.8214\n"
          ]
        }
      ]
    },
    {
      "cell_type": "code",
      "source": [
        "previsoes = model.predict(X_test)\n",
        "previsoes"
      ],
      "metadata": {
        "colab": {
          "base_uri": "https://localhost:8080/"
        },
        "id": "tGwWjzD-_LhT",
        "outputId": "3c6d838e-7acc-4568-873d-d82e76da22a0"
      },
      "execution_count": 126,
      "outputs": [
        {
          "output_type": "stream",
          "name": "stdout",
          "text": [
            "286/286 [==============================] - 1s 2ms/step\n"
          ]
        },
        {
          "output_type": "execute_result",
          "data": {
            "text/plain": [
              "array([[0.50871813],\n",
              "       [0.50907516],\n",
              "       [0.49403048],\n",
              "       ...,\n",
              "       [0.5137208 ],\n",
              "       [0.5028211 ],\n",
              "       [0.50486183]], dtype=float32)"
            ]
          },
          "metadata": {},
          "execution_count": 126
        }
      ]
    },
    {
      "cell_type": "code",
      "source": [
        "y_prev = (previsoes > 0.5).astype('int32')\n",
        "y_prev"
      ],
      "metadata": {
        "colab": {
          "base_uri": "https://localhost:8080/"
        },
        "id": "x6XSU-3OAgII",
        "outputId": "659fe2b8-759a-4846-eeb8-d288db447ea1"
      },
      "execution_count": 127,
      "outputs": [
        {
          "output_type": "execute_result",
          "data": {
            "text/plain": [
              "array([[1],\n",
              "       [1],\n",
              "       [0],\n",
              "       ...,\n",
              "       [1],\n",
              "       [1],\n",
              "       [1]], dtype=int32)"
            ]
          },
          "metadata": {},
          "execution_count": 127
        }
      ]
    },
    {
      "cell_type": "code",
      "source": [
        "accuracy = accuracy_score(y_test, y_prev)\n",
        "precision = precision_score(y_test, y_prev, average = 'weighted', zero_division = 1)\n",
        "recall = recall_score(y_test, y_prev, average = 'weighted')\n",
        "f1 = f1_score(y_test, y_prev, average = 'weighted')\n",
        "cm = confusion_matrix(y_test, y_prev)\n",
        "\n",
        "print(f'Accuracy Score:\\n{accuracy}\\n')\n",
        "print(f'F1 Score:\\n{f1}\\n')\n",
        "print(f'Recall Score:\\n{recall}\\n')\n",
        "print(f'Confusion Matrix:\\n{cm}\\n')"
      ],
      "metadata": {
        "colab": {
          "base_uri": "https://localhost:8080/"
        },
        "id": "FUuYKY5jAlFV",
        "outputId": "84147505-cb18-40f3-e59b-3c9eef244ef7"
      },
      "execution_count": 128,
      "outputs": [
        {
          "output_type": "stream",
          "name": "stdout",
          "text": [
            "Accuracy Score:\n",
            "0.44701116706809724\n",
            "\n",
            "F1 Score:\n",
            "0.47940363591795876\n",
            "\n",
            "Recall Score:\n",
            "0.44701116706809724\n",
            "\n",
            "Confusion Matrix:\n",
            "[[2805 4081]\n",
            " [ 970 1278]]\n",
            "\n"
          ]
        }
      ]
    }
  ]
}