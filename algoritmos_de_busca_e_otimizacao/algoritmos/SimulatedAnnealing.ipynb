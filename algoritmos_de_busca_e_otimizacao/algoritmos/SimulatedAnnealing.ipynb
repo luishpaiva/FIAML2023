{
  "nbformat": 4,
  "nbformat_minor": 0,
  "metadata": {
    "colab": {
      "provenance": []
    },
    "kernelspec": {
      "name": "python3",
      "display_name": "Python 3"
    },
    "language_info": {
      "name": "python"
    }
  },
  "cells": [
    {
      "cell_type": "code",
      "execution_count": 1,
      "metadata": {
        "id": "z5DTrufGpaar"
      },
      "outputs": [],
      "source": [
        "import numpy as np\n",
        "from scipy.optimize import basinhopping"
      ]
    },
    {
      "cell_type": "code",
      "source": [
        "def rosenbrock(x):\n",
        "  return (1 - x[0])**2 + 100 * (x[1] - x[0]**2)**2"
      ],
      "metadata": {
        "id": "SncVx0qiqnYU"
      },
      "execution_count": 2,
      "outputs": []
    },
    {
      "cell_type": "code",
      "source": [
        "bounds = [(-2, 2), (-2, 2)]\n",
        "\n",
        "x0 = np.array([0, 0])\n",
        "\n",
        "options = {\n",
        "    'stepsize': 0.5,\n",
        "    'T': 1.0,\n",
        "    'niter': 100,\n",
        "    'disp': False\n",
        "    }\n",
        "\n",
        "result = basinhopping(rosenbrock, x0, minimizer_kwargs = {'bounds': bounds}, **options)\n",
        "\n",
        "print(result)"
      ],
      "metadata": {
        "colab": {
          "base_uri": "https://localhost:8080/"
        },
        "id": "J3-scdt2rHYz",
        "outputId": "c5d8c303-d39c-46b6-fb8e-e07962b2d104"
      },
      "execution_count": 3,
      "outputs": [
        {
          "output_type": "stream",
          "name": "stdout",
          "text": [
            "                    message: ['requested number of basinhopping iterations completed successfully']\n",
            "                    success: True\n",
            "                        fun: 1.0851539961136264e-12\n",
            "                          x: [ 1.000e+00  1.000e+00]\n",
            "                        nit: 100\n",
            "      minimization_failures: 0\n",
            "                       nfev: 6411\n",
            "                       njev: 2137\n",
            " lowest_optimization_result:  message: CONVERGENCE: REL_REDUCTION_OF_F_<=_FACTR*EPSMCH\n",
            "                              success: True\n",
            "                               status: 0\n",
            "                                  fun: 1.0851539961136264e-12\n",
            "                                    x: [ 1.000e+00  1.000e+00]\n",
            "                                  nit: 20\n",
            "                                  jac: [ 2.631e-05 -9.245e-06]\n",
            "                                 nfev: 72\n",
            "                                 njev: 24\n",
            "                             hess_inv: <2x2 LbfgsInvHessProduct with dtype=float64>\n"
          ]
        }
      ]
    }
  ]
}