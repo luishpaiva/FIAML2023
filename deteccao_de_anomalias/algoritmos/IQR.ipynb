{
  "nbformat": 4,
  "nbformat_minor": 0,
  "metadata": {
    "colab": {
      "provenance": []
    },
    "kernelspec": {
      "name": "python3",
      "display_name": "Python 3"
    },
    "language_info": {
      "name": "python"
    }
  },
  "cells": [
    {
      "cell_type": "code",
      "execution_count": 1,
      "metadata": {
        "id": "wUA2N8mbbDJU"
      },
      "outputs": [],
      "source": [
        "import numpy as np"
      ]
    },
    {
      "cell_type": "code",
      "source": [
        "dataset = [1, 2, 3, 4, 5, 6, 7, 8, 9, 100]"
      ],
      "metadata": {
        "id": "98Nx2rrKbQaK"
      },
      "execution_count": 2,
      "outputs": []
    },
    {
      "cell_type": "code",
      "source": [
        "quartil1 = np.percentile(dataset, 25)\n",
        "quartil3 = np.percentile(dataset, 75)\n",
        "\n",
        "iqr = quartil3 - quartil1\n",
        "\n",
        "limiteinferior = quartil1 - 1.5 * iqr\n",
        "limitesuperior = quartil3 + 1.5 * iqr\n",
        "\n",
        "outliers = []\n",
        "\n",
        "for value in dataset:\n",
        "  if (value < limiteinferior or value > limitesuperior):\n",
        "    outliers.append(value)\n",
        "\n",
        "print(\"Anomalias: \", outliers)"
      ],
      "metadata": {
        "colab": {
          "base_uri": "https://localhost:8080/"
        },
        "id": "B67d_yO3bb2a",
        "outputId": "072e1514-0630-4df6-8dad-b88556b8e087"
      },
      "execution_count": 3,
      "outputs": [
        {
          "output_type": "stream",
          "name": "stdout",
          "text": [
            "Anomalias:  [100]\n"
          ]
        }
      ]
    },
    {
      "cell_type": "code",
      "source": [],
      "metadata": {
        "id": "5jfh2_sRcUjc"
      },
      "execution_count": null,
      "outputs": []
    }
  ]
}