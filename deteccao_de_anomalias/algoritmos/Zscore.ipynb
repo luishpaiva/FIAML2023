{
  "nbformat": 4,
  "nbformat_minor": 0,
  "metadata": {
    "colab": {
      "provenance": []
    },
    "kernelspec": {
      "name": "python3",
      "display_name": "Python 3"
    },
    "language_info": {
      "name": "python"
    }
  },
  "cells": [
    {
      "cell_type": "code",
      "execution_count": 1,
      "metadata": {
        "id": "h7xt1SdAZ88w"
      },
      "outputs": [],
      "source": [
        "import numpy as np\n",
        "import scipy.stats as stats"
      ]
    },
    {
      "cell_type": "code",
      "source": [
        "data = np.array([30, 29, 30, 31, 100, 29, 28, 30, 300, 31, 32, 33])"
      ],
      "metadata": {
        "id": "y_rXNpCWaEN2"
      },
      "execution_count": 2,
      "outputs": []
    },
    {
      "cell_type": "code",
      "source": [
        "zscores = stats.zscore(data)\n",
        "print(zscores)"
      ],
      "metadata": {
        "colab": {
          "base_uri": "https://localhost:8080/"
        },
        "id": "7Sw_wk49aS6b",
        "outputId": "fe725164-2c28-4e82-ebcc-b15b4fad26ab"
      },
      "execution_count": 3,
      "outputs": [
        {
          "output_type": "stream",
          "name": "stdout",
          "text": [
            "[-0.37966016 -0.39294273 -0.37966016 -0.36637759  0.55011982 -0.39294273\n",
            " -0.4062253  -0.37966016  3.20663406 -0.36637759 -0.35309502 -0.33981245]\n"
          ]
        }
      ]
    },
    {
      "cell_type": "code",
      "source": [
        "anomalia = data[np.abs(zscores) > 3]\n",
        "print(f'Anomalias Identificadas: {anomalia}')"
      ],
      "metadata": {
        "colab": {
          "base_uri": "https://localhost:8080/"
        },
        "id": "BtPGIjIPad51",
        "outputId": "e7077e2f-8e85-4277-9544-2a25254dc8ab"
      },
      "execution_count": 4,
      "outputs": [
        {
          "output_type": "stream",
          "name": "stdout",
          "text": [
            "Anomalias Identificadas: [300]\n"
          ]
        }
      ]
    },
    {
      "cell_type": "code",
      "source": [],
      "metadata": {
        "id": "_TAK2o3ga2PX"
      },
      "execution_count": null,
      "outputs": []
    }
  ]
}