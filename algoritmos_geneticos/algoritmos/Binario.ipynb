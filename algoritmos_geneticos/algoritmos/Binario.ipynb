{
  "nbformat": 4,
  "nbformat_minor": 0,
  "metadata": {
    "colab": {
      "provenance": []
    },
    "kernelspec": {
      "name": "python3",
      "display_name": "Python 3"
    },
    "language_info": {
      "name": "python"
    }
  },
  "cells": [
    {
      "cell_type": "code",
      "execution_count": null,
      "metadata": {
        "id": "k4YsZSHm-7uv"
      },
      "outputs": [],
      "source": [
        "!pip install pygad"
      ]
    },
    {
      "cell_type": "code",
      "source": [
        "import pygad\n",
        "import numpy as np"
      ],
      "metadata": {
        "id": "9u451LVC_Af8"
      },
      "execution_count": 2,
      "outputs": []
    },
    {
      "cell_type": "code",
      "source": [
        "itens = [\n",
        "    (\"canivete\", 10, 1),\n",
        "    (\"feijão\", 20, 5),\n",
        "    (\"batatas\", 15, 10),\n",
        "    (\"lanterna\", 2, 1),\n",
        "    (\"saco de dormir\", 30, 7),\n",
        "    (\"corda\", 10, 5),\n",
        "    (\"bússula\", 30, 1)\n",
        "    ]\n",
        "\n",
        "limite_peso = 15"
      ],
      "metadata": {
        "id": "at4cbfcn_GAV"
      },
      "execution_count": 4,
      "outputs": []
    },
    {
      "cell_type": "code",
      "source": [
        "def fitness_func(ga_instance, solution, solution_idx):\n",
        "  pontos = 0\n",
        "  peso = 0\n",
        "\n",
        "  for i in range(len(solution)):\n",
        "    if (solution[i] == 1):\n",
        "      pontos += itens[i][1]\n",
        "      peso += itens[i][2]\n",
        "\n",
        "  if (peso > limite_peso):\n",
        "    return -1\n",
        "  return pontos"
      ],
      "metadata": {
        "id": "RqQvsI0nA0ty"
      },
      "execution_count": 5,
      "outputs": []
    },
    {
      "cell_type": "code",
      "source": [
        "ga_instance = pygad.GA(\n",
        "    num_generations = 200,\n",
        "    num_parents_mating = 5,\n",
        "    mutation_num_genes = 1,\n",
        "    fitness_func = fitness_func,\n",
        "    sol_per_pop = 50,\n",
        "    num_genes = len(itens),\n",
        "    gene_type = int,\n",
        "    init_range_low = 0,\n",
        "    init_range_high = 2, # na prática, 1\n",
        ")"
      ],
      "metadata": {
        "id": "cvKTJ7r0A4z0"
      },
      "execution_count": 9,
      "outputs": []
    },
    {
      "cell_type": "code",
      "source": [
        "ga_instance.run()\n",
        "solution, solution_fitness, _ = ga_instance.best_solution()\n",
        "\n",
        "print(\"Melhor solução: \", solution)\n",
        "print(\"Pontos: \", solution_fitness)"
      ],
      "metadata": {
        "colab": {
          "base_uri": "https://localhost:8080/"
        },
        "id": "7jJ5eI00BkWI",
        "outputId": "5068f04c-6a5a-4c4d-a4e4-377d438f308f"
      },
      "execution_count": 10,
      "outputs": [
        {
          "output_type": "stream",
          "name": "stdout",
          "text": [
            "Melhor solução:  [1 1 0 1 1 0 1]\n",
            "Pontos:  92\n"
          ]
        }
      ]
    }
  ]
}