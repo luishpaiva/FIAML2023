{
  "nbformat": 4,
  "nbformat_minor": 0,
  "metadata": {
    "colab": {
      "provenance": []
    },
    "kernelspec": {
      "name": "python3",
      "display_name": "Python 3"
    },
    "language_info": {
      "name": "python"
    }
  },
  "cells": [
    {
      "cell_type": "code",
      "execution_count": 4,
      "metadata": {
        "id": "FpDxzdpevp6E"
      },
      "outputs": [],
      "source": [
        "# 2 * x + 5 = 20\n",
        "\n",
        "import numpy as np\n",
        "\n",
        "def equation_func(solution):\n",
        "  x = solution[0]\n",
        "  equation_output = 2 * x + 5\n",
        "  target_output = 20\n",
        "  fitness = 1.0 / np.abs(equation_output - target_output + 1e-8)\n",
        "  return fitness"
      ]
    },
    {
      "cell_type": "code",
      "source": [
        "lista = [-10, -5, 0, 5, 7.5, 10, 12]\n",
        "\n",
        "for value in lista:\n",
        "  result = equation_func([value])\n",
        "  print(result)"
      ],
      "metadata": {
        "colab": {
          "base_uri": "https://localhost:8080/"
        },
        "id": "BP_YBa0_yeiV",
        "outputId": "15e3d242-94ef-47cb-ebc0-3dc8bacef6d2"
      },
      "execution_count": 8,
      "outputs": [
        {
          "output_type": "stream",
          "name": "stdout",
          "text": [
            "0.028571428579591836\n",
            "0.040000000016\n",
            "0.06666666671111111\n",
            "0.2000000004\n",
            "100000000.0\n",
            "0.1999999996\n",
            "0.1111111109876543\n"
          ]
        }
      ]
    }
  ]
}